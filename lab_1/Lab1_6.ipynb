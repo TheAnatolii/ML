{
  "cells": [
    {
      "cell_type": "markdown",
      "id": "ec6e7d18-6a6e-4a51-a7cd-0a1152604973",
      "metadata": {
        "id": "ec6e7d18-6a6e-4a51-a7cd-0a1152604973"
      },
      "source": [
        "## Лабораторная работа №1 | Вариант 6"
      ]
    },
    {
      "cell_type": "markdown",
      "id": "277877ce-f982-4711-a6a6-2a4a90871409",
      "metadata": {
        "id": "277877ce-f982-4711-a6a6-2a4a90871409"
      },
      "source": [
        "Выполнил: Головенко Анатолий М8О-212Б-22"
      ]
    },
    {
      "cell_type": "markdown",
      "id": "031f025d-84dc-470f-b839-456a76d9636b",
      "metadata": {
        "id": "031f025d-84dc-470f-b839-456a76d9636b"
      },
      "source": [
        "### 1. Numpy"
      ]
    },
    {
      "cell_type": "code",
      "execution_count": 1,
      "id": "8a2c6f8d-e85b-4982-ba6d-77ffdb7d53e8",
      "metadata": {
        "id": "8a2c6f8d-e85b-4982-ba6d-77ffdb7d53e8"
      },
      "outputs": [],
      "source": [
        "import numpy as np"
      ]
    },
    {
      "cell_type": "markdown",
      "id": "6ff3559d-5f3e-4540-9a31-bfb9f42a23da",
      "metadata": {
        "id": "6ff3559d-5f3e-4540-9a31-bfb9f42a23da"
      },
      "source": [
        "1. Создайте единичную матрицу размером 3х3"
      ]
    },
    {
      "cell_type": "code",
      "execution_count": null,
      "id": "752bc586-1e3f-4085-85c3-4068b781314f",
      "metadata": {
        "colab": {
          "base_uri": "https://localhost:8080/"
        },
        "id": "752bc586-1e3f-4085-85c3-4068b781314f",
        "outputId": "a9a264b2-0693-4949-eb3f-510804ddd51f"
      },
      "outputs": [
        {
          "output_type": "execute_result",
          "data": {
            "text/plain": [
              "array([[1., 0., 0.],\n",
              "       [0., 1., 0.],\n",
              "       [0., 0., 1.]])"
            ]
          },
          "metadata": {},
          "execution_count": 3
        }
      ],
      "source": [
        "matr = np.eye(3)\n",
        "matr"
      ]
    },
    {
      "cell_type": "markdown",
      "id": "0243a0f6-1905-4e2d-9572-9ba49dc003a8",
      "metadata": {
        "id": "0243a0f6-1905-4e2d-9572-9ba49dc003a8"
      },
      "source": [
        "2. Создайте матрицу 5х5 со значениями 1, 2, 3, 4 ниже диагонали"
      ]
    },
    {
      "cell_type": "code",
      "execution_count": null,
      "id": "ec6ae581-5adf-459c-bdc7-8b015d9529f6",
      "metadata": {
        "colab": {
          "base_uri": "https://localhost:8080/"
        },
        "id": "ec6ae581-5adf-459c-bdc7-8b015d9529f6",
        "outputId": "62562da9-9359-42f5-839d-07b20dff71a8"
      },
      "outputs": [
        {
          "output_type": "execute_result",
          "data": {
            "text/plain": [
              "array([[0, 0, 0, 0, 0],\n",
              "       [1, 0, 0, 0, 0],\n",
              "       [0, 2, 0, 0, 0],\n",
              "       [0, 0, 3, 0, 0],\n",
              "       [0, 0, 0, 4, 0]])"
            ]
          },
          "metadata": {},
          "execution_count": 6
        }
      ],
      "source": [
        "np.diag([1,2,3,4], k=-1)"
      ]
    },
    {
      "cell_type": "markdown",
      "id": "8c7d3811-a555-4c02-ada8-e4a70b9dee46",
      "metadata": {
        "id": "8c7d3811-a555-4c02-ada8-e4a70b9dee46"
      },
      "source": [
        "3. Какой выход будет у данного скрипта\n",
        "\n",
        "```python\n",
        "# Author: Jake VanderPlas\n",
        "\n",
        "print(sum(range(5),-1))\n",
        "from numpy import *\n",
        "print(sum(range(5),-1))\n",
        "```"
      ]
    },
    {
      "cell_type": "code",
      "execution_count": null,
      "id": "12d0ed34-908c-4840-8b81-457e64dd7b0b",
      "metadata": {
        "collapsed": true,
        "id": "12d0ed34-908c-4840-8b81-457e64dd7b0b"
      },
      "outputs": [],
      "source": [
        "# 1) 9\n",
        "# 2) 10"
      ]
    },
    {
      "cell_type": "markdown",
      "id": "b7ca56e6-a194-4c42-b8a2-307fcf40f648",
      "metadata": {
        "id": "b7ca56e6-a194-4c42-b8a2-307fcf40f648"
      },
      "source": [
        "4. Как найти самое часто встречаемое значение между двумя массивами?"
      ]
    },
    {
      "cell_type": "code",
      "execution_count": null,
      "id": "1b1d64cd-0e28-400f-8d49-a1274947e150",
      "metadata": {
        "colab": {
          "base_uri": "https://localhost:8080/"
        },
        "id": "1b1d64cd-0e28-400f-8d49-a1274947e150",
        "outputId": "41f44cba-7ce7-40c7-adf8-98a6be8f504a"
      },
      "outputs": [
        {
          "output_type": "execute_result",
          "data": {
            "text/plain": [
              "3"
            ]
          },
          "metadata": {},
          "execution_count": 9
        }
      ],
      "source": [
        "arr1 = np.array([1, 2, 3, 4, 5, 3])\n",
        "arr2 = np.array([3, 4, 4, 5, 6, 3])\n",
        "\n",
        "combined = np.concatenate((arr1, arr2))\n",
        "\n",
        "unique, counts = np.unique(combined, return_counts=True)\n",
        "\n",
        "max_index = np.argmax(counts)\n",
        "\n",
        "most_common_value = unique[max_index]\n",
        "most_common_value"
      ]
    },
    {
      "cell_type": "markdown",
      "id": "b3b2cd1e-e996-45e0-b9ed-e12ce653a9c3",
      "metadata": {
        "id": "b3b2cd1e-e996-45e0-b9ed-e12ce653a9c3"
      },
      "source": [
        "5. Как игнорировать все warnings в numpy(не нужно так делать, но покажи)?"
      ]
    },
    {
      "cell_type": "code",
      "execution_count": null,
      "id": "c40ef785-d750-42ba-ac6e-b777866202a6",
      "metadata": {
        "id": "c40ef785-d750-42ba-ac6e-b777866202a6"
      },
      "outputs": [],
      "source": [
        "np.seterr(all='ignore')"
      ]
    },
    {
      "cell_type": "markdown",
      "id": "8108b3a8-5ba8-472d-ad6b-095ade8678ef",
      "metadata": {
        "id": "8108b3a8-5ba8-472d-ad6b-095ade8678ef"
      },
      "source": [
        "6. Реализуем функцию-генератор, которая генерирует 10 целых чисел и используем ее для построения массива"
      ]
    },
    {
      "cell_type": "code",
      "execution_count": null,
      "id": "89b58c0a-bd5d-435a-be45-719fdfce662a",
      "metadata": {
        "colab": {
          "base_uri": "https://localhost:8080/"
        },
        "id": "89b58c0a-bd5d-435a-be45-719fdfce662a",
        "outputId": "b63684ed-ca81-40ea-a920-5e2ff9615682"
      },
      "outputs": [
        {
          "output_type": "execute_result",
          "data": {
            "text/plain": [
              "array([0, 1, 2, 3, 4, 5, 6, 7, 8, 9])"
            ]
          },
          "metadata": {},
          "execution_count": 3
        }
      ],
      "source": [
        "lst = np.arange(10)\n",
        "lst"
      ]
    },
    {
      "cell_type": "markdown",
      "id": "98511652-db85-4506-a5b8-f94b05d35ce9",
      "metadata": {
        "id": "98511652-db85-4506-a5b8-f94b05d35ce9"
      },
      "source": [
        "7. Создайте массив случайных чисел размером 10 и отсортируйте его"
      ]
    },
    {
      "cell_type": "code",
      "execution_count": null,
      "id": "ca72cdb0-ed24-460d-81a9-220b850d62c3",
      "metadata": {
        "colab": {
          "base_uri": "https://localhost:8080/"
        },
        "id": "ca72cdb0-ed24-460d-81a9-220b850d62c3",
        "outputId": "d8cb28a2-305d-4ba6-fa43-aaf458433e00"
      },
      "outputs": [
        {
          "output_type": "execute_result",
          "data": {
            "text/plain": [
              "array([0.05889654, 0.17788694, 0.25443782, 0.36743567, 0.4477704 ,\n",
              "       0.60194912, 0.6778059 , 0.72768992, 0.90690687, 0.99266622])"
            ]
          },
          "metadata": {},
          "execution_count": 10
        }
      ],
      "source": [
        "lst_2 = np.sort(np.random.random(10))\n",
        "lst_2"
      ]
    },
    {
      "cell_type": "markdown",
      "id": "1412a70a-2a1e-406e-a227-afc9a47ed659",
      "metadata": {
        "id": "1412a70a-2a1e-406e-a227-afc9a47ed659"
      },
      "source": [
        "8. Создайте случайную матрицу 10х2 которая представляет собой декартовые координаты и преобразуйте их в полярные"
      ]
    },
    {
      "cell_type": "code",
      "execution_count": null,
      "id": "22bb8bbf-52dd-4d3c-86c0-c4e9637b909b",
      "metadata": {
        "colab": {
          "base_uri": "https://localhost:8080/"
        },
        "id": "22bb8bbf-52dd-4d3c-86c0-c4e9637b909b",
        "outputId": "8c2e5168-6250-4d57-86bb-89278429306c"
      },
      "outputs": [
        {
          "output_type": "stream",
          "name": "stdout",
          "text": [
            "[[0.69469725 0.79918872]\n",
            " [0.38251307 0.01137784]\n",
            " [0.021566   0.93877173]\n",
            " [0.5975071  0.30055893]\n",
            " [0.85719878 0.3096471 ]\n",
            " [0.53300618 0.84776639]\n",
            " [0.19602376 0.30957792]\n",
            " [0.33986158 0.93066427]\n",
            " [0.7643458  0.3451911 ]\n",
            " [0.53245124 0.10679211]]\n",
            "[[1.05891778 0.85523051]\n",
            " [0.38268225 0.0297362 ]\n",
            " [0.93901941 1.54782779]\n",
            " [0.66884258 0.46606191]\n",
            " [0.91141158 0.34664526]\n",
            " [1.00140074 1.0095277 ]\n",
            " [0.36642025 1.00632436]\n",
            " [0.99077842 1.22066113]\n",
            " [0.83867836 0.42419731]\n",
            " [0.54305514 0.19794063]]\n"
          ]
        }
      ],
      "source": [
        "rand_matr = np.random.rand(10, 2)\n",
        "print(rand_matr)\n",
        "r = np.sqrt(rand_matr[:, 0] ** 2 + rand_matr[:, 1] ** 2)\n",
        "theta = np.arctan2(rand_matr[:, 1], rand_matr[:, 0])\n",
        "\n",
        "# print(r)\n",
        "# print(theta)\n",
        "\n",
        "new_coord = np.column_stack((r, theta))\n",
        "print(new_coord)"
      ]
    },
    {
      "cell_type": "markdown",
      "id": "f7dc66bf-f7c8-4d78-834b-451651f6839a",
      "metadata": {
        "id": "f7dc66bf-f7c8-4d78-834b-451651f6839a"
      },
      "source": [
        "9. Создайте структурированный массив который будет описывать пиксель(координату x, y и цвет r,g,b)"
      ]
    },
    {
      "cell_type": "code",
      "execution_count": null,
      "id": "0ecf5586-d30e-4256-ab93-7ff9bab0b34b",
      "metadata": {
        "colab": {
          "base_uri": "https://localhost:8080/"
        },
        "id": "0ecf5586-d30e-4256-ab93-7ff9bab0b34b",
        "outputId": "d72e3eff-0827-4373-d478-d5af3ab7ae69"
      },
      "outputs": [
        {
          "output_type": "stream",
          "name": "stdout",
          "text": [
            "[(10,  20, 255,   0,   0) (30,  40,   0, 255,   0)\n",
            " (50,  60,   0,   0, 255) (70,  80, 255, 255,   0)\n",
            " (90, 100, 255, 255, 255)]\n",
            "[255   0   0 255 255]\n"
          ]
        }
      ],
      "source": [
        "pixel_dtype = np.dtype([\n",
        "    ('x', np.int32),        # координата x\n",
        "    ('y', np.int32),        # координата y\n",
        "    ('r', np.uint8),        # значение красного канала\n",
        "    ('g', np.uint8),        # значение зеленого канала\n",
        "    ('b', np.uint8)         # значение синего канала\n",
        "])\n",
        "\n",
        "pixels = np.array([\n",
        "    (10, 20, 255, 0, 0),\n",
        "    (30, 40, 0, 255, 0),\n",
        "    (50, 60, 0, 0, 255),\n",
        "    (70, 80, 255, 255, 0),\n",
        "    (90, 100, 255, 255, 255)\n",
        "], dtype=pixel_dtype)\n",
        "\n",
        "print(pixels)\n",
        "print(pixels['r'])"
      ]
    },
    {
      "cell_type": "markdown",
      "id": "a66194f1-0099-4808-8ebf-5cf10eee5071",
      "metadata": {
        "id": "a66194f1-0099-4808-8ebf-5cf10eee5071"
      },
      "source": [
        "10. Как конвертировать тип массив от float32 в int32 in place?"
      ]
    },
    {
      "cell_type": "code",
      "execution_count": 26,
      "id": "07ed452c-3f7c-40a7-a5b5-716602a5eed9",
      "metadata": {
        "colab": {
          "base_uri": "https://localhost:8080/"
        },
        "id": "07ed452c-3f7c-40a7-a5b5-716602a5eed9",
        "outputId": "c6cf651e-586a-45e2-e17a-71e93c66053f"
      },
      "outputs": [
        {
          "output_type": "stream",
          "name": "stdout",
          "text": [
            "[  67.9 1892.    12.4]\n",
            "[  67 1892   12]\n",
            "int32\n"
          ]
        }
      ],
      "source": [
        "arr = np.array([\n",
        "    67.9,\n",
        "    1892.0,\n",
        "    12.4\n",
        "], dtype=np.float32)\n",
        "print(arr)\n",
        "\n",
        "arr = arr.astype(np.int32)#, copy=False)\n",
        "\n",
        "print(arr)\n",
        "print(arr.dtype)"
      ]
    },
    {
      "cell_type": "markdown",
      "id": "5bd0f757-bb01-4afb-b4f0-6821b5c5b2b7",
      "metadata": {
        "id": "5bd0f757-bb01-4afb-b4f0-6821b5c5b2b7"
      },
      "source": [
        "### 2. Pandas"
      ]
    },
    {
      "cell_type": "markdown",
      "id": "bdffd013-e573-4318-8062-65ae1c5e07e8",
      "metadata": {
        "id": "bdffd013-e573-4318-8062-65ae1c5e07e8"
      },
      "source": [
        "Найдите ответы на вопросы или выполните действия с предложенным датасетом\n",
        "\n",
        "Набор данных описывает эффективность учеников в зависимости от некоторых факторов влияющих на обучение и окружение человека.\n",
        "\n",
        "Файл: `student_perfomance.csv`\n",
        "\n",
        "```\n",
        "Hours_Studied - количество часов затраченное на обучение в неделю\n",
        "Attendance - поцент посещенных занятий\n",
        "Parental_Involvement - уровень участия родителей в обучении учащегося\n",
        "Access_to_Resources - доступность ресурсов для обучения\n",
        "Extracurricular_Activities - участие во внеклассных мероприятиях\n",
        "Sleep_Hours - количество часов выделяемое на сон в день\n",
        "Previous_Scores - оценка за первый экзамен\n",
        "Motivation_Level - уровень мотивации\n",
        "Internet_Access - доступ к интернету\n",
        "Tutoring_Sessions - количество посещаемых репетиторских занятий в месяц.\n",
        "Family_Income - доход семьи\n",
        "Teacher_Quality - насколько качественно преподает учитель\n",
        "School_Type - тип школы(частная, обычная)\n",
        "Peer_Influence - влияние сверстников\n",
        "Physical_Activity - физическая активность\n",
        "Learning_Disabilities - наличие проблем с обучаемостью\n",
        "Parental_Education_Level - уровень образования родителей\n",
        "Distance_from_Home - дистанция от дома до школы\n",
        "Gender - пол\n",
        "Exam_Score - оценка на конечном экзамене\n",
        "```"
      ]
    },
    {
      "cell_type": "code",
      "execution_count": 2,
      "id": "0778ec2b-a7b2-4738-b771-bb1781986f62",
      "metadata": {
        "id": "0778ec2b-a7b2-4738-b771-bb1781986f62"
      },
      "outputs": [],
      "source": [
        "import pandas as pd"
      ]
    },
    {
      "cell_type": "code",
      "execution_count": 3,
      "id": "bfc45614-d44b-49bd-a55c-c410a95a808f",
      "metadata": {
        "id": "bfc45614-d44b-49bd-a55c-c410a95a808f"
      },
      "outputs": [],
      "source": [
        "# Load dataset here\n",
        "df = pd.read_csv('student_perfomance.csv')"
      ]
    },
    {
      "cell_type": "code",
      "source": [
        "df.head()"
      ],
      "metadata": {
        "colab": {
          "base_uri": "https://localhost:8080/",
          "height": 224
        },
        "id": "AeoS4j1B0DGC",
        "outputId": "39ec8b23-2f48-4ac5-a029-f3512c863de9"
      },
      "id": "AeoS4j1B0DGC",
      "execution_count": 4,
      "outputs": [
        {
          "output_type": "execute_result",
          "data": {
            "text/plain": [
              "   Hours_Studied  Attendance Parental_Involvement Access_to_Resources  \\\n",
              "0             23          84                  Low                High   \n",
              "1             19          64                  Low              Medium   \n",
              "2             24          98               Medium              Medium   \n",
              "3             29          89                  Low              Medium   \n",
              "4             19          92               Medium              Medium   \n",
              "\n",
              "  Extracurricular_Activities  Sleep_Hours  Previous_Scores Motivation_Level  \\\n",
              "0                         No            7               73              Low   \n",
              "1                         No            8               59              Low   \n",
              "2                        Yes            7               91           Medium   \n",
              "3                        Yes            8               98           Medium   \n",
              "4                        Yes            6               65           Medium   \n",
              "\n",
              "  Internet_Access  Tutoring_Sessions Family_Income Teacher_Quality  \\\n",
              "0             Yes                  0           Low          Medium   \n",
              "1             Yes                  2        Medium          Medium   \n",
              "2             Yes                  2        Medium          Medium   \n",
              "3             Yes                  1        Medium          Medium   \n",
              "4             Yes                  3        Medium            High   \n",
              "\n",
              "  School_Type Peer_Influence  Physical_Activity Learning_Disabilities  \\\n",
              "0      Public       Positive                  3                    No   \n",
              "1      Public       Negative                  4                    No   \n",
              "2      Public        Neutral                  4                    No   \n",
              "3      Public       Negative                  4                    No   \n",
              "4      Public        Neutral                  4                    No   \n",
              "\n",
              "  Parental_Education_Level Distance_from_Home  Gender  Exam_Score  \n",
              "0              High School               Near    Male          67  \n",
              "1                  College           Moderate  Female          61  \n",
              "2             Postgraduate               Near    Male          74  \n",
              "3              High School           Moderate    Male          71  \n",
              "4                  College               Near  Female          70  "
            ],
            "text/html": [
              "\n",
              "  <div id=\"df-a0254fab-34f3-4648-a40e-c13fd423ad94\" class=\"colab-df-container\">\n",
              "    <div>\n",
              "<style scoped>\n",
              "    .dataframe tbody tr th:only-of-type {\n",
              "        vertical-align: middle;\n",
              "    }\n",
              "\n",
              "    .dataframe tbody tr th {\n",
              "        vertical-align: top;\n",
              "    }\n",
              "\n",
              "    .dataframe thead th {\n",
              "        text-align: right;\n",
              "    }\n",
              "</style>\n",
              "<table border=\"1\" class=\"dataframe\">\n",
              "  <thead>\n",
              "    <tr style=\"text-align: right;\">\n",
              "      <th></th>\n",
              "      <th>Hours_Studied</th>\n",
              "      <th>Attendance</th>\n",
              "      <th>Parental_Involvement</th>\n",
              "      <th>Access_to_Resources</th>\n",
              "      <th>Extracurricular_Activities</th>\n",
              "      <th>Sleep_Hours</th>\n",
              "      <th>Previous_Scores</th>\n",
              "      <th>Motivation_Level</th>\n",
              "      <th>Internet_Access</th>\n",
              "      <th>Tutoring_Sessions</th>\n",
              "      <th>Family_Income</th>\n",
              "      <th>Teacher_Quality</th>\n",
              "      <th>School_Type</th>\n",
              "      <th>Peer_Influence</th>\n",
              "      <th>Physical_Activity</th>\n",
              "      <th>Learning_Disabilities</th>\n",
              "      <th>Parental_Education_Level</th>\n",
              "      <th>Distance_from_Home</th>\n",
              "      <th>Gender</th>\n",
              "      <th>Exam_Score</th>\n",
              "    </tr>\n",
              "  </thead>\n",
              "  <tbody>\n",
              "    <tr>\n",
              "      <th>0</th>\n",
              "      <td>23</td>\n",
              "      <td>84</td>\n",
              "      <td>Low</td>\n",
              "      <td>High</td>\n",
              "      <td>No</td>\n",
              "      <td>7</td>\n",
              "      <td>73</td>\n",
              "      <td>Low</td>\n",
              "      <td>Yes</td>\n",
              "      <td>0</td>\n",
              "      <td>Low</td>\n",
              "      <td>Medium</td>\n",
              "      <td>Public</td>\n",
              "      <td>Positive</td>\n",
              "      <td>3</td>\n",
              "      <td>No</td>\n",
              "      <td>High School</td>\n",
              "      <td>Near</td>\n",
              "      <td>Male</td>\n",
              "      <td>67</td>\n",
              "    </tr>\n",
              "    <tr>\n",
              "      <th>1</th>\n",
              "      <td>19</td>\n",
              "      <td>64</td>\n",
              "      <td>Low</td>\n",
              "      <td>Medium</td>\n",
              "      <td>No</td>\n",
              "      <td>8</td>\n",
              "      <td>59</td>\n",
              "      <td>Low</td>\n",
              "      <td>Yes</td>\n",
              "      <td>2</td>\n",
              "      <td>Medium</td>\n",
              "      <td>Medium</td>\n",
              "      <td>Public</td>\n",
              "      <td>Negative</td>\n",
              "      <td>4</td>\n",
              "      <td>No</td>\n",
              "      <td>College</td>\n",
              "      <td>Moderate</td>\n",
              "      <td>Female</td>\n",
              "      <td>61</td>\n",
              "    </tr>\n",
              "    <tr>\n",
              "      <th>2</th>\n",
              "      <td>24</td>\n",
              "      <td>98</td>\n",
              "      <td>Medium</td>\n",
              "      <td>Medium</td>\n",
              "      <td>Yes</td>\n",
              "      <td>7</td>\n",
              "      <td>91</td>\n",
              "      <td>Medium</td>\n",
              "      <td>Yes</td>\n",
              "      <td>2</td>\n",
              "      <td>Medium</td>\n",
              "      <td>Medium</td>\n",
              "      <td>Public</td>\n",
              "      <td>Neutral</td>\n",
              "      <td>4</td>\n",
              "      <td>No</td>\n",
              "      <td>Postgraduate</td>\n",
              "      <td>Near</td>\n",
              "      <td>Male</td>\n",
              "      <td>74</td>\n",
              "    </tr>\n",
              "    <tr>\n",
              "      <th>3</th>\n",
              "      <td>29</td>\n",
              "      <td>89</td>\n",
              "      <td>Low</td>\n",
              "      <td>Medium</td>\n",
              "      <td>Yes</td>\n",
              "      <td>8</td>\n",
              "      <td>98</td>\n",
              "      <td>Medium</td>\n",
              "      <td>Yes</td>\n",
              "      <td>1</td>\n",
              "      <td>Medium</td>\n",
              "      <td>Medium</td>\n",
              "      <td>Public</td>\n",
              "      <td>Negative</td>\n",
              "      <td>4</td>\n",
              "      <td>No</td>\n",
              "      <td>High School</td>\n",
              "      <td>Moderate</td>\n",
              "      <td>Male</td>\n",
              "      <td>71</td>\n",
              "    </tr>\n",
              "    <tr>\n",
              "      <th>4</th>\n",
              "      <td>19</td>\n",
              "      <td>92</td>\n",
              "      <td>Medium</td>\n",
              "      <td>Medium</td>\n",
              "      <td>Yes</td>\n",
              "      <td>6</td>\n",
              "      <td>65</td>\n",
              "      <td>Medium</td>\n",
              "      <td>Yes</td>\n",
              "      <td>3</td>\n",
              "      <td>Medium</td>\n",
              "      <td>High</td>\n",
              "      <td>Public</td>\n",
              "      <td>Neutral</td>\n",
              "      <td>4</td>\n",
              "      <td>No</td>\n",
              "      <td>College</td>\n",
              "      <td>Near</td>\n",
              "      <td>Female</td>\n",
              "      <td>70</td>\n",
              "    </tr>\n",
              "  </tbody>\n",
              "</table>\n",
              "</div>\n",
              "    <div class=\"colab-df-buttons\">\n",
              "\n",
              "  <div class=\"colab-df-container\">\n",
              "    <button class=\"colab-df-convert\" onclick=\"convertToInteractive('df-a0254fab-34f3-4648-a40e-c13fd423ad94')\"\n",
              "            title=\"Convert this dataframe to an interactive table.\"\n",
              "            style=\"display:none;\">\n",
              "\n",
              "  <svg xmlns=\"http://www.w3.org/2000/svg\" height=\"24px\" viewBox=\"0 -960 960 960\">\n",
              "    <path d=\"M120-120v-720h720v720H120Zm60-500h600v-160H180v160Zm220 220h160v-160H400v160Zm0 220h160v-160H400v160ZM180-400h160v-160H180v160Zm440 0h160v-160H620v160ZM180-180h160v-160H180v160Zm440 0h160v-160H620v160Z\"/>\n",
              "  </svg>\n",
              "    </button>\n",
              "\n",
              "  <style>\n",
              "    .colab-df-container {\n",
              "      display:flex;\n",
              "      gap: 12px;\n",
              "    }\n",
              "\n",
              "    .colab-df-convert {\n",
              "      background-color: #E8F0FE;\n",
              "      border: none;\n",
              "      border-radius: 50%;\n",
              "      cursor: pointer;\n",
              "      display: none;\n",
              "      fill: #1967D2;\n",
              "      height: 32px;\n",
              "      padding: 0 0 0 0;\n",
              "      width: 32px;\n",
              "    }\n",
              "\n",
              "    .colab-df-convert:hover {\n",
              "      background-color: #E2EBFA;\n",
              "      box-shadow: 0px 1px 2px rgba(60, 64, 67, 0.3), 0px 1px 3px 1px rgba(60, 64, 67, 0.15);\n",
              "      fill: #174EA6;\n",
              "    }\n",
              "\n",
              "    .colab-df-buttons div {\n",
              "      margin-bottom: 4px;\n",
              "    }\n",
              "\n",
              "    [theme=dark] .colab-df-convert {\n",
              "      background-color: #3B4455;\n",
              "      fill: #D2E3FC;\n",
              "    }\n",
              "\n",
              "    [theme=dark] .colab-df-convert:hover {\n",
              "      background-color: #434B5C;\n",
              "      box-shadow: 0px 1px 3px 1px rgba(0, 0, 0, 0.15);\n",
              "      filter: drop-shadow(0px 1px 2px rgba(0, 0, 0, 0.3));\n",
              "      fill: #FFFFFF;\n",
              "    }\n",
              "  </style>\n",
              "\n",
              "    <script>\n",
              "      const buttonEl =\n",
              "        document.querySelector('#df-a0254fab-34f3-4648-a40e-c13fd423ad94 button.colab-df-convert');\n",
              "      buttonEl.style.display =\n",
              "        google.colab.kernel.accessAllowed ? 'block' : 'none';\n",
              "\n",
              "      async function convertToInteractive(key) {\n",
              "        const element = document.querySelector('#df-a0254fab-34f3-4648-a40e-c13fd423ad94');\n",
              "        const dataTable =\n",
              "          await google.colab.kernel.invokeFunction('convertToInteractive',\n",
              "                                                    [key], {});\n",
              "        if (!dataTable) return;\n",
              "\n",
              "        const docLinkHtml = 'Like what you see? Visit the ' +\n",
              "          '<a target=\"_blank\" href=https://colab.research.google.com/notebooks/data_table.ipynb>data table notebook</a>'\n",
              "          + ' to learn more about interactive tables.';\n",
              "        element.innerHTML = '';\n",
              "        dataTable['output_type'] = 'display_data';\n",
              "        await google.colab.output.renderOutput(dataTable, element);\n",
              "        const docLink = document.createElement('div');\n",
              "        docLink.innerHTML = docLinkHtml;\n",
              "        element.appendChild(docLink);\n",
              "      }\n",
              "    </script>\n",
              "  </div>\n",
              "\n",
              "\n",
              "<div id=\"df-f8191fda-a3fe-46cc-b57a-88f541c3c940\">\n",
              "  <button class=\"colab-df-quickchart\" onclick=\"quickchart('df-f8191fda-a3fe-46cc-b57a-88f541c3c940')\"\n",
              "            title=\"Suggest charts\"\n",
              "            style=\"display:none;\">\n",
              "\n",
              "<svg xmlns=\"http://www.w3.org/2000/svg\" height=\"24px\"viewBox=\"0 0 24 24\"\n",
              "     width=\"24px\">\n",
              "    <g>\n",
              "        <path d=\"M19 3H5c-1.1 0-2 .9-2 2v14c0 1.1.9 2 2 2h14c1.1 0 2-.9 2-2V5c0-1.1-.9-2-2-2zM9 17H7v-7h2v7zm4 0h-2V7h2v10zm4 0h-2v-4h2v4z\"/>\n",
              "    </g>\n",
              "</svg>\n",
              "  </button>\n",
              "\n",
              "<style>\n",
              "  .colab-df-quickchart {\n",
              "      --bg-color: #E8F0FE;\n",
              "      --fill-color: #1967D2;\n",
              "      --hover-bg-color: #E2EBFA;\n",
              "      --hover-fill-color: #174EA6;\n",
              "      --disabled-fill-color: #AAA;\n",
              "      --disabled-bg-color: #DDD;\n",
              "  }\n",
              "\n",
              "  [theme=dark] .colab-df-quickchart {\n",
              "      --bg-color: #3B4455;\n",
              "      --fill-color: #D2E3FC;\n",
              "      --hover-bg-color: #434B5C;\n",
              "      --hover-fill-color: #FFFFFF;\n",
              "      --disabled-bg-color: #3B4455;\n",
              "      --disabled-fill-color: #666;\n",
              "  }\n",
              "\n",
              "  .colab-df-quickchart {\n",
              "    background-color: var(--bg-color);\n",
              "    border: none;\n",
              "    border-radius: 50%;\n",
              "    cursor: pointer;\n",
              "    display: none;\n",
              "    fill: var(--fill-color);\n",
              "    height: 32px;\n",
              "    padding: 0;\n",
              "    width: 32px;\n",
              "  }\n",
              "\n",
              "  .colab-df-quickchart:hover {\n",
              "    background-color: var(--hover-bg-color);\n",
              "    box-shadow: 0 1px 2px rgba(60, 64, 67, 0.3), 0 1px 3px 1px rgba(60, 64, 67, 0.15);\n",
              "    fill: var(--button-hover-fill-color);\n",
              "  }\n",
              "\n",
              "  .colab-df-quickchart-complete:disabled,\n",
              "  .colab-df-quickchart-complete:disabled:hover {\n",
              "    background-color: var(--disabled-bg-color);\n",
              "    fill: var(--disabled-fill-color);\n",
              "    box-shadow: none;\n",
              "  }\n",
              "\n",
              "  .colab-df-spinner {\n",
              "    border: 2px solid var(--fill-color);\n",
              "    border-color: transparent;\n",
              "    border-bottom-color: var(--fill-color);\n",
              "    animation:\n",
              "      spin 1s steps(1) infinite;\n",
              "  }\n",
              "\n",
              "  @keyframes spin {\n",
              "    0% {\n",
              "      border-color: transparent;\n",
              "      border-bottom-color: var(--fill-color);\n",
              "      border-left-color: var(--fill-color);\n",
              "    }\n",
              "    20% {\n",
              "      border-color: transparent;\n",
              "      border-left-color: var(--fill-color);\n",
              "      border-top-color: var(--fill-color);\n",
              "    }\n",
              "    30% {\n",
              "      border-color: transparent;\n",
              "      border-left-color: var(--fill-color);\n",
              "      border-top-color: var(--fill-color);\n",
              "      border-right-color: var(--fill-color);\n",
              "    }\n",
              "    40% {\n",
              "      border-color: transparent;\n",
              "      border-right-color: var(--fill-color);\n",
              "      border-top-color: var(--fill-color);\n",
              "    }\n",
              "    60% {\n",
              "      border-color: transparent;\n",
              "      border-right-color: var(--fill-color);\n",
              "    }\n",
              "    80% {\n",
              "      border-color: transparent;\n",
              "      border-right-color: var(--fill-color);\n",
              "      border-bottom-color: var(--fill-color);\n",
              "    }\n",
              "    90% {\n",
              "      border-color: transparent;\n",
              "      border-bottom-color: var(--fill-color);\n",
              "    }\n",
              "  }\n",
              "</style>\n",
              "\n",
              "  <script>\n",
              "    async function quickchart(key) {\n",
              "      const quickchartButtonEl =\n",
              "        document.querySelector('#' + key + ' button');\n",
              "      quickchartButtonEl.disabled = true;  // To prevent multiple clicks.\n",
              "      quickchartButtonEl.classList.add('colab-df-spinner');\n",
              "      try {\n",
              "        const charts = await google.colab.kernel.invokeFunction(\n",
              "            'suggestCharts', [key], {});\n",
              "      } catch (error) {\n",
              "        console.error('Error during call to suggestCharts:', error);\n",
              "      }\n",
              "      quickchartButtonEl.classList.remove('colab-df-spinner');\n",
              "      quickchartButtonEl.classList.add('colab-df-quickchart-complete');\n",
              "    }\n",
              "    (() => {\n",
              "      let quickchartButtonEl =\n",
              "        document.querySelector('#df-f8191fda-a3fe-46cc-b57a-88f541c3c940 button');\n",
              "      quickchartButtonEl.style.display =\n",
              "        google.colab.kernel.accessAllowed ? 'block' : 'none';\n",
              "    })();\n",
              "  </script>\n",
              "</div>\n",
              "    </div>\n",
              "  </div>\n"
            ],
            "application/vnd.google.colaboratory.intrinsic+json": {
              "type": "dataframe",
              "variable_name": "df",
              "summary": "{\n  \"name\": \"df\",\n  \"rows\": 6607,\n  \"fields\": [\n    {\n      \"column\": \"Hours_Studied\",\n      \"properties\": {\n        \"dtype\": \"number\",\n        \"std\": 5,\n        \"min\": 1,\n        \"max\": 44,\n        \"num_unique_values\": 41,\n        \"samples\": [\n          27,\n          20,\n          10\n        ],\n        \"semantic_type\": \"\",\n        \"description\": \"\"\n      }\n    },\n    {\n      \"column\": \"Attendance\",\n      \"properties\": {\n        \"dtype\": \"number\",\n        \"std\": 11,\n        \"min\": 60,\n        \"max\": 100,\n        \"num_unique_values\": 41,\n        \"samples\": [\n          72,\n          60,\n          80\n        ],\n        \"semantic_type\": \"\",\n        \"description\": \"\"\n      }\n    },\n    {\n      \"column\": \"Parental_Involvement\",\n      \"properties\": {\n        \"dtype\": \"category\",\n        \"num_unique_values\": 3,\n        \"samples\": [\n          \"Low\",\n          \"Medium\",\n          \"High\"\n        ],\n        \"semantic_type\": \"\",\n        \"description\": \"\"\n      }\n    },\n    {\n      \"column\": \"Access_to_Resources\",\n      \"properties\": {\n        \"dtype\": \"category\",\n        \"num_unique_values\": 3,\n        \"samples\": [\n          \"High\",\n          \"Medium\",\n          \"Low\"\n        ],\n        \"semantic_type\": \"\",\n        \"description\": \"\"\n      }\n    },\n    {\n      \"column\": \"Extracurricular_Activities\",\n      \"properties\": {\n        \"dtype\": \"category\",\n        \"num_unique_values\": 2,\n        \"samples\": [\n          \"Yes\",\n          \"No\"\n        ],\n        \"semantic_type\": \"\",\n        \"description\": \"\"\n      }\n    },\n    {\n      \"column\": \"Sleep_Hours\",\n      \"properties\": {\n        \"dtype\": \"number\",\n        \"std\": 1,\n        \"min\": 4,\n        \"max\": 10,\n        \"num_unique_values\": 7,\n        \"samples\": [\n          7,\n          8\n        ],\n        \"semantic_type\": \"\",\n        \"description\": \"\"\n      }\n    },\n    {\n      \"column\": \"Previous_Scores\",\n      \"properties\": {\n        \"dtype\": \"number\",\n        \"std\": 14,\n        \"min\": 50,\n        \"max\": 100,\n        \"num_unique_values\": 51,\n        \"samples\": [\n          64,\n          62\n        ],\n        \"semantic_type\": \"\",\n        \"description\": \"\"\n      }\n    },\n    {\n      \"column\": \"Motivation_Level\",\n      \"properties\": {\n        \"dtype\": \"category\",\n        \"num_unique_values\": 3,\n        \"samples\": [\n          \"Low\",\n          \"Medium\"\n        ],\n        \"semantic_type\": \"\",\n        \"description\": \"\"\n      }\n    },\n    {\n      \"column\": \"Internet_Access\",\n      \"properties\": {\n        \"dtype\": \"category\",\n        \"num_unique_values\": 2,\n        \"samples\": [\n          \"No\",\n          \"Yes\"\n        ],\n        \"semantic_type\": \"\",\n        \"description\": \"\"\n      }\n    },\n    {\n      \"column\": \"Tutoring_Sessions\",\n      \"properties\": {\n        \"dtype\": \"number\",\n        \"std\": 1,\n        \"min\": 0,\n        \"max\": 8,\n        \"num_unique_values\": 9,\n        \"samples\": [\n          7,\n          2\n        ],\n        \"semantic_type\": \"\",\n        \"description\": \"\"\n      }\n    },\n    {\n      \"column\": \"Family_Income\",\n      \"properties\": {\n        \"dtype\": \"category\",\n        \"num_unique_values\": 3,\n        \"samples\": [\n          \"Low\",\n          \"Medium\"\n        ],\n        \"semantic_type\": \"\",\n        \"description\": \"\"\n      }\n    },\n    {\n      \"column\": \"Teacher_Quality\",\n      \"properties\": {\n        \"dtype\": \"category\",\n        \"num_unique_values\": 3,\n        \"samples\": [\n          \"Medium\",\n          \"High\"\n        ],\n        \"semantic_type\": \"\",\n        \"description\": \"\"\n      }\n    },\n    {\n      \"column\": \"School_Type\",\n      \"properties\": {\n        \"dtype\": \"category\",\n        \"num_unique_values\": 2,\n        \"samples\": [\n          \"Private\",\n          \"Public\"\n        ],\n        \"semantic_type\": \"\",\n        \"description\": \"\"\n      }\n    },\n    {\n      \"column\": \"Peer_Influence\",\n      \"properties\": {\n        \"dtype\": \"category\",\n        \"num_unique_values\": 3,\n        \"samples\": [\n          \"Positive\",\n          \"Negative\"\n        ],\n        \"semantic_type\": \"\",\n        \"description\": \"\"\n      }\n    },\n    {\n      \"column\": \"Physical_Activity\",\n      \"properties\": {\n        \"dtype\": \"number\",\n        \"std\": 1,\n        \"min\": 0,\n        \"max\": 6,\n        \"num_unique_values\": 7,\n        \"samples\": [\n          3,\n          4\n        ],\n        \"semantic_type\": \"\",\n        \"description\": \"\"\n      }\n    },\n    {\n      \"column\": \"Learning_Disabilities\",\n      \"properties\": {\n        \"dtype\": \"category\",\n        \"num_unique_values\": 2,\n        \"samples\": [\n          \"Yes\",\n          \"No\"\n        ],\n        \"semantic_type\": \"\",\n        \"description\": \"\"\n      }\n    },\n    {\n      \"column\": \"Parental_Education_Level\",\n      \"properties\": {\n        \"dtype\": \"category\",\n        \"num_unique_values\": 3,\n        \"samples\": [\n          \"High School\",\n          \"College\"\n        ],\n        \"semantic_type\": \"\",\n        \"description\": \"\"\n      }\n    },\n    {\n      \"column\": \"Distance_from_Home\",\n      \"properties\": {\n        \"dtype\": \"category\",\n        \"num_unique_values\": 3,\n        \"samples\": [\n          \"Near\",\n          \"Moderate\"\n        ],\n        \"semantic_type\": \"\",\n        \"description\": \"\"\n      }\n    },\n    {\n      \"column\": \"Gender\",\n      \"properties\": {\n        \"dtype\": \"category\",\n        \"num_unique_values\": 2,\n        \"samples\": [\n          \"Female\",\n          \"Male\"\n        ],\n        \"semantic_type\": \"\",\n        \"description\": \"\"\n      }\n    },\n    {\n      \"column\": \"Exam_Score\",\n      \"properties\": {\n        \"dtype\": \"number\",\n        \"std\": 3,\n        \"min\": 55,\n        \"max\": 101,\n        \"num_unique_values\": 45,\n        \"samples\": [\n          96,\n          84\n        ],\n        \"semantic_type\": \"\",\n        \"description\": \"\"\n      }\n    }\n  ]\n}"
            }
          },
          "metadata": {},
          "execution_count": 4
        }
      ]
    },
    {
      "cell_type": "markdown",
      "id": "1026e8c6-513a-41e3-b2f4-68aae18b8435",
      "metadata": {
        "id": "1026e8c6-513a-41e3-b2f4-68aae18b8435"
      },
      "source": [
        "1. Посчитайте среднее кол-во часов уделяемое на сон студентами"
      ]
    },
    {
      "cell_type": "code",
      "execution_count": 5,
      "id": "e74655aa-b97c-42e5-b972-e0753ddc2331",
      "metadata": {
        "id": "e74655aa-b97c-42e5-b972-e0753ddc2331",
        "colab": {
          "base_uri": "https://localhost:8080/"
        },
        "outputId": "eefb2c6c-2c46-4aec-cb0e-1cecc1da9981"
      },
      "outputs": [
        {
          "output_type": "execute_result",
          "data": {
            "text/plain": [
              "7.029060087785682"
            ]
          },
          "metadata": {},
          "execution_count": 5
        }
      ],
      "source": [
        "df['Sleep_Hours'].mean()"
      ]
    },
    {
      "cell_type": "markdown",
      "id": "eee028a5-9311-4a4f-b4ac-1fb75acfb4b3",
      "metadata": {
        "id": "eee028a5-9311-4a4f-b4ac-1fb75acfb4b3"
      },
      "source": [
        "2. Сколько процентов студентов посещают внеклассовые активности?"
      ]
    },
    {
      "cell_type": "code",
      "execution_count": 6,
      "id": "ac0fb641-96d2-4e7c-88d5-636ce3b699d2",
      "metadata": {
        "id": "ac0fb641-96d2-4e7c-88d5-636ce3b699d2",
        "colab": {
          "base_uri": "https://localhost:8080/"
        },
        "outputId": "6ee967ef-6766-4c6f-e380-bf985656645f"
      },
      "outputs": [
        {
          "output_type": "execute_result",
          "data": {
            "text/plain": [
              "59.60345088542455"
            ]
          },
          "metadata": {},
          "execution_count": 6
        }
      ],
      "source": [
        "df[df['Extracurricular_Activities'] == 'Yes'].shape[0] / df.shape[0] * 100"
      ]
    },
    {
      "cell_type": "markdown",
      "id": "cd7979ba-2fa8-4fd3-986d-26cee122da1f",
      "metadata": {
        "id": "cd7979ba-2fa8-4fd3-986d-26cee122da1f"
      },
      "source": [
        "3. Правда ли, что в среднем девушки сдают экзамены лучше, чем мужчины"
      ]
    },
    {
      "cell_type": "code",
      "execution_count": 7,
      "id": "3915f77b-116c-482b-8644-2f5f11931af9",
      "metadata": {
        "id": "3915f77b-116c-482b-8644-2f5f11931af9",
        "colab": {
          "base_uri": "https://localhost:8080/",
          "height": 176
        },
        "outputId": "f4775805-4058-47d1-8b49-b8497529feb0"
      },
      "outputs": [
        {
          "output_type": "execute_result",
          "data": {
            "text/plain": [
              "Gender\n",
              "Female    67.244898\n",
              "Male      67.228894\n",
              "Name: Exam_Score, dtype: float64"
            ],
            "text/html": [
              "<div>\n",
              "<style scoped>\n",
              "    .dataframe tbody tr th:only-of-type {\n",
              "        vertical-align: middle;\n",
              "    }\n",
              "\n",
              "    .dataframe tbody tr th {\n",
              "        vertical-align: top;\n",
              "    }\n",
              "\n",
              "    .dataframe thead th {\n",
              "        text-align: right;\n",
              "    }\n",
              "</style>\n",
              "<table border=\"1\" class=\"dataframe\">\n",
              "  <thead>\n",
              "    <tr style=\"text-align: right;\">\n",
              "      <th></th>\n",
              "      <th>Exam_Score</th>\n",
              "    </tr>\n",
              "    <tr>\n",
              "      <th>Gender</th>\n",
              "      <th></th>\n",
              "    </tr>\n",
              "  </thead>\n",
              "  <tbody>\n",
              "    <tr>\n",
              "      <th>Female</th>\n",
              "      <td>67.244898</td>\n",
              "    </tr>\n",
              "    <tr>\n",
              "      <th>Male</th>\n",
              "      <td>67.228894</td>\n",
              "    </tr>\n",
              "  </tbody>\n",
              "</table>\n",
              "</div><br><label><b>dtype:</b> float64</label>"
            ]
          },
          "metadata": {},
          "execution_count": 7
        }
      ],
      "source": [
        "gender_df = df.groupby(['Gender'])['Exam_Score'].mean()\n",
        "gender_df.head()"
      ]
    },
    {
      "cell_type": "markdown",
      "id": "1b69ba67-61a8-4765-9795-cfab1a09e929",
      "metadata": {
        "id": "1b69ba67-61a8-4765-9795-cfab1a09e929"
      },
      "source": [
        "4. Выведите 25 и 75 перцентили времени сна студентов"
      ]
    },
    {
      "cell_type": "code",
      "execution_count": 8,
      "id": "1228d2e9-fc56-4240-95c6-c98a8b84c016",
      "metadata": {
        "id": "1228d2e9-fc56-4240-95c6-c98a8b84c016",
        "colab": {
          "base_uri": "https://localhost:8080/"
        },
        "outputId": "bfd1cc09-ec3b-4829-c86f-92593310af48"
      },
      "outputs": [
        {
          "output_type": "execute_result",
          "data": {
            "text/plain": [
              "(6.0, 8.0)"
            ]
          },
          "metadata": {},
          "execution_count": 8
        }
      ],
      "source": [
        "sleep = df['Sleep_Hours'].sort_values()\n",
        "np.percentile(sleep, 25), np.percentile(sleep, 75)"
      ]
    },
    {
      "cell_type": "markdown",
      "id": "5acec4fd-f740-49a8-a5d8-562d358239c9",
      "metadata": {
        "id": "5acec4fd-f740-49a8-a5d8-562d358239c9"
      },
      "source": [
        "5. Правда ли, что те, кто спит больше(75 перцентиль и выше) сдает экзамен лучше, чем студенты с недосыпом(25 перцентиль и меньше)"
      ]
    },
    {
      "cell_type": "code",
      "execution_count": 9,
      "id": "cac8daef-f4e8-4c8b-b7f4-d41a6adf35ed",
      "metadata": {
        "id": "cac8daef-f4e8-4c8b-b7f4-d41a6adf35ed",
        "colab": {
          "base_uri": "https://localhost:8080/"
        },
        "outputId": "54981651-4834-401b-ae8b-494b63be0703"
      },
      "outputs": [
        {
          "output_type": "stream",
          "name": "stdout",
          "text": [
            "Средний балл у тех, кто спит меньше (≤ 25 перцентиля): 67.28109243697479\n",
            "Средний балл у тех, кто спит больше (≥ 75 перцентиля): 67.18704746580853\n"
          ]
        }
      ],
      "source": [
        "percentile_25 = df['Sleep_Hours'].quantile(0.25)\n",
        "percentile_75 = df['Sleep_Hours'].quantile(0.75)\n",
        "\n",
        "\n",
        "low_sleep_group = df[df['Sleep_Hours'] <= percentile_25]  # Меньше 25 перцентиля\n",
        "high_sleep_group = df[df['Sleep_Hours'] >= percentile_75] # Больше 75 перцентиля\n",
        "\n",
        "low_sleep_mean = low_sleep_group['Exam_Score'].mean()\n",
        "high_sleep_mean = high_sleep_group['Exam_Score'].mean()\n",
        "\n",
        "print(f\"Средний балл у тех, кто спит меньше (≤ 25 перцентиля): {low_sleep_mean}\")\n",
        "print(f\"Средний балл у тех, кто спит больше (≥ 75 перцентиля): {high_sleep_mean}\")\n"
      ]
    },
    {
      "cell_type": "markdown",
      "id": "8d6171a9-0f75-4f3e-ac54-95d03d1f70b6",
      "metadata": {
        "id": "8d6171a9-0f75-4f3e-ac54-95d03d1f70b6"
      },
      "source": [
        "6. Влияет ли физическая активность на результаты экзамена?"
      ]
    },
    {
      "cell_type": "code",
      "execution_count": 10,
      "id": "c64d0892-2fb8-4304-966c-5cbb32b03c0a",
      "metadata": {
        "id": "c64d0892-2fb8-4304-966c-5cbb32b03c0a",
        "colab": {
          "base_uri": "https://localhost:8080/",
          "height": 331
        },
        "outputId": "9d74a7d4-af89-4402-b1e2-2d471b0cfafb"
      },
      "outputs": [
        {
          "output_type": "execute_result",
          "data": {
            "text/plain": [
              "Physical_Activity\n",
              "0    67.521739\n",
              "1    66.969121\n",
              "2    67.185003\n",
              "3    67.196071\n",
              "4    67.313016\n",
              "5    67.603878\n",
              "6    68.093750\n",
              "Name: Exam_Score, dtype: float64"
            ],
            "text/html": [
              "<div>\n",
              "<style scoped>\n",
              "    .dataframe tbody tr th:only-of-type {\n",
              "        vertical-align: middle;\n",
              "    }\n",
              "\n",
              "    .dataframe tbody tr th {\n",
              "        vertical-align: top;\n",
              "    }\n",
              "\n",
              "    .dataframe thead th {\n",
              "        text-align: right;\n",
              "    }\n",
              "</style>\n",
              "<table border=\"1\" class=\"dataframe\">\n",
              "  <thead>\n",
              "    <tr style=\"text-align: right;\">\n",
              "      <th></th>\n",
              "      <th>Exam_Score</th>\n",
              "    </tr>\n",
              "    <tr>\n",
              "      <th>Physical_Activity</th>\n",
              "      <th></th>\n",
              "    </tr>\n",
              "  </thead>\n",
              "  <tbody>\n",
              "    <tr>\n",
              "      <th>0</th>\n",
              "      <td>67.521739</td>\n",
              "    </tr>\n",
              "    <tr>\n",
              "      <th>1</th>\n",
              "      <td>66.969121</td>\n",
              "    </tr>\n",
              "    <tr>\n",
              "      <th>2</th>\n",
              "      <td>67.185003</td>\n",
              "    </tr>\n",
              "    <tr>\n",
              "      <th>3</th>\n",
              "      <td>67.196071</td>\n",
              "    </tr>\n",
              "    <tr>\n",
              "      <th>4</th>\n",
              "      <td>67.313016</td>\n",
              "    </tr>\n",
              "    <tr>\n",
              "      <th>5</th>\n",
              "      <td>67.603878</td>\n",
              "    </tr>\n",
              "    <tr>\n",
              "      <th>6</th>\n",
              "      <td>68.093750</td>\n",
              "    </tr>\n",
              "  </tbody>\n",
              "</table>\n",
              "</div><br><label><b>dtype:</b> float64</label>"
            ]
          },
          "metadata": {},
          "execution_count": 10
        }
      ],
      "source": [
        "physic = df.groupby(['Physical_Activity'])['Exam_Score'].mean()\n",
        "physic"
      ]
    },
    {
      "cell_type": "markdown",
      "id": "d29320f9-aef8-452c-9d61-0afa72dd93b6",
      "metadata": {
        "id": "d29320f9-aef8-452c-9d61-0afa72dd93b6"
      },
      "source": [
        "7. Правда ли, что слуденты, чьи родители имеют высшее образование, сдают экзамены лучше, чем остальные?"
      ]
    },
    {
      "cell_type": "code",
      "execution_count": 11,
      "id": "d04e1904-f9f3-40bd-abbd-4d53ee9f7bd2",
      "metadata": {
        "id": "d04e1904-f9f3-40bd-abbd-4d53ee9f7bd2",
        "colab": {
          "base_uri": "https://localhost:8080/",
          "height": 207
        },
        "outputId": "eed14030-71c4-4683-fa76-e7270e5d88ba"
      },
      "outputs": [
        {
          "output_type": "execute_result",
          "data": {
            "text/plain": [
              "Parental_Education_Level\n",
              "College         67.315737\n",
              "High School     66.893577\n",
              "Postgraduate    67.970881\n",
              "Name: Exam_Score, dtype: float64"
            ],
            "text/html": [
              "<div>\n",
              "<style scoped>\n",
              "    .dataframe tbody tr th:only-of-type {\n",
              "        vertical-align: middle;\n",
              "    }\n",
              "\n",
              "    .dataframe tbody tr th {\n",
              "        vertical-align: top;\n",
              "    }\n",
              "\n",
              "    .dataframe thead th {\n",
              "        text-align: right;\n",
              "    }\n",
              "</style>\n",
              "<table border=\"1\" class=\"dataframe\">\n",
              "  <thead>\n",
              "    <tr style=\"text-align: right;\">\n",
              "      <th></th>\n",
              "      <th>Exam_Score</th>\n",
              "    </tr>\n",
              "    <tr>\n",
              "      <th>Parental_Education_Level</th>\n",
              "      <th></th>\n",
              "    </tr>\n",
              "  </thead>\n",
              "  <tbody>\n",
              "    <tr>\n",
              "      <th>College</th>\n",
              "      <td>67.315737</td>\n",
              "    </tr>\n",
              "    <tr>\n",
              "      <th>High School</th>\n",
              "      <td>66.893577</td>\n",
              "    </tr>\n",
              "    <tr>\n",
              "      <th>Postgraduate</th>\n",
              "      <td>67.970881</td>\n",
              "    </tr>\n",
              "  </tbody>\n",
              "</table>\n",
              "</div><br><label><b>dtype:</b> float64</label>"
            ]
          },
          "metadata": {},
          "execution_count": 11
        }
      ],
      "source": [
        "# parents = df[['Parental_Education_Level', 'Exam_Score']]\n",
        "# parents = pd.get_dummies(parents, dtype=int)\n",
        "parents = df.groupby(['Parental_Education_Level'])['Exam_Score'].mean()\n",
        "parents.head()"
      ]
    },
    {
      "cell_type": "markdown",
      "id": "1d447d6e-cfde-411c-9078-cd8f41f02d8b",
      "metadata": {
        "id": "1d447d6e-cfde-411c-9078-cd8f41f02d8b"
      },
      "source": [
        "8. Как влияет участие родителей на результаты экзаменов"
      ]
    },
    {
      "cell_type": "code",
      "execution_count": 12,
      "id": "b30df6b1-5eca-43da-a115-1c1a3cbfd899",
      "metadata": {
        "id": "b30df6b1-5eca-43da-a115-1c1a3cbfd899",
        "colab": {
          "base_uri": "https://localhost:8080/",
          "height": 207
        },
        "outputId": "59fcc87b-e91a-4e94-c9a5-dd83d24d8874"
      },
      "outputs": [
        {
          "output_type": "execute_result",
          "data": {
            "text/plain": [
              "Parental_Involvement\n",
              "High      68.092767\n",
              "Low       66.358265\n",
              "Medium    67.098156\n",
              "Name: Exam_Score, dtype: float64"
            ],
            "text/html": [
              "<div>\n",
              "<style scoped>\n",
              "    .dataframe tbody tr th:only-of-type {\n",
              "        vertical-align: middle;\n",
              "    }\n",
              "\n",
              "    .dataframe tbody tr th {\n",
              "        vertical-align: top;\n",
              "    }\n",
              "\n",
              "    .dataframe thead th {\n",
              "        text-align: right;\n",
              "    }\n",
              "</style>\n",
              "<table border=\"1\" class=\"dataframe\">\n",
              "  <thead>\n",
              "    <tr style=\"text-align: right;\">\n",
              "      <th></th>\n",
              "      <th>Exam_Score</th>\n",
              "    </tr>\n",
              "    <tr>\n",
              "      <th>Parental_Involvement</th>\n",
              "      <th></th>\n",
              "    </tr>\n",
              "  </thead>\n",
              "  <tbody>\n",
              "    <tr>\n",
              "      <th>High</th>\n",
              "      <td>68.092767</td>\n",
              "    </tr>\n",
              "    <tr>\n",
              "      <th>Low</th>\n",
              "      <td>66.358265</td>\n",
              "    </tr>\n",
              "    <tr>\n",
              "      <th>Medium</th>\n",
              "      <td>67.098156</td>\n",
              "    </tr>\n",
              "  </tbody>\n",
              "</table>\n",
              "</div><br><label><b>dtype:</b> float64</label>"
            ]
          },
          "metadata": {},
          "execution_count": 12
        }
      ],
      "source": [
        "parents_inf = df.groupby(['Parental_Involvement'])['Exam_Score'].mean()\n",
        "parents_inf.head()"
      ]
    },
    {
      "cell_type": "markdown",
      "id": "c41d5d99-65f7-4d17-82ae-971ec959f327",
      "metadata": {
        "id": "c41d5d99-65f7-4d17-82ae-971ec959f327"
      },
      "source": [
        "9. Правда ли, что в семьях с доходом больше среднего дети сдают экзамены лучше?"
      ]
    },
    {
      "cell_type": "code",
      "execution_count": 13,
      "id": "275bcc04-659b-4521-a9e5-200a5f4ef674",
      "metadata": {
        "id": "275bcc04-659b-4521-a9e5-200a5f4ef674",
        "colab": {
          "base_uri": "https://localhost:8080/",
          "height": 207
        },
        "outputId": "3732e61f-0ce9-4f12-c7b3-e5d638881daa"
      },
      "outputs": [
        {
          "output_type": "execute_result",
          "data": {
            "text/plain": [
              "Family_Income\n",
              "High      67.842396\n",
              "Low       66.848428\n",
              "Medium    67.334959\n",
              "Name: Exam_Score, dtype: float64"
            ],
            "text/html": [
              "<div>\n",
              "<style scoped>\n",
              "    .dataframe tbody tr th:only-of-type {\n",
              "        vertical-align: middle;\n",
              "    }\n",
              "\n",
              "    .dataframe tbody tr th {\n",
              "        vertical-align: top;\n",
              "    }\n",
              "\n",
              "    .dataframe thead th {\n",
              "        text-align: right;\n",
              "    }\n",
              "</style>\n",
              "<table border=\"1\" class=\"dataframe\">\n",
              "  <thead>\n",
              "    <tr style=\"text-align: right;\">\n",
              "      <th></th>\n",
              "      <th>Exam_Score</th>\n",
              "    </tr>\n",
              "    <tr>\n",
              "      <th>Family_Income</th>\n",
              "      <th></th>\n",
              "    </tr>\n",
              "  </thead>\n",
              "  <tbody>\n",
              "    <tr>\n",
              "      <th>High</th>\n",
              "      <td>67.842396</td>\n",
              "    </tr>\n",
              "    <tr>\n",
              "      <th>Low</th>\n",
              "      <td>66.848428</td>\n",
              "    </tr>\n",
              "    <tr>\n",
              "      <th>Medium</th>\n",
              "      <td>67.334959</td>\n",
              "    </tr>\n",
              "  </tbody>\n",
              "</table>\n",
              "</div><br><label><b>dtype:</b> float64</label>"
            ]
          },
          "metadata": {},
          "execution_count": 13
        }
      ],
      "source": [
        "parents_income = df.groupby(['Family_Income'])['Exam_Score'].mean()\n",
        "parents_income.head()"
      ]
    },
    {
      "cell_type": "markdown",
      "id": "a1f7a5c0-259c-4837-a5d1-2dfc05e7c13e",
      "metadata": {
        "id": "a1f7a5c0-259c-4837-a5d1-2dfc05e7c13e"
      },
      "source": [
        "10. Посчитайте долю студентов сдавших экзамен на более чем 70 баллов в семьях с доходом ниже 25го перцентиля и отсутствием доступа к интернету"
      ]
    },
    {
      "cell_type": "code",
      "execution_count": 14,
      "id": "a2da4d57-edb4-4179-8bee-3deda6cd00e6",
      "metadata": {
        "id": "a2da4d57-edb4-4179-8bee-3deda6cd00e6",
        "colab": {
          "base_uri": "https://localhost:8080/"
        },
        "outputId": "7ecc0cd5-837f-4f2d-e9b3-391e17cb75bf"
      },
      "outputs": [
        {
          "output_type": "execute_result",
          "data": {
            "text/plain": [
              "1.0"
            ]
          },
          "metadata": {},
          "execution_count": 14
        }
      ],
      "source": [
        "category_mapping = {'Low': 1, 'Medium': 2, 'High': 3}\n",
        "help = df['Family_Income'].map(category_mapping)\n",
        "\n",
        "perc_25 = help.quantile(0.25)\n",
        "perc_25 #=> Low"
      ]
    },
    {
      "cell_type": "code",
      "source": [
        "df[(df['Exam_Score'] > 70) & (df['Family_Income'] == 'Low') & (df['Internet_Access'] == 'No')].shape[0] \\\n",
        "/ df.shape[0]"
      ],
      "metadata": {
        "colab": {
          "base_uri": "https://localhost:8080/"
        },
        "id": "fcun7Iuu6U5D",
        "outputId": "c53e418f-3328-4fbc-fb4c-b9719d55ed18"
      },
      "id": "fcun7Iuu6U5D",
      "execution_count": 15,
      "outputs": [
        {
          "output_type": "execute_result",
          "data": {
            "text/plain": [
              "0.002573028606023914"
            ]
          },
          "metadata": {},
          "execution_count": 15
        }
      ]
    },
    {
      "cell_type": "markdown",
      "id": "deb4ca3a-3d8a-4205-bee9-d26fd28638b2",
      "metadata": {
        "id": "deb4ca3a-3d8a-4205-bee9-d26fd28638b2"
      },
      "source": [
        "### 3. Визуализация"
      ]
    },
    {
      "cell_type": "markdown",
      "id": "f8941ce1-cbf2-465a-b013-1b84aeb999ef",
      "metadata": {
        "id": "f8941ce1-cbf2-465a-b013-1b84aeb999ef"
      },
      "source": [
        "Используя библиотеки matplotlib/sns/plotly/pandas и набор данных представленный ранее визуализируйте"
      ]
    },
    {
      "cell_type": "code",
      "source": [
        "import matplotlib.pyplot as plt\n",
        "import seaborn as sns"
      ],
      "metadata": {
        "id": "Lf_DcfqPk_tv"
      },
      "id": "Lf_DcfqPk_tv",
      "execution_count": 32,
      "outputs": []
    },
    {
      "cell_type": "markdown",
      "id": "5e98ce6f-8d02-4120-ad85-241494c038d6",
      "metadata": {
        "id": "5e98ce6f-8d02-4120-ad85-241494c038d6"
      },
      "source": [
        "1. Правда ли, что количество часов затрачиваемых на сон распределено примерно нормально?"
      ]
    },
    {
      "cell_type": "code",
      "execution_count": 33,
      "id": "664666b2-17b7-49dd-a3bd-c4be9361755d",
      "metadata": {
        "id": "664666b2-17b7-49dd-a3bd-c4be9361755d",
        "colab": {
          "base_uri": "https://localhost:8080/",
          "height": 498
        },
        "outputId": "f539a6a9-f2bf-418a-a681-25a4f8bdca18"
      },
      "outputs": [
        {
          "output_type": "execute_result",
          "data": {
            "text/plain": [
              "(array([ 309.,  695., 1376., 1741., 1399.,  775.,  312.]),\n",
              " array([ 4.        ,  4.85714286,  5.71428571,  6.57142857,  7.42857143,\n",
              "         8.28571429,  9.14285714, 10.        ]),\n",
              " <BarContainer object of 7 artists>)"
            ]
          },
          "metadata": {},
          "execution_count": 33
        },
        {
          "output_type": "display_data",
          "data": {
            "text/plain": [
              "<Figure size 640x480 with 1 Axes>"
            ],
            "image/png": "[encoded data removed]"
          },
          "metadata": {}
        }
      ],
      "source": [
        "plt.hist(df['Sleep_Hours'], bins=df['Sleep_Hours'].unique().shape[0])"
      ]
    },
    {
      "cell_type": "markdown",
      "id": "4c7500bb-36ca-4ea7-bc3c-4f15afbd4c41",
      "metadata": {
        "id": "4c7500bb-36ca-4ea7-bc3c-4f15afbd4c41"
      },
      "source": [
        "2. Постройте гистограмму распределения количества часов затрачиваемых на обучение среди мальчиков и девочек"
      ]
    },
    {
      "cell_type": "code",
      "execution_count": 34,
      "id": "7325e7f8-5f00-4a82-8184-7064505f7ccd",
      "metadata": {
        "id": "7325e7f8-5f00-4a82-8184-7064505f7ccd",
        "colab": {
          "base_uri": "https://localhost:8080/",
          "height": 430
        },
        "outputId": "9114a051-abfc-49de-f4bb-0d3b60f8fe35"
      },
      "outputs": [
        {
          "output_type": "display_data",
          "data": {
            "text/plain": [
              "<Figure size 640x480 with 1 Axes>"
            ],
            "image/png": "[encoded data removed]"
          },
          "metadata": {}
        }
      ],
      "source": [
        "boys = df[df['Gender'] == 'Male']['Sleep_Hours']\n",
        "plt.hist(boys, bins=7)#boys.unique().shape[0])\n",
        "plt.show()"
      ]
    },
    {
      "cell_type": "code",
      "source": [
        "girls = df[df['Gender'] == 'Female']['Sleep_Hours']\n",
        "plt.hist(girls, bins=7)#boys.unique().shape[0])\n",
        "plt.show()"
      ],
      "metadata": {
        "colab": {
          "base_uri": "https://localhost:8080/",
          "height": 431
        },
        "id": "iHQXsRhRn1Ej",
        "outputId": "7392df64-dadf-4dd3-bd67-e32e2f44395a"
      },
      "id": "iHQXsRhRn1Ej",
      "execution_count": 35,
      "outputs": [
        {
          "output_type": "display_data",
          "data": {
            "text/plain": [
              "<Figure size 640x480 with 1 Axes>"
            ],
            "image/png": "[encoded data removed]"
          },
          "metadata": {}
        }
      ]
    },
    {
      "cell_type": "markdown",
      "id": "efdd0669-36e0-4708-ac6b-ad0d92881113",
      "metadata": {
        "id": "efdd0669-36e0-4708-ac6b-ad0d92881113"
      },
      "source": [
        "3. Как зависит результат конечного экзамена от результата первого экзамена"
      ]
    },
    {
      "cell_type": "code",
      "execution_count": 39,
      "id": "7504a170-04a1-4b86-924d-8d46be16fd3c",
      "metadata": {
        "id": "7504a170-04a1-4b86-924d-8d46be16fd3c",
        "colab": {
          "base_uri": "https://localhost:8080/",
          "height": 564
        },
        "outputId": "68cbaf9d-0b8a-4312-9805-4d187e8558ec"
      },
      "outputs": [
        {
          "output_type": "display_data",
          "data": {
            "text/plain": [
              "<Figure size 800x600 with 1 Axes>"
            ],
            "image/png": "[encoded data removed]"
          },
          "metadata": {}
        }
      ],
      "source": [
        "plt.figure(figsize=(8, 6))\n",
        "plt.scatter(df['Previous_Scores'], df['Exam_Score'], color='b', alpha=0.7)\n",
        "\n",
        "plt.title('Зависимость результата конечного экзамена от результата первого экзамена')\n",
        "plt.xlabel('Previous Scores')\n",
        "plt.ylabel('Exam Score')\n",
        "\n",
        "# Линия тренда для того, чтобы понять зависимость\n",
        "sns.regplot(x='Previous_Scores', y='Exam_Score', data=df, scatter=False, color='black')\n",
        "\n",
        "plt.show()"
      ]
    },
    {
      "cell_type": "markdown",
      "id": "b5839a48-e992-45fc-81ee-59cb5aa79dda",
      "metadata": {
        "id": "b5839a48-e992-45fc-81ee-59cb5aa79dda"
      },
      "source": [
        "4. Постройте box plot отображающий распределение доходов семей детей сдавших экзамены на оценку ниже и выше 50 баллов"
      ]
    },
    {
      "cell_type": "code",
      "execution_count": 42,
      "id": "1a942378-45ea-47a0-bac9-488960491613",
      "metadata": {
        "id": "1a942378-45ea-47a0-bac9-488960491613",
        "colab": {
          "base_uri": "https://localhost:8080/",
          "height": 564
        },
        "outputId": "cc6f8a5d-8534-443e-cf8b-6222f057c17c"
      },
      "outputs": [
        {
          "output_type": "display_data",
          "data": {
            "text/plain": [
              "<Figure size 800x600 with 1 Axes>"
            ],
            "image/png": "[encoded data removed]"
          },
          "metadata": {}
        }
      ],
      "source": [
        "# Создадим новую колонку, которая будет содержать категории: 'Below 50' и 'Above 50'\n",
        "# df['Score_Group'] = df['Exam_Score'].apply(lambda x: 'Below 50' if x < 50 else 'Above 50')\n",
        "\n",
        "# Построение box plot\n",
        "plt.figure(figsize=(8, 6))\n",
        "sns.boxplot(x='Score_Group', y='Family_Income', data=df[df['Score_Group'] == 'Above 50'])\n",
        "\n",
        "# Добавление заголовков\n",
        "plt.title('Распределение доходов семей детей с разными результатами экзамена')\n",
        "plt.xlabel('Результат экзамена')\n",
        "plt.ylabel('Доход семьи')\n",
        "\n",
        "# Отображение графика\n",
        "plt.show()\n"
      ]
    },
    {
      "cell_type": "markdown",
      "id": "d4c97bef-bb64-43cc-a89f-7510174492ec",
      "metadata": {
        "id": "d4c97bef-bb64-43cc-a89f-7510174492ec"
      },
      "source": [
        "5. Правда ли, что количество посещаемых занятий с репетитором в месяц напрямую влияет на балл в конечном экзамене?"
      ]
    },
    {
      "cell_type": "code",
      "execution_count": 49,
      "id": "a1f444af-3544-432c-8dc6-bb74d4cff272",
      "metadata": {
        "id": "a1f444af-3544-432c-8dc6-bb74d4cff272",
        "colab": {
          "base_uri": "https://localhost:8080/",
          "height": 564
        },
        "outputId": "73537f2c-eb7f-47ad-b126-1c6ce6dd2b0b"
      },
      "outputs": [
        {
          "output_type": "display_data",
          "data": {
            "text/plain": [
              "<Figure size 800x600 with 1 Axes>"
            ],
            "image/png": "[encoded data removed]"
          },
          "metadata": {}
        }
      ],
      "source": [
        "plt.figure(figsize=(8, 6))\n",
        "sns.regplot(x='Tutoring_Sessions', y='Exam_Score', data=df, scatter=True, color='b')\n",
        "plt.title('Зависимость балла на экзамене от количества занятий с репетитором')\n",
        "plt.xlabel('Количество занятий с репетитором в месяц')\n",
        "plt.ylabel('Оценка на экзамене')\n",
        "plt.show()"
      ]
    },
    {
      "cell_type": "markdown",
      "id": "16249674-e680-4ab0-a16a-4e98c24202ed",
      "metadata": {
        "id": "16249674-e680-4ab0-a16a-4e98c24202ed"
      },
      "source": [
        "6. Как физическая активность влияет на успеваемость?"
      ]
    },
    {
      "cell_type": "code",
      "execution_count": 53,
      "id": "5d1f5e09-3f97-45ad-87f8-c9796cc214db",
      "metadata": {
        "id": "5d1f5e09-3f97-45ad-87f8-c9796cc214db",
        "colab": {
          "base_uri": "https://localhost:8080/",
          "height": 564
        },
        "outputId": "4c9c2e35-a1c1-42e4-c1f3-bd7419918e27"
      },
      "outputs": [
        {
          "output_type": "display_data",
          "data": {
            "text/plain": [
              "<Figure size 800x600 with 1 Axes>"
            ],
            "image/png": "[encoded data removed]"
          },
          "metadata": {}
        }
      ],
      "source": [
        "plt.figure(figsize=(8, 6))\n",
        "sns.scatterplot(x='Physical_Activity', y='Exam_Score', data=df)\n",
        "\n",
        "# Линия тренда (опционально)\n",
        "sns.regplot(x='Physical_Activity', y='Exam_Score', data=df, scatter=False, color='r')\n",
        "\n",
        "plt.title('Зависимость между физической активностью и баллами на экзамене')\n",
        "plt.xlabel('Часы физической активности в неделю')\n",
        "plt.ylabel('Оценка на экзамене')\n",
        "plt.show()"
      ]
    },
    {
      "cell_type": "code",
      "source": [
        "correlation = df['Physical_Activity'].corr(df['Exam_Score'])\n",
        "print(f\"Корреляция: {correlation}\")"
      ],
      "metadata": {
        "colab": {
          "base_uri": "https://localhost:8080/"
        },
        "id": "1-hR3qgGwSk-",
        "outputId": "901959c5-d4e4-4e9f-fd61-83dfd213b4b6"
      },
      "id": "1-hR3qgGwSk-",
      "execution_count": 54,
      "outputs": [
        {
          "output_type": "stream",
          "name": "stdout",
          "text": [
            "Корреляция: 0.027824436180257445\n"
          ]
        }
      ]
    },
    {
      "cell_type": "markdown",
      "id": "16afdeec-8c90-4ed1-a599-e0b1343bbf5c",
      "metadata": {
        "id": "16afdeec-8c90-4ed1-a599-e0b1343bbf5c"
      },
      "source": [
        "7. Постройте HeatMap где ось Х - процент посещаемость, Y - количество занятий с репетитором, а Z - балл за итоговый экзамен*\n",
        "\n",
        "\\* Задание на доп. балл"
      ]
    },
    {
      "cell_type": "code",
      "source": [
        "%matplotlib inline"
      ],
      "metadata": {
        "id": "19PAsgQhzKjw"
      },
      "id": "19PAsgQhzKjw",
      "execution_count": 61,
      "outputs": []
    },
    {
      "cell_type": "code",
      "source": [
        "import plotly.express as px"
      ],
      "metadata": {
        "id": "dIQDXESO1yS-"
      },
      "id": "dIQDXESO1yS-",
      "execution_count": 65,
      "outputs": []
    },
    {
      "cell_type": "code",
      "source": [
        "fig = px.scatter_3d(df,\n",
        "                    x='Attendance',\n",
        "                    y='Tutoring_Sessions',\n",
        "                    z='Exam_Score',\n",
        "                    color='Exam_Score',\n",
        "                    color_continuous_scale='Viridis')\n",
        "\n",
        "fig.show()"
      ],
      "metadata": {
        "colab": {
          "base_uri": "https://localhost:8080/",
          "height": 542
        },
        "id": "8iraFfhm18VL",
        "outputId": "f8ed01a1-ceb6-4183-9953-bf7db2eb6432"
      },
      "id": "8iraFfhm18VL",
      "execution_count": 69,
      "outputs": [
        {
          "output_type": "display_data",
          "data": {
            "text/html": [
              "<html>\n",
              "<head><meta charset=\"utf-8\" /></head>\n",
              "<body>\n",
              "    <div>            <script src=\"https://cdnjs.cloudflare.com/ajax/libs/mathjax/2.7.5/MathJax.js?config=TeX-AMS-MML_SVG\"></script><script type=\"text/javascript\">if (window.MathJax && window.MathJax.Hub && window.MathJax.Hub.Config) {window.MathJax.Hub.Config({SVG: {font: \"STIX-Web\"}});}</script>                <script type=\"text/javascript\">window.PlotlyConfig = {MathJaxConfig: 'local'};</script>\n",
              "        <script charset=\"utf-8\" src=\"https://cdn.plot.ly/plotly-2.24.1.min.js\"></script>                <div id=\"e41c4ab5-cd23-43a5-907b-e29eff7a82a1\" class=\"plotly-graph-div\" style=\"height:525px; width:100%;\"></div>            <script type=\"text/javascript\">                                    window.PLOTLYENV=window.PLOTLYENV || {};                                    if (document.getElementById(\"e41c4ab5-cd23-43a5-907b-e29eff7a82a1\")) {                    Plotly.newPlot(                        \"e41c4ab5-cd23-43a5-907b-e29eff7a82a1\",                        [{\"hovertemplate\":\"Attendance=%{x}\\u003cbr\\u003eTutoring_Sessions=%{y}\\u003cbr\\u003eExam_Score=%{marker.color}\\u003cextra\\u003e\\u003c\\u002fextra\\u003e\",\"legendgroup\":\"\",\"marker\":{\"color\":[67,61,74,71,70,71,67,66,69,72,68,71,70,66,65,64,60,65,67,66,69,72,66,66,63,64,65,71,66,64,63,69,67,61,68,61,64,67,63,64,67,65,64,70,68,65,68,64,68,63,64,64,67,67,66,72,65,71,66,68,70,62,68,67,71,68,69,70,69,65,70,71,65,72,69,66,68,65,64,60,65,66,74,62,70,69,67,64,71,68,64,63,71,69,100,68,62,68,66,64,67,65,65,69,63,72,76,69,67,69,63,67,66,79,64,73,63,65,73,70,68,65,71,64,68,69,69,69,67,68,64,66,63,66,66,67,65,68,68,65,71,65,64,72,65,66,61,68,69,72,71,70,68,67,68,68,72,65,66,65,67,66,69,66,69,67,66,71,70,71,66,67,66,72,68,69,71,70,67,69,65,65,64,63,69,64,72,63,64,64,67,71,70,61,67,72,66,70,67,67,71,66,68,74,64,65,66,66,68,78,67,74,74,62,66,69,68,89,66,68,69,67,75,60,66,73,68,62,62,65,69,64,67,70,70,69,61,69,63,67,65,66,63,68,65,67,68,64,71,69,67,65,68,67,67,66,70,65,69,65,63,67,61,65,66,66,69,63,65,67,69,65,65,65,67,66,72,66,65,69,68,64,69,59,68,60,62,67,68,64,65,65,63,70,66,68,66,63,66,65,66,67,66,63,66,67,71,67,69,67,72,70,67,64,67,69,68,63,68,70,66,68,67,69,66,68,69,70,74,70,66,69,64,62,70,68,65,65,71,66,61,67,65,65,65,73,62,60,61,67,70,69,66,64,68,67,64,65,66,63,68,66,63,63,74,70,68,66,63,67,62,71,72,72,68,66,70,66,72,64,63,61,62,68,68,63,70,68,72,67,61,69,61,75,68,65,67,75,64,70,67,63,65,67,86,67,63,66,65,67,69,66,64,73,66,68,70,69,67,62,68,72,69,66,70,71,65,70,65,62,62,70,66,67,72,66,68,62,64,65,66,64,67,69,68,64,68,64,71,61,68,73,64,72,65,68,71,65,66,63,74,66,63,72,69,67,66,64,67,69,65,64,65,72,66,66,67,69,73,69,68,61,63,63,68,63,66,65,68,66,66,70,61,61,71,67,70,69,65,61,68,74,67,70,59,64,66,63,61,68,65,69,68,69,67,70,68,67,67,75,63,70,70,64,59,63,67,68,68,97,66,61,70,65,64,69,64,61,64,68,67,62,66,72,68,71,65,68,65,64,65,65,73,72,64,69,69,70,83,68,84,75,67,69,71,66,65,70,66,74,66,68,68,62,71,63,69,71,66,64,65,69,66,67,65,65,67,66,69,64,70,68,68,69,68,70,67,72,69,69,64,63,70,70,66,70,66,68,61,72,69,63,72,65,74,62,65,68,66,71,62,65,68,70,67,63,63,69,66,70,63,72,65,67,63,65,67,80,68,63,64,73,66,66,66,69,59,68,67,64,65,68,70,62,72,62,68,69,73,69,67,65,63,66,66,70,69,70,58,67,73,66,70,67,60,65,63,72,62,70,70,64,64,67,64,72,66,66,71,66,64,66,62,70,69,65,70,70,67,69,62,67,65,65,65,69,63,66,67,69,67,70,67,70,65,63,64,69,60,69,72,63,63,66,70,68,69,72,67,68,70,68,69,68,66,72,67,70,73,73,60,67,69,65,70,68,66,65,64,67,65,64,67,70,63,71,68,67,67,68,66,68,70,67,67,62,67,70,72,70,94,66,69,68,71,69,67,64,63,66,66,69,64,62,66,70,67,68,67,62,67,68,64,64,66,72,72,66,72,69,72,60,69,68,69,62,71,70,68,68,70,65,73,66,71,62,68,70,68,71,70,72,69,63,62,68,70,69,68,65,59,66,64,63,72,67,94,70,66,69,64,63,71,65,68,64,64,66,68,67,66,68,66,71,71,68,64,67,64,68,62,64,70,68,69,65,67,65,71,65,66,65,65,68,68,67,65,66,63,70,72,67,67,66,66,69,62,66,64,67,71,73,68,66,75,72,68,68,69,63,70,66,66,72,71,72,69,71,69,68,61,68,72,70,73,67,65,68,65,97,66,67,70,66,69,62,68,67,68,69,62,75,65,63,66,71,66,66,66,71,68,71,68,68,68,62,65,71,63,68,69,69,71,71,62,70,70,73,71,69,66,65,71,68,64,71,67,66,71,62,67,67,66,64,62,65,63,64,65,68,72,64,62,69,64,61,72,66,69,65,64,62,66,62,66,70,75,67,66,71,75,72,64,65,67,63,62,69,70,63,71,63,71,63,68,65,66,66,66,65,66,67,68,68,69,64,67,63,67,64,66,65,68,66,71,74,65,68,68,72,74,61,65,63,66,66,73,63,68,73,63,65,66,65,66,65,70,70,68,64,68,62,68,61,69,65,65,72,70,65,69,65,69,65,72,70,64,67,69,70,65,69,74,66,72,67,75,70,63,65,64,65,70,67,67,68,65,61,63,80,69,55,70,65,68,64,69,89,67,92,67,70,68,70,67,69,67,69,63,69,66,68,69,66,72,62,67,67,67,65,67,66,70,71,64,69,72,60,71,71,66,74,64,68,66,65,64,65,69,68,62,63,65,62,67,64,61,65,67,70,59,75,67,64,72,76,69,65,72,69,71,64,74,68,66,65,67,69,66,69,67,64,67,61,61,68,66,66,68,63,66,66,66,65,69,71,66,66,65,71,69,61,70,70,65,64,68,63,63,71,58,68,65,65,68,69,71,65,64,75,67,68,72,67,72,69,68,70,69,67,63,61,66,73,67,72,69,69,63,67,63,66,62,68,65,59,72,63,68,61,65,68,61,63,67,66,75,68,65,64,67,64,67,63,67,65,70,62,69,70,68,68,64,63,68,67,68,66,67,69,68,70,68,66,67,65,67,63,64,64,66,68,67,72,67,66,66,67,65,70,69,69,66,66,67,67,67,72,68,70,69,65,72,69,68,62,60,67,67,67,63,71,66,65,69,63,64,67,62,68,71,66,69,71,66,72,70,65,64,63,63,66,68,74,71,67,66,67,62,68,62,82,70,72,64,66,68,64,61,69,68,64,67,67,65,68,67,67,64,70,69,66,69,66,73,66,69,70,71,70,69,63,71,67,73,68,69,76,68,65,66,65,69,71,66,69,59,65,72,60,64,69,70,67,67,64,68,72,65,70,75,65,63,71,66,69,68,71,77,70,66,73,62,65,71,66,72,64,63,63,72,71,72,65,67,68,66,72,71,70,68,72,66,69,65,62,69,65,69,69,73,75,70,74,65,63,74,67,71,68,69,71,66,65,66,65,67,70,63,64,71,68,72,71,64,64,66,68,68,65,67,64,70,65,65,68,61,63,65,69,64,69,67,74,66,72,73,73,63,69,71,63,69,72,68,62,68,71,67,65,60,68,59,64,71,68,70,62,62,68,68,74,61,67,65,101,65,67,61,64,64,67,69,69,67,62,66,72,67,66,67,67,68,63,62,65,65,70,73,73,68,63,62,69,66,68,67,65,70,64,65,67,62,66,68,64,69,69,67,61,70,65,66,66,69,67,71,68,67,63,64,73,69,65,70,67,67,70,69,68,66,62,67,71,68,66,64,71,61,67,65,66,68,66,63,66,73,88,67,69,67,64,64,65,68,77,63,69,69,70,73,66,71,66,71,66,63,70,66,66,66,62,69,63,68,64,69,71,71,66,63,72,70,71,65,65,67,68,70,70,72,65,65,71,74,64,64,65,67,73,72,65,67,66,70,66,66,68,68,67,65,64,70,63,65,67,71,73,67,72,71,72,68,65,68,67,66,64,65,69,68,69,70,65,63,71,68,70,72,64,64,66,69,71,69,67,66,71,63,62,73,66,72,67,65,66,68,69,68,61,68,64,67,68,61,66,64,67,64,72,62,63,70,69,64,66,67,71,70,69,68,64,70,69,63,60,65,67,66,68,58,67,68,62,69,73,66,67,71,66,74,67,68,61,69,65,71,61,70,70,69,70,67,63,70,61,64,65,65,66,66,63,66,64,65,62,71,63,70,70,65,66,66,68,68,69,71,69,68,67,72,68,60,68,65,67,70,70,61,68,67,62,66,69,66,64,66,63,62,65,68,65,63,68,72,69,66,68,64,61,67,68,74,67,64,69,63,67,65,67,68,62,70,67,89,65,69,64,74,64,64,67,63,68,66,68,68,69,71,65,67,65,65,80,74,59,69,66,66,65,67,69,68,73,71,67,67,66,63,65,67,69,67,66,74,69,66,69,63,65,64,64,69,73,62,62,68,66,68,66,69,62,68,67,65,69,67,64,62,71,72,74,66,72,65,67,70,62,66,65,70,69,70,66,73,69,66,65,70,70,67,68,68,61,70,65,66,67,69,69,67,66,63,67,64,68,65,65,65,70,62,68,62,68,72,70,62,79,73,68,68,69,63,74,69,61,69,64,63,68,72,65,69,70,63,62,72,69,66,71,62,68,63,66,75,69,68,69,67,73,71,71,68,70,71,69,63,71,69,71,68,68,66,67,59,66,64,64,69,69,61,62,61,63,71,65,68,67,70,64,71,71,67,63,66,70,70,67,69,66,67,65,72,68,72,76,65,68,65,66,63,63,66,69,72,66,64,67,67,66,68,65,71,71,62,69,65,70,66,70,70,69,71,69,73,65,62,67,65,65,70,70,71,71,62,65,84,68,70,68,67,69,68,59,67,63,65,63,64,72,63,66,67,66,66,68,66,68,65,67,64,59,60,65,64,66,65,69,66,65,62,60,68,64,73,64,69,63,65,65,67,67,66,68,65,66,66,69,70,71,70,68,73,68,66,67,66,69,67,61,70,70,70,64,65,70,62,64,67,63,62,72,69,72,68,64,72,73,67,64,65,67,68,72,71,66,59,68,64,70,65,72,66,68,62,70,70,64,76,67,69,68,67,69,67,73,71,70,65,73,65,73,70,66,66,64,68,70,72,66,74,67,71,60,68,69,74,71,63,66,65,60,69,69,67,65,70,71,73,70,67,67,65,69,65,68,74,68,61,67,66,69,62,71,71,72,69,67,63,68,69,65,70,65,67,72,69,69,71,67,65,70,63,71,64,69,69,70,64,70,74,69,73,66,67,76,61,68,63,67,66,62,69,67,66,63,64,64,67,66,68,62,68,63,62,72,69,67,65,69,72,70,91,65,62,65,67,67,72,60,69,61,70,68,75,75,72,66,71,70,63,72,65,71,65,69,71,68,66,60,68,67,71,74,70,63,64,66,64,69,71,64,65,69,68,68,68,65,65,66,66,71,68,65,63,66,71,65,68,66,64,70,70,66,70,71,70,70,66,64,66,68,61,72,66,68,61,67,66,74,66,67,71,66,71,72,66,62,66,69,64,69,69,64,68,63,64,69,71,67,67,66,67,68,69,62,66,63,67,68,66,66,67,66,69,72,60,68,72,64,65,76,59,67,73,64,67,69,69,67,72,86,62,69,68,99,70,68,67,66,66,62,72,64,68,66,68,75,67,65,68,67,63,67,67,73,67,71,67,68,68,66,68,63,68,74,65,69,70,65,68,65,68,68,66,70,66,64,70,68,74,71,61,64,64,73,62,71,68,67,63,71,72,66,67,66,68,64,65,66,69,64,65,72,65,70,64,62,69,62,69,66,71,66,64,63,69,68,63,64,66,71,72,88,66,65,66,62,68,65,62,74,64,72,70,65,66,67,73,65,74,66,67,58,71,63,73,68,66,68,66,62,78,68,77,65,73,64,67,69,60,66,70,66,64,70,58,69,64,72,60,70,62,66,66,65,64,72,71,68,68,64,65,64,75,61,68,70,71,66,66,70,62,72,72,63,69,68,67,71,67,62,69,67,71,87,62,64,74,69,65,66,70,68,70,68,69,66,65,71,66,61,69,65,63,73,68,70,72,68,68,71,68,70,70,69,73,72,67,69,68,64,71,68,70,72,65,70,69,64,67,65,62,68,68,68,68,62,72,69,68,71,69,71,65,68,60,68,66,66,62,61,69,69,74,62,67,69,66,72,69,65,72,69,60,61,63,63,68,68,65,71,64,65,67,67,67,87,67,72,69,65,66,70,71,67,72,63,67,72,72,70,67,68,67,70,67,71,69,74,63,72,71,64,69,62,69,68,67,71,70,63,60,69,71,69,73,73,68,67,74,68,69,69,68,66,69,66,72,69,68,66,65,71,61,63,66,69,71,73,72,73,65,71,65,67,69,63,68,70,64,64,68,65,70,66,70,66,69,69,64,64,69,67,63,67,65,64,68,64,70,70,67,69,70,69,65,66,70,63,69,74,70,66,68,67,66,65,66,69,67,69,66,64,61,61,70,65,67,69,63,66,73,68,74,70,68,67,65,66,64,72,70,60,68,71,68,67,70,65,60,65,70,69,64,67,73,74,67,66,69,64,69,66,65,67,67,68,65,66,65,71,63,70,70,67,68,63,70,69,66,70,68,70,67,69,64,62,71,69,62,66,64,66,72,71,65,65,70,68,57,59,64,67,60,67,65,71,67,69,68,59,75,59,71,71,66,69,65,68,68,67,68,68,88,66,67,63,68,65,67,67,67,64,61,65,70,67,68,65,63,72,68,73,71,70,68,68,68,71,70,67,61,64,72,67,65,64,66,62,70,64,70,66,62,63,66,58,70,63,70,65,67,73,82,71,73,65,67,67,69,61,64,64,68,62,66,70,67,70,65,65,70,72,65,71,71,72,64,72,71,66,71,67,69,67,71,66,62,67,70,72,69,70,64,65,66,68,72,65,60,63,66,73,71,59,70,63,67,65,64,71,70,63,68,67,66,63,65,66,65,65,63,65,62,66,71,64,67,68,63,64,74,68,68,69,61,69,61,67,63,68,68,67,69,64,67,70,72,71,62,67,64,64,70,68,70,65,59,69,67,68,62,65,69,65,68,68,71,71,66,71,66,66,69,65,66,67,66,69,66,64,70,62,67,60,66,72,63,69,66,69,68,66,63,70,68,68,67,67,69,68,67,70,70,66,61,68,64,66,65,73,66,65,68,69,72,63,65,69,62,66,69,67,94,71,61,68,66,71,66,60,60,66,67,67,64,66,68,70,75,86,73,61,68,70,71,71,68,70,70,62,67,68,68,64,68,69,70,73,66,68,68,65,66,62,67,73,65,70,68,67,66,65,66,66,60,66,68,72,68,67,62,66,69,64,63,74,72,71,64,65,75,69,65,60,69,65,67,70,66,69,69,68,70,66,65,65,65,69,69,65,76,72,67,74,66,66,66,71,66,65,69,69,63,68,64,64,73,66,67,63,61,71,61,62,74,65,64,66,72,76,67,71,65,68,68,67,64,60,70,73,69,70,64,64,65,62,64,72,64,67,64,61,72,70,70,71,68,68,70,73,69,71,64,68,69,70,67,66,65,66,61,71,60,66,61,68,68,65,65,60,67,65,70,64,68,69,65,71,65,65,68,66,65,71,68,70,74,62,61,70,65,62,65,68,70,68,69,73,71,63,66,67,64,66,69,72,63,67,64,68,71,67,67,64,63,72,63,67,68,64,65,68,66,73,68,72,70,66,66,66,65,71,66,63,63,58,68,61,65,67,67,62,86,71,70,71,71,70,67,60,73,67,62,67,65,61,61,60,68,65,67,67,74,64,64,67,74,69,62,66,69,68,74,68,73,70,69,68,71,64,71,65,68,67,67,67,63,68,66,67,68,72,70,62,69,61,58,63,71,70,64,63,63,71,65,68,70,68,69,70,67,69,73,68,67,67,64,63,67,70,71,74,70,59,64,67,63,66,62,65,73,70,62,68,74,96,66,69,70,73,69,71,65,62,69,65,68,65,72,67,68,68,66,62,65,60,70,68,72,63,63,67,68,69,75,67,69,65,65,63,65,58,70,66,63,62,69,66,68,62,64,65,64,65,65,70,71,65,67,68,73,64,71,70,68,68,68,59,74,62,64,76,70,69,69,74,62,70,71,68,66,67,71,74,65,60,69,65,69,70,65,57,68,67,70,68,62,67,66,60,65,75,67,71,63,67,68,65,72,61,60,72,72,70,67,71,66,72,70,71,64,66,64,67,67,64,61,99,67,72,66,68,64,69,65,66,73,63,66,65,71,58,68,69,63,66,69,69,63,65,76,67,70,60,68,68,70,68,69,62,64,71,68,72,64,73,69,70,69,64,66,69,68,65,62,75,60,63,66,67,68,72,66,63,71,67,66,66,68,66,68,68,68,66,66,70,68,65,70,66,68,64,69,65,69,66,68,70,65,65,68,67,72,70,72,71,64,69,73,70,68,71,71,66,68,70,72,66,65,66,65,72,68,68,67,68,67,69,65,70,64,66,64,66,67,68,71,67,69,67,61,68,67,64,63,72,69,66,64,61,71,63,65,71,78,73,65,66,66,74,62,66,71,67,69,72,72,65,71,64,61,69,65,69,64,69,68,63,66,65,66,67,62,66,68,68,63,66,65,72,70,63,65,65,66,68,64,66,68,64,62,67,67,65,59,66,68,63,68,68,66,63,61,68,66,69,64,68,66,68,62,68,69,70,65,68,67,64,63,67,66,67,63,69,70,70,65,64,67,61,70,68,64,68,68,63,65,69,63,69,61,69,62,58,71,69,68,61,67,68,72,71,67,68,64,73,65,67,63,63,69,68,68,69,73,66,68,65,67,70,66,64,69,71,68,68,66,70,65,63,70,67,63,64,60,62,65,69,68,66,72,68,69,65,65,70,67,73,70,66,68,61,70,66,67,69,64,65,75,63,69,68,66,66,66,68,65,70,68,70,61,61,64,71,72,66,63,62,65,66,72,68,70,70,73,67,65,65,65,70,66,65,68,66,65,71,65,70,69,71,67,64,82,66,66,65,61,72,70,71,84,72,67,72,70,62,71,62,68,74,68,64,65,66,68,67,67,63,71,63,66,67,66,70,64,71,68,64,66,72,66,70,66,68,70,64,71,72,71,63,68,63,66,63,72,70,65,67,66,69,73,66,70,68,65,67,71,70,61,69,63,67,65,63,67,66,72,68,67,72,66,73,71,65,65,65,68,70,68,62,66,65,71,61,63,67,70,73,72,69,61,71,64,61,63,65,73,68,72,62,63,58,68,74,68,67,65,63,71,62,66,65,66,71,68,72,66,66,67,71,72,64,60,64,70,72,68,62,68,72,60,72,65,63,66,65,65,67,65,67,66,71,64,61,65,61,64,69,71,70,70,62,73,66,66,66,66,65,67,76,66,63,71,63,67,63,66,72,70,62,69,66,64,70,67,71,69,70,70,61,65,67,70,67,68,69,65,68,67,70,68,69,70,67,70,74,63,72,62,71,68,72,64,64,63,66,71,70,67,73,64,65,62,64,67,74,63,64,64,70,71,63,66,65,70,65,68,72,67,65,66,67,65,68,68,69,71,64,65,64,67,70,66,70,70,64,71,63,72,72,61,63,67,67,65,64,69,65,71,70,98,65,63,61,67,64,65,73,69,67,63,67,66,64,68,61,66,65,65,67,68,63,70,68,69,67,69,65,61,65,67,66,69,71,68,65,64,68,64,71,70,68,63,61,66,75,71,69,62,65,61,69,66,64,69,78,68,70,68,68,69,68,80,67,64,64,68,67,65,66,67,64,66,63,71,62,64,72,65,67,65,63,65,67,67,65,64,64,69,60,70,66,66,68,62,70,72,64,71,67,64,64,72,66,68,95,64,64,68,67,67,71,63,66,65,68,68,62,67,65,71,71,61,70,60,70,67,66,63,65,75,66,61,65,61,73,73,63,67,62,71,70,70,69,66,72,63,65,71,66,69,62,66,66,64,63,68,68,67,67,68,65,74,85,64,67,68,67,65,63,64,62,68,75,63,68,63,68,62,67,66,65,69,70,64,75,66,62,70,68,66,65,68,68,62,66,68,69,67,74,61,64,69,66,61,71,71,69,66,64,68,71,66,94,68,66,70,68,65,64,69,59,70,72,64,63,67,62,69,66,66,63,62,58,67,68,67,67,62,66,65,67,69,67,69,62,67,63,65,66,71,70,68,67,71,65,64,69,68,67,71,64,69,68,69,67,58,66,69,70,70,70,66,61,71,69,69,65,69,74,71,68,69,68,63,68,67,71,66,69,68,63,69,66,71,68,69,65,68,67,65,65,64,69,64,66,65,69,66,64,61,72,67,63,69,70,71,60,70,69,63,69,71,68,64,68,69,65,68,74,72,67,73,68,61,70,62,67,69,93,68,69,68,64,69,66,68,72,63,73,65,65,68,70,65,66,66,65,69,69,64,66,63,68,68,65,69,66,63,72,67,67,68,71,73,68,69,69,63,62,70,66,62,64,63,71,67,67,67,71,69,93,72,71,63,65,61,66,61,67,64,69,64,70,73,63,68,64,69,69,67,69,62,66,68,71,66,62,68,59,70,66,65,66,73,65,65,64,69,74,68,65,72,71,69,67,71,68,63,69,68,73,69,58,65,63,59,58,66,67,67,67,65,71,66,68,65,71,64,72,69,70,66,70,62,66,70,63,73,70,71,65,64,66,82,68,67,68,69,63,66,68,71,69,70,70,73,68,65,72,67,68,69,70,69,68,65,70,65,61,69,67,65,63,67,76,70,67,66,65,65,63,74,72,68,62,65,69,61,67,66,70,72,69,68,74,70,67,68,69,66,66,68,60,69,66,77,63,66,64,63,68,65,65,64,68,62,67,73,69,65,66,73,72,72,61,69,66,74,64,66,64,66,72,71,70,67,71,63,64,64,65,65,62,65,64,74,67,66,70,68,64,58,65,68,64,66,92,69,68,63,64,68,67,68,66,66,68,64,63,62,66,65,66,66,69,67,75,73,66,61,68,67,66,69,69,67,65,63,63,66,66,69,72,70,68,66,67,68,62,64,71,65,69,65,71,69,65,66,68,72,74,64,64,63,66,67,64,62,66,71,63,72,71,61,71,69,74,61,68,67,70,69,72,66,67,70,68,68,65,63,62,66,62,61,63,65,64,74,70,63,68,69,70,62,71,69,69,68,65,65,65,72,63,68,72,66,71,67,61,70,64,64,68,70,65,67,65,65,65,66,62,63,63,70,67,66,63,66,67,68,67,66,71,69,72,70,68,68,67,62,67,69,64,66,69,70,69,72,61,68,68,66,65,66,67,68,67,63,64,66,69,70,72,71,63,68,67,69,65,69,71,67,64,68,67,62,68,72,61,67,70,59,70,60,74,68,67,67,66,63,62,64,68,65,71,68,62,68,68,67,67,70,69,70,69,70,72,59,64,72,70,63,66,72,71,71,62,62,64,65,68,67,61,68,68,62,62,74,68,66,67,65,66,67,76,66,68,63,65,63,59,74,62,59,71,73,68,68,66,69,70,74,75,71,71,65,65,65,67,67,67,71,72,62,70,72,64,66,69,71,68,63,71,65,66,68,61,71,70,66,61,67,72,65,68,70,63,69,62,71,64,69,71,63,72,66,69,60,68,65,67,66,68,63,73,66,67,66,60,67,67,70,69,68,67,63,70,71,67,64,66,70,65,68,65,65,69,63,70,64,62,66,73,72,68,62,67,62,72,67,68,65,79,66,68,65,67,67,67,68,72,65,65,70,67,68,63,68,69,66,64,69,62,65,70,72,66,70,67,65,68,62,68,69,72,65,63,68,62,69,65,74,70,65,70,59,63,64,63,67,65,67,73,64,65,72,72,66,62,68,67,69,67,63,65,71,70,68,65,68,69,62,62,72,64,58,66,64,68,69,71,71,67,71,64,62,70,63,66,65,69,63,64,66,67,66,65,72,70,67,64,72,65,62,67,64,63,72,66,70,66,70,67,64,67,72,72,68,64,66,68,66,70,70,62,69,69,66,68,71,64,67,68,67,68,69,71,68,65,63,65,72,67,69,67,64,62,71,70,64,69,65,73,64,64,70,70,64,64,66,66,74,69,67,73,66,67,75,73,67,65,71,63,68,72,67,71,67,66,72,64,68,65,74,65,63,65,70,71,66,69,67,64,67,67,70,71,68,65,70,64,67,63,65,70,67,60,64,65,64,67,71,69,70,69,69,64,63,67,66,69,69,69,72,65,63,69,69,64,69,72,62,66,65,69,65,67,63,66,61,64,64,65,68,69,61,72,61,66,60,69,72,69,71,64,71,64,67,67,66,73,73,70,70,62,68,65,73,65,66,64,63,62,70,65,64,70,62,67,66,74,69,70,68,70,71,73,69,61,68,66,67,64,67,61,65,62,69,61,69,64,65,64,68,67,68,61,69,64,74,66,68,65,66,66,65,67,65,63,67,70,68,66,67,72,68,66,62,65,67,62,66,67,68,66,68,62,64,68,71,63,62,69,62,71,69,66,64,65,68,69,68,71,66,65,68,72,75,67,67,70,64,65,68,67,66,69,64,68,68,65,65,65,67,63,62,73,72,71,67,66,68,70,66,56,71,64,65,70,70,71,70,62,72,62,67,58,69,60,72,66,66,69,70,70,70,67,67,59,67,65,68,71,61,63,67,69,70,69,66,70,67,61,74,70,66,73,62,65,62,64,63,69,63,67,65,71,71,69,71,68,70,71,68,69,71,63,66,67,71,59,67,66,72,70,68,63,69,67,75,67,74,66,65,60,63,69,64,68,63,65,74,65,61,66,67,66,69,65,65,66,73,64,67,67,68,71,64,67,68,67,70,64,63,71,64,70,70,67,62,69,69,62,70,66,69,65,66,69,66,65,66,63,72,62,64,61,70,67,66,66,68,67,65,70,69,68,61,65,71,66,62,61,67,66,71,62,67,64,68,67,63,70,67,71,62,75,72,73,64,73,66,69,70,70,71,64,71,63,68,71,65,66,72,65,60,67,65,64,72,62,67,67,69,65,62,69,72,63,64,67,70,64,69,72,69,75,67,67,66,64,68,66,69,65,70,57,69,70,63,66,64,65,64,62,71,64,72,64,71,68,68,68,69,67,66,65,63,62,67,65,66,66,64,67,67,61,66,66,67,64,64,67,68,64,63,68,64,70,64,59,71,67,73,66,73,62,69,66,68,65,67,64,67,66,68,68,64,63,72,75,71,71,66,71,61,65,58,62,69,65,69,68,70,72,66,68,67,61,64,74,64,64,61,71,72,68,69,74,70,69,64,71,65,71,71,66,64,70,61,71,65,59,63,64,63,70,70,72,65,71,70,66,64,64,59,65,66,67,62,65,73,70,75,66,65,64,70,71,68,64,67,65,62,68,66,69,68,71,68,64,66,70,60,69,65,66,64,71,66,66,68,63,66,61,70,68,65,69,67,62,61,70,65,65,66,66,69,70,63,64,65,71,61,69,69,66,72,60,62,66,69,69,71,57,72,66,66,70,67,65,63,68,63,63,68,60,67,65,68,62,65,66,67,60,74,62,61,63,66,65,72,70,71,64,70,68,61,68,64,64,71,72,66,74,65,64,69,62,62,72,73,64,65,70,66,70,63,69,64,63,66,68,97,67,71,66,72,70,69,66,69,65,75,70,70,69,68,73,74,66,74,67,67,70,67,80,70,71,64,68,68,69,72,65,64,64,58,69,61,68,66,68,70,62,71,61,64,65,63,74,68,65,66,69,69,70,70,71,72,61,68,66,70,63,68,62,69,69,72,64,63,70,69,61,70,64,76,73,67,69,72,66,70,73,68,66,67,67,62,72,65,69,69,69,69,69,70,67,69,75,66,63,64,66,72,71,70,67,65,65,73,66,62,71,66,65,75,74,65,71,65,65,67,67,66,67,66,65,59,69,63,65,61,68,65,61,69,72,59,63,69,67,70,67,66,68,71,69,65,66,66,67,74,66,72,69,68,71,61,65,71,59,71,72,71,61,67,67,74,66,63,63,68,65,66,67,67,70,65,68,70,66,69,65,68,65,70,65,67,64,68,70,64,67,68,67,66,66,66,67,69,65,68,67,69,64,67,67,67,67,68,65,70,68,72,67,66,68,64,75,66,67,71,68,65,67,66,60,64,69,64,66,72,60,69,62,70,65,77,71,66,74,70,69,64,69,68,63,61,61,65,65,69,69,65,72,69,71,67,72,70,68,66,68,71,63,70,65,70,65,68,69,66,62,70,65,71,68,65,70,69,66,66,67,63,70,65,70,74,69,68,64,73,66,65,66,67,67,66,69,69,68,64,70,67,68,67,73,65,69,63,68,64,68,66,65,69,69,64,74,64,63,64,71,68,72,67,64,70,65,69,65,66,67,68,65,68,63,71,71,65,65,61,68,65,66,69,65,65,70,70,67,75,65,66,67,67,62,66,66,64,60,70,72,67,67,72,63,60,65,72,70,71,66,72,73,71,64,66,69,66,63,62,98,71,66,75,68,69,68,60,64,71,69,60,70,66,68,67,70,69,75,65,65,66,64,66,70,63,66,71,68,68,71,63,60,73,68,70,66,72,70,68,60,68,74,68,72,69,98,68,70,69,64,65,69,67,65,70,68,65,74,65,65,68,68,74,71,67,64,61,66,61,73,70,70,63,69,72,66,68,67,65,68,68,69,66,58,60,67,65,62,65,69,70,70,63,69,64,69,70,64,65,70,60,68,61,68,61,64,66,70,65,74,66,65,69,69,69,66,63,69,65,67,66,67,65,69,65,67,66,64,70,65,65,64,64,61,65,68,70,74,60,71,70,67,68,64,67,65,66,72,69,65,71,72,70,63,66,67,67,62,72,69,61,67,66,68,62,63,70,68,71,65,59,64,67,68,95,70,68,65,70,67,69,68,72,71,75,70,66,67,70,71,64,65,64,62,64,66,64,71,68,70,66,71,68,66,66,65,64,67,65,69,69,69,68,67,68,65,69,73,76,69,69,68,70,64,73,64,65,69,62,64,64,67,69,67,65,63,66,70,70,67,65,70,66,66,72,64,70,71,66,70,64,70,67,65,68,69,68,68,64],\"coloraxis\":\"coloraxis\",\"symbol\":\"circle\"},\"mode\":\"markers\",\"name\":\"\",\"scene\":\"scene\",\"showlegend\":false,\"x\":[84,64,98,89,92,88,84,78,94,98,80,97,83,82,78,68,60,70,80,75,78,99,74,78,65,62,91,83,90,66,83,70,69,60,65,72,65,99,72,65,68,84,63,94,98,70,78,61,86,77,71,68,86,77,67,88,83,94,65,91,87,65,88,78,98,66,86,75,98,73,98,96,71,92,100,70,77,81,72,61,69,71,78,67,95,88,63,86,86,98,60,70,97,97,89,91,64,81,69,67,92,65,79,98,67,99,100,82,67,73,77,72,71,99,66,89,60,84,97,72,67,86,89,88,73,70,98,97,78,94,78,77,66,77,81,61,78,91,87,85,96,61,82,91,82,73,65,96,79,95,83,87,92,86,76,81,92,75,76,64,97,64,86,77,76,87,63,84,91,93,67,96,86,95,79,82,97,96,78,71,76,76,71,71,94,63,87,67,74,62,71,91,95,69,79,79,95,91,81,87,94,60,76,96,90,82,81,74,81,86,77,89,94,66,78,76,87,70,86,95,77,96,100,64,69,98,98,64,61,66,100,67,80,94,61,84,71,94,71,87,87,69,61,76,72,92,92,78,84,84,93,77,71,71,81,78,78,64,89,69,68,77,69,83,75,78,81,68,66,95,77,76,61,80,82,82,88,67,70,92,98,65,80,69,62,73,66,88,81,66,60,92,67,84,73,83,73,63,69,68,77,86,71,60,81,84,99,84,79,83,97,93,73,69,71,80,90,80,63,89,92,72,87,77,96,94,81,88,95,80,73,90,69,76,95,89,76,69,74,71,67,90,70,78,75,99,76,63,64,84,84,77,77,62,81,80,66,64,65,64,84,68,70,67,98,94,69,73,68,80,61,87,81,96,67,92,92,65,76,67,70,71,82,76,98,65,99,69,91,74,66,94,72,86,83,79,80,89,64,87,96,62,66,89,77,76,65,80,65,79,91,70,79,100,87,94,77,91,62,65,68,76,94,74,86,88,83,74,83,74,63,100,65,63,95,72,86,73,76,70,74,76,89,80,98,62,80,83,97,62,83,94,70,95,61,89,97,86,78,62,97,79,61,88,79,65,69,63,83,85,80,93,94,85,61,88,77,83,86,74,97,65,87,60,97,65,64,73,75,69,83,78,61,73,92,88,89,88,72,64,71,93,99,80,60,66,73,83,63,98,75,97,91,90,84,85,86,85,82,99,89,91,95,69,63,79,81,93,78,83,81,62,85,93,66,84,84,67,65,99,76,69,67,87,84,86,64,96,76,73,78,76,95,97,72,95,91,97,70,83,71,93,60,83,74,73,86,94,84,94,71,81,78,60,82,86,84,89,83,63,65,84,71,63,77,82,73,89,86,73,90,86,85,82,60,88,75,98,93,84,70,68,74,79,72,81,67,99,64,97,97,81,89,77,85,74,72,83,80,83,71,75,63,62,70,63,64,93,62,86,71,95,79,72,81,75,83,65,100,77,74,88,75,93,78,89,64,94,89,68,66,73,99,70,78,61,76,83,98,81,93,82,62,73,83,98,94,69,69,68,97,94,91,76,80,79,70,80,61,65,95,90,77,81,75,90,91,91,89,68,74,79,73,90,73,66,76,99,69,84,77,63,80,88,81,95,72,63,97,75,83,92,73,89,65,72,66,92,69,89,98,81,82,78,73,79,84,99,98,94,96,79,86,96,76,98,77,84,88,98,70,90,81,71,91,82,86,73,79,85,76,68,98,80,89,76,74,76,76,82,82,80,65,80,67,65,97,84,86,76,96,86,91,75,98,93,94,67,71,71,71,94,61,63,71,68,69,92,83,60,77,76,65,87,88,89,89,60,98,93,96,61,97,92,93,64,90,98,87,83,98,78,84,79,97,63,80,87,92,83,96,98,63,76,61,73,81,96,94,65,64,84,81,71,96,97,76,96,75,89,79,65,97,78,89,75,61,64,80,88,73,88,88,88,80,97,80,78,68,72,62,85,70,72,91,73,70,67,91,65,78,80,87,85,92,62,72,71,66,72,72,81,87,75,89,73,72,82,61,63,77,98,89,64,94,89,84,93,76,69,80,82,82,83,98,96,95,92,98,64,71,80,94,80,90,66,70,89,67,74,71,74,88,75,82,64,92,75,86,89,68,95,85,77,67,98,90,68,74,92,88,91,78,89,75,68,85,99,72,78,87,82,94,90,62,100,90,95,86,94,64,74,95,68,63,92,93,67,94,87,81,93,77,68,71,80,81,92,92,83,91,68,62,95,63,70,88,76,95,72,60,72,83,75,81,95,96,71,78,82,98,100,69,89,75,60,60,78,80,61,87,72,82,72,67,76,69,81,68,80,66,87,90,64,79,63,84,71,81,81,97,82,83,76,98,91,71,94,77,93,93,68,88,72,72,72,89,69,60,89,67,64,70,75,79,62,99,89,73,73,78,85,66,68,94,70,75,95,87,74,87,61,89,79,93,98,97,96,80,74,79,88,95,68,97,93,99,95,71,64,64,72,85,92,96,85,60,67,64,75,80,62,74,67,86,79,80,77,98,69,81,89,82,97,75,79,64,84,72,66,82,81,63,88,85,68,79,89,81,76,73,84,98,87,63,78,96,64,100,98,63,97,75,94,77,78,85,91,61,84,67,74,74,79,73,64,66,61,79,98,65,98,89,85,86,93,64,80,88,83,93,63,88,81,75,74,85,96,80,93,76,64,62,62,75,73,89,90,62,69,71,82,66,65,98,92,67,76,74,92,80,65,90,76,71,75,80,74,70,76,61,91,67,62,86,91,93,80,68,89,88,70,96,64,99,94,88,98,89,68,78,63,76,90,75,73,84,95,62,75,66,88,64,87,71,68,97,61,78,61,79,80,73,65,75,87,91,81,84,68,71,66,70,69,81,83,98,68,86,93,82,70,71,62,72,90,62,69,88,91,78,88,76,66,76,83,98,63,80,73,80,61,73,93,82,78,71,72,75,93,99,78,76,94,77,82,69,90,81,92,91,69,89,92,74,67,60,78,74,82,68,94,70,69,79,80,69,71,67,89,91,78,89,89,66,99,93,68,67,65,66,90,79,91,90,84,87,61,72,86,60,61,94,87,71,88,92,72,61,97,74,64,80,91,69,71,70,100,68,83,97,66,99,98,95,69,85,90,99,67,91,74,67,77,92,79,82,100,76,85,75,76,88,98,82,91,64,68,80,61,70,81,61,71,81,83,97,86,77,97,91,68,65,87,82,92,90,85,99,81,65,93,70,91,98,88,84,78,75,74,85,90,87,68,80,92,79,81,91,86,76,96,67,100,65,61,96,70,89,92,94,100,72,88,65,76,94,75,84,80,86,99,62,83,95,79,63,82,73,66,94,81,97,92,88,60,77,68,96,67,71,81,71,68,84,64,62,75,89,82,77,83,75,97,62,87,96,92,67,72,89,63,92,89,89,64,89,87,93,62,61,75,66,82,97,76,94,60,67,61,73,96,64,84,78,98,65,68,61,77,71,95,84,85,81,64,78,100,93,96,93,64,69,60,72,64,79,87,95,90,98,62,60,86,72,70,73,71,80,78,80,87,75,70,67,74,90,90,87,69,84,83,79,82,80,83,89,64,90,65,63,99,98,62,78,67,79,93,98,85,74,84,72,96,95,82,73,72,61,93,78,73,79,93,65,94,96,98,76,69,75,73,67,84,79,95,61,86,91,90,95,89,97,73,80,61,60,70,64,70,67,61,96,60,89,66,96,96,86,87,60,99,95,96,86,74,96,72,83,64,97,66,69,82,91,85,69,60,90,99,92,78,96,76,81,79,78,91,81,73,70,62,83,69,66,86,87,90,80,96,97,92,85,72,99,71,68,78,62,99,84,82,86,80,61,84,89,77,90,69,69,66,75,94,93,75,84,89,70,67,99,85,99,74,88,69,70,80,73,67,71,61,88,80,64,67,64,85,64,90,61,70,96,89,63,93,80,94,84,87,100,69,85,78,62,61,65,86,83,82,61,79,97,76,85,91,91,81,94,76,96,70,71,62,92,77,69,69,96,93,82,85,79,76,97,65,77,74,80,78,81,66,81,70,67,63,91,77,85,89,87,79,76,75,86,80,94,95,67,65,85,72,61,96,69,97,89,91,68,69,81,67,72,73,66,68,92,67,61,85,99,73,65,83,96,91,85,73,82,64,87,89,99,70,61,82,88,92,68,70,81,73,94,79,92,83,91,73,93,71,82,69,79,73,71,99,66,91,99,61,88,70,62,76,97,60,84,80,95,63,87,87,87,98,93,62,79,76,72,78,75,77,99,64,97,79,85,93,74,77,76,75,97,93,64,64,77,64,85,66,81,60,73,87,79,99,95,74,62,94,96,93,65,100,70,89,96,69,96,72,99,71,98,62,88,81,79,69,88,68,82,70,98,61,68,70,77,69,80,95,88,83,64,88,67,91,70,77,74,94,65,83,66,88,96,77,80,97,81,80,83,88,64,93,77,63,91,75,64,85,95,96,98,95,60,75,93,75,84,84,75,96,80,79,100,80,67,81,93,91,92,88,70,94,96,68,65,99,95,96,95,82,86,82,62,90,80,86,80,80,67,71,66,68,99,66,71,84,84,66,92,91,69,72,98,93,88,63,77,82,67,78,84,73,91,94,73,94,64,94,66,63,86,79,96,75,71,80,78,74,88,90,94,99,71,89,76,87,79,100,89,98,93,96,93,78,70,75,61,81,80,81,99,96,66,75,77,74,92,81,83,94,92,65,89,77,72,62,79,74,70,88,91,70,62,94,60,97,85,73,70,60,69,66,84,67,81,84,72,61,61,61,90,73,92,77,78,81,89,71,65,82,73,78,86,80,85,82,90,88,81,87,95,77,77,91,83,63,96,61,90,90,98,62,84,77,73,64,83,79,64,84,90,91,96,76,98,95,72,66,77,76,83,83,90,80,64,94,72,99,65,98,64,69,62,88,94,77,97,84,85,94,72,74,96,96,99,96,65,93,76,100,79,82,81,73,63,96,92,66,91,85,76,70,94,88,82,84,64,79,68,68,86,96,76,68,86,95,90,95,81,90,66,74,76,80,97,95,65,67,74,72,85,96,98,86,94,81,68,81,82,90,69,75,75,98,78,90,90,71,83,96,79,98,69,63,96,94,100,87,97,93,94,83,75,97,77,82,78,83,79,62,95,78,84,66,60,70,88,64,96,69,68,67,61,91,95,85,68,71,79,98,70,89,78,72,78,63,92,70,89,63,98,68,95,92,99,79,89,75,67,78,67,99,64,84,85,82,86,65,82,71,98,90,99,62,71,68,60,70,87,69,80,96,88,76,75,78,67,85,75,94,90,84,75,68,91,79,69,68,67,91,69,81,78,83,95,95,78,61,77,84,82,86,66,86,67,90,74,88,62,76,88,69,92,85,84,74,79,84,79,88,77,68,69,60,72,90,92,68,98,80,97,88,89,63,69,60,89,74,91,74,93,65,67,74,76,74,91,64,74,93,63,98,99,64,72,75,91,84,86,90,65,93,88,83,96,88,68,77,80,62,98,65,88,80,61,97,94,81,69,65,75,70,80,99,83,96,86,79,94,79,95,72,65,94,83,96,98,62,80,75,85,92,71,82,88,65,93,84,98,74,64,80,63,99,62,90,81,75,63,85,83,71,96,72,78,82,64,97,75,63,75,84,81,88,62,71,93,63,94,64,93,74,84,66,63,69,65,72,81,84,92,86,84,76,79,77,94,69,60,86,68,96,94,63,64,80,84,71,89,84,73,61,90,69,93,77,83,95,95,75,68,91,77,68,96,68,61,61,85,86,72,73,74,87,62,97,69,100,67,91,69,63,95,94,76,88,82,94,73,81,79,74,96,67,66,83,86,68,76,98,70,87,90,78,98,89,78,83,88,84,95,74,72,69,62,62,95,87,86,85,94,79,95,74,97,88,70,83,81,66,84,73,62,98,86,95,87,74,81,87,98,70,95,97,87,97,76,98,88,62,96,79,78,83,66,79,93,61,71,60,77,89,92,98,84,70,97,91,83,88,97,88,75,89,62,75,76,67,61,65,86,92,100,74,84,97,67,89,90,64,94,93,61,64,62,73,80,81,71,96,75,62,72,81,76,71,65,93,100,73,75,85,89,76,96,82,78,86,98,92,62,73,79,73,88,93,89,100,71,95,91,74,89,64,92,81,72,86,86,68,61,77,83,95,97,81,90,78,90,68,75,85,61,89,93,76,78,94,91,72,73,87,83,66,72,96,88,99,91,98,69,91,61,87,79,74,94,94,61,84,75,77,93,72,98,67,87,87,70,73,93,90,73,81,62,68,79,63,94,89,98,88,98,82,84,99,86,61,89,96,92,83,87,100,64,87,71,86,84,66,68,85,65,71,93,73,80,98,69,76,84,90,96,97,91,69,61,75,66,88,86,62,93,70,77,87,77,78,63,76,91,97,77,77,88,98,71,78,92,84,64,85,67,80,81,95,78,71,69,95,67,77,67,91,79,74,74,94,82,89,96,96,73,98,61,75,96,71,71,72,84,78,89,96,87,68,97,71,66,64,83,65,66,72,71,84,93,90,70,70,99,60,95,68,98,74,78,88,84,73,82,89,62,60,78,65,87,69,77,68,82,65,61,62,98,66,88,63,64,80,79,98,98,91,84,78,74,98,84,83,69,62,98,73,78,65,93,61,93,66,95,89,67,83,73,67,94,76,76,67,75,95,75,98,98,66,67,95,76,60,71,84,92,65,64,97,90,84,91,77,90,75,70,89,77,99,74,97,97,70,92,77,97,78,90,79,69,68,77,90,84,88,71,79,62,93,100,76,60,67,86,84,92,70,91,88,73,82,66,78,95,77,94,84,68,83,80,76,65,77,63,64,77,72,97,75,90,81,88,70,98,81,93,75,64,87,60,79,68,85,99,79,93,80,80,97,96,91,72,82,69,78,79,93,96,77,61,94,67,85,61,76,99,64,77,72,96,95,70,63,85,73,87,61,65,87,68,94,62,69,100,77,88,67,84,89,73,93,84,76,82,83,67,76,74,76,90,79,98,72,77,91,82,82,62,76,71,100,72,95,87,74,82,94,95,66,74,73,62,84,94,75,90,85,75,66,88,94,87,61,69,63,83,90,64,94,82,88,99,63,96,65,76,94,96,80,84,88,93,65,92,79,78,77,80,98,82,98,67,89,92,87,84,83,94,93,65,94,77,70,95,77,92,71,60,80,64,90,71,78,63,71,91,66,86,97,87,92,64,70,96,89,86,87,77,62,91,87,79,96,73,72,95,92,81,65,69,86,75,93,98,92,75,92,74,67,61,75,96,70,68,99,61,91,73,61,97,66,82,71,63,62,65,63,90,79,74,77,97,96,89,95,73,75,85,85,79,76,99,93,77,89,71,64,74,76,61,93,74,83,63,67,96,84,98,100,75,72,94,100,85,92,91,74,83,93,88,61,73,66,69,96,61,69,72,85,81,69,67,69,80,71,98,79,62,89,73,86,71,83,91,97,70,73,79,97,96,64,65,80,64,74,66,85,98,100,75,84,94,65,88,76,68,76,63,88,70,72,65,95,80,83,83,76,68,90,65,64,88,68,72,79,78,88,85,86,89,72,73,78,72,99,93,67,60,62,70,65,81,94,89,69,76,80,92,94,96,80,88,64,83,70,77,85,70,62,60,61,60,64,70,69,99,72,65,82,94,87,72,82,89,89,87,95,95,83,77,86,93,60,100,67,79,95,69,79,65,76,67,75,75,100,100,65,89,62,61,64,99,98,68,66,70,81,83,69,90,72,97,86,77,92,93,72,74,97,67,62,78,92,91,97,81,64,84,91,64,67,60,84,95,87,99,63,96,93,73,99,72,96,95,90,83,65,81,74,92,90,96,61,92,98,92,65,63,61,85,85,99,76,73,85,93,97,92,77,85,94,80,69,67,60,89,64,70,72,82,76,87,62,65,80,73,72,63,96,88,65,63,99,87,77,88,90,91,79,77,60,97,84,68,97,97,100,95,100,70,94,93,69,64,99,72,95,60,61,79,70,88,83,63,67,76,67,92,77,64,79,64,65,70,94,97,93,73,71,82,89,100,65,62,88,93,94,87,98,80,97,99,94,72,68,82,78,95,64,70,90,64,73,75,85,66,94,78,97,79,71,66,60,81,64,76,84,71,67,91,98,64,66,98,62,99,60,95,72,98,73,86,63,70,91,81,97,77,95,78,99,98,73,95,94,68,85,63,93,67,63,76,83,94,99,78,62,90,83,78,72,80,74,90,82,95,82,70,94,82,68,85,74,94,78,89,64,76,99,92,66,71,73,86,90,90,80,92,77,65,83,98,92,83,86,97,77,73,99,95,73,79,77,66,98,76,95,68,82,61,91,83,85,62,68,63,72,85,83,84,82,71,70,65,94,85,67,67,95,90,86,76,70,99,92,72,94,90,72,77,67,64,89,71,93,100,63,79,92,92,90,74,78,84,99,73,97,71,100,87,79,85,71,71,65,65,74,91,84,64,94,84,98,87,67,79,86,61,61,65,70,77,79,66,87,84,72,61,63,76,66,75,85,82,69,74,85,94,90,82,74,75,95,62,100,87,87,62,84,79,64,71,96,82,77,63,89,88,85,80,77,84,69,98,84,72,78,92,66,72,87,73,92,65,91,63,61,96,83,74,69,85,80,100,99,85,78,80,87,64,73,63,63,68,79,91,79,73,63,82,71,85,99,64,68,79,99,91,96,73,100,64,62,94,97,64,65,61,64,68,99,87,91,91,81,92,84,73,82,81,93,99,76,91,64,91,75,62,75,84,65,97,63,97,88,73,76,90,84,87,76,80,100,69,77,72,91,91,72,63,60,77,76,100,79,70,96,80,84,64,75,98,84,74,85,96,71,80,98,67,89,85,87,74,73,87,69,77,68,60,99,77,99,66,83,68,92,91,65,96,68,85,99,95,98,74,64,68,80,92,66,86,73,74,86,79,92,66,92,63,68,86,94,70,73,81,68,92,91,66,79,91,73,85,62,84,66,93,74,71,94,62,76,75,71,96,90,63,89,81,96,73,83,80,80,78,68,90,78,98,70,87,98,87,95,93,74,84,66,81,69,90,81,76,71,100,63,62,69,99,99,86,95,69,99,66,64,64,83,91,75,99,77,66,79,87,93,78,84,71,86,99,62,95,82,70,98,79,73,67,70,93,85,97,69,65,60,80,100,88,72,95,91,61,93,72,66,69,79,77,72,67,90,100,91,72,70,69,65,82,84,88,87,72,73,87,74,69,75,71,64,93,94,69,63,90,68,76,63,69,92,92,68,73,65,63,100,86,82,91,94,92,61,67,86,75,99,87,98,68,95,73,100,66,81,92,77,79,99,77,84,62,94,86,76,61,84,61,60,85,68,68,86,62,73,66,83,86,89,70,64,63,77,98,69,70,64,84,87,86,94,79,65,72,86,85,81,87,85,95,83,91,70,87,96,75,91,89,62,83,65,99,92,64,65,84,74,61,82,76,64,92,97,90,93,69,71,68,91,98,89,95,86,76,77,63,61,88,78,82,82,71,79,79,76,93,78,84,96,95,96,71,61,70,71,96,86,63,65,66,85,89,94,98,68,72,70,74,97,83,90,80,61,63,82,89,69,89,92,76,90,76,87,91,100,74,76,67,68,88,97,76,67,71,78,72,69,89,60,82,92,71,84,87,86,78,74,93,90,73,64,63,64,83,62,73,90,72,91,90,70,89,90,76,68,81,97,86,67,87,77,84,89,81,93,89,85,66,93,97,65,80,70,90,89,66,95,67,92,78,73,66,67,86,82,65,65,63,90,88,62,82,63,96,96,88,97,92,93,83,72,69,73,85,67,70,79,69,84,97,90,87,83,80,67,96,70,64,90,67,75,61,65,67,62,86,93,75,95,69,73,66,85,77,85,90,82,85,97,72,74,89,84,67,75,79,77,67,97,90,79,87,96,65,70,82,92,61,99,78,74,72,67,92,98,77,98,93,79,87,77,82,62,88,62,93,93,69,73,79,84,71,84,72,62,60,64,92,98,77,81,66,82,66,84,97,68,91,61,75,64,74,67,75,77,72,86,97,76,68,71,94,83,78,66,78,71,98,95,63,81,69,76,95,81,73,68,92,85,79,69,73,98,81,76,81,91,74,67,83,87,89,95,75,63,98,77,85,87,82,68,90,92,82,80,65,63,74,72,98,91,86,81,67,99,75,64,80,95,95,60,95,71,62,94,95,84,83,93,91,96,82,99,100,65,94,80,76,85,62,80,95,69,77,98,77,74,78,81,85,92,78,93,81,74,86,89,82,62,67,71,71,87,61,90,71,72,81,69,95,63,78,94,85,72,77,88,99,96,74,100,60,61,93,68,62,69,77,89,85,70,80,97,93,73,99,88,62,61,67,89,67,80,64,97,74,96,98,60,79,61,96,81,63,64,75,98,88,95,75,62,99,61,98,75,60,88,99,99,66,67,83,85,90,67,98,86,94,82,77,99,83,95,98,87,82,60,62,68,67,70,72,74,77,64,62,87,81,78,85,93,77,86,98,94,77,86,67,82,99,81,97,76,100,83,62,83,71,61,93,71,92,72,68,99,74,84,84,82,97,87,76,94,67,82,98,85,93,86,94,98,71,67,79,88,69,60,74,99,88,76,68,74,67,64,96,100,67,62,73,78,68,72,68,91,89,85,75,96,99,67,69,81,64,77,83,81,73,82,98,68,86,62,63,82,64,61,67,83,88,68,87,67,85,76,86,100,98,60,95,63,98,71,75,64,64,89,98,84,89,90,71,62,60,74,70,62,67,65,97,66,82,84,82,64,73,62,76,68,82,88,81,77,75,94,69,89,90,77,72,79,64,62,64,67,80,94,69,97,98,98,94,75,63,83,82,94,100,80,74,67,60,80,82,93,80,97,85,94,66,94,87,67,68,97,61,79,73,87,94,74,77,99,91,96,78,69,76,89,64,71,62,77,93,61,87,97,69,88,99,98,69,64,66,88,89,87,73,67,83,79,89,78,74,72,68,71,64,74,61,67,90,73,87,89,83,98,61,90,98,94,67,73,67,84,88,73,82,88,77,94,91,63,85,69,82,98,95,76,72,69,81,65,82,60,73,69,99,89,74,64,81,69,81,93,85,85,82,97,97,81,72,78,67,85,80,64,68,79,96,83,87,74,83,78,86,62,80,72,73,98,67,72,80,95,77,90,94,72,76,74,93,62,72,87,83,77,82,68,77,80,96,70,95,86,61,89,61,100,95,72,70,75,74,75,73,85,67,94,92,79,94,70,61,85,78,83,96,99,85,91,63,66,89,77,78,72,84,67,85,67,63,73,69,96,62,67,82,79,62,60,100,86,75,79,71,74,86,95,67,94,65,69,61,66,97,78,63,98,95,90,97,69,93,88,95,92,74,91,70,73,64,97,72,81,76,98,73,91,94,77,75,90,97,90,69,96,76,83,93,68,91,84,96,67,77,93,61,64,100,71,99,67,74,90,86,83,81,94,69,78,66,84,70,73,79,61,64,87,77,95,88,60,85,64,91,100,81,87,69,78,94,67,71,78,88,75,97,64,75,88,69,86,67,62,65,97,82,92,73,84,80,98,90,89,62,82,79,97,70,71,76,70,65,94,82,94,93,71,82,63,97,76,76,72,78,70,75,92,93,72,79,95,62,96,69,87,83,82,94,64,74,82,92,69,92,76,68,90,64,81,63,74,84,82,76,77,69,78,98,94,66,61,97,81,82,91,73,79,99,87,66,65,68,91,72,61,98,67,60,69,69,77,97,95,78,76,82,70,62,98,67,68,79,80,61,66,75,87,69,77,82,96,73,65,80,90,64,77,61,61,79,72,94,84,78,76,80,62,96,100,67,65,66,86,86,94,90,78,85,88,81,79,86,82,86,85,89,86,81,87,78,70,60,82,84,99,74,76,68,63,91,70,84,88,79,95,78,71,96,94,67,61,64,71,99,82,75,96,78,73,98,94,94,80,92,67,83,99,72,92,80,62,91,67,85,63,98,72,69,65,98,88,90,80,79,64,82,70,99,92,77,66,91,65,68,68,82,91,73,63,79,90,69,69,98,98,100,92,68,68,74,73,98,92,89,67,96,93,67,95,71,63,86,86,64,73,100,87,89,69,63,71,70,69,68,83,73,93,67,79,61,79,62,99,92,80,63,84,90,68,83,93,91,92,95,98,76,83,92,88,100,61,74,71,70,69,88,63,90,88,70,70,85,90,95,94,99,83,96,92,96,60,99,79,92,65,76,71,72,65,92,60,73,67,84,70,70,80,86,65,67,70,99,76,84,70,80,63,61,79,76,65,88,100,76,85,99,93,79,89,65,80,71,66,77,65,88,78,81,66,66,83,99,64,71,95,63,95,81,76,72,72,72,95,89,87,92,70,85,78,91,72,86,95,76,63,81,74,87,98,79,79,86,64,70,97,87,61,68,87,91,94,72,97,82,88,84,65,99,65,70,93,85,94,81,75,97,61,94,69,94,66,83,96,79,90,92,89,97,78,67,62,70,66,82,67,62,61,93,84,74,96,63,99,85,67,87,91,77,94,66,71,64,68,70,97,63,77,81,96,100,90,99,91,99,88,63,76,86,74,71,83,97,61,91,89,99,97,90,81,68,82,91,96,92,68,84,73,60,68,65,94,70,71,98,75,60,71,65,64,63,84,68,74,94,77,97,80,76,90,63,64,86,79,92,97,76,84,80,99,93,96,70,91,71,68,98,61,99,66,93,71,74,69,83,74,86,61,63,64,77,93,96,70,83,91,72,76,81,65,61,66,85,63,68,74,63,68,96,61,86,75,87,84,69,94,80,93,76,99,91,99,81,79,90,95,99,73,92,68,82,67,74,97,66,85,84,65,73,83,67,92,99,69,67,78,90,71,61,82,98,76,77,99,88,89,83,99,88,96,88,89,72,72,91,72,83,70,93,64,93,84,67,82,71,73,74,63,99,61,86,75,86,74,87,89,88,65,86,71,61,77,77,79,88,72,73,62,87,83,74,88,81,79,80,85,86,72,66,66,86,95,76,67,90,93,95,84,94,61,64,64,89,63,80,79,72,95,67,74,91,61,87,93,97,95,73,83,63,70,64,73,95,74,82,77,78,99,72,85,77,62,80,93,64,63,66,91,89,83,79,96,91,92,93,86,78,95,97,61,62,98,71,95,76,65,63,66,70,80,88,99,78,81,81,82,81,60,60,64,64,88,68,96,97,99,98,71,80,67,92,96,94,77,90,64,62,90,77,100,64,94,79,93,93,97,72,98,66,63,77,93,79,93,89,68,98,62,96,72,80,77,67,74,68,68,67,80,92,83,96,85,88,87,78,88,63,94,91,70,91,61,69,63,91,90,93,60,80,88,66,86,63,67,79,86,66,67,68,70,69,76,86,78,91,89,65,62,95,63,66,61,85,83,99,95,76,75,72,66,66,65,65,70,72,98,83,100,75,78,73,67,66,98,99,62,66,77,67,75,65,78,71,74,64,77,99,73,95,94,98,92,86,94,63,79,100,91,98,91,95,88,90,81,97,93,94,87,72,61,97,83,72,66,93,93,93,86,75,72,60,93,63,85,80,81,97,61,91,62,62,77,63,92,81,61,62,85,92,78,82,92,84,69,85,85,89,85,99,68,98,82,87,64,75,91,88,62,82,64,100,96,61,94,97,74,89,78,86,74,73,77,66,93,74,76,96,80,82,98,95,67,79,99,75,75,68,65,90,91,99,91,70,62,99,74,72,96,83,69,96,100,63,94,76,81,97,99,70,69,63,82,61,76,63,76,62,93,68,73,95,90,69,63,89,76,91,78,74,78,90,96,62,81,61,79,95,74,97,85,97,90,64,69,76,67,80,79,98,77,91,98,95,68,80,74,76,74,93,78,81,99,62,80,91,66,84,70,95,73,73,84,67,71,77,74,81,84,83,86,72,65,90,94,70,76,80,81,86,62,89,62,79,93,78,66,99,96,91,76,67,98,81,94,74,73,99,81,66,69,79,62,79,77,91,74,99,67,84,64,89,100,93,82,79,93,97,100,76,100,66,70,64,71,91,94,91,85,81,88,76,94,87,88,81,95,70,75,91,80,96,74,75,96,79,81,73,71,86,65,95,91,68,88,84,67,71,76,88,86,81,91,90,85,91,73,95,85,93,82,69,82,75,88,79,93,87,87,69,99,94,92,73,81,65,82,66,82,86,76,80,95,64,92,67,61,67,91,76,95,81,61,89,64,92,67,74,90,98,75,93,68,92,86,68,72,65,75,68,86,100,60,82,83,97,80,82,79,71,62,76,62,82,72,81,65,97,96,68,74,85,64,74,70,97,94,83,81,97,97,99,65,66,87,82,61,62,96,95,74,96,84,92,77,65,77,78,82,64,100,70,68,81,81,78,91,81,84,89,61,83,95,61,76,97,74,78,99,68,63,94,95,79,81,93,90,71,61,79,94,96,98,95,83,78,91,90,82,63,97,78,75,85,87,68,93,72,67,76,89,99,92,98,66,63,82,72,93,87,99,70,79,80,70,84,78,78,75,61,81,73,60,72,71,76,65,80,88,85,92,78,81,92,77,88,77,77,90,67,74,69,74,69,83,92,91,75,100,84,76,93,89,90,68,79,94,80,87,84,94,71,83,65,88,89,62,87,77,65,77,68,77,75,90,91,84,61,97,87,61,93,68,83,79,77,96,77,63,98,97,87,79,64,92,63,63,81,66,60,77,65,66,63,68,89,92,78,80,61,63,70,82,90,84,76,65,91,75,89,81,90,96,97,81,80,71,97,78,65,77,65,80,82,74,63,98,91,94,75,90,79,68,65,74,66,100,62,78,78,72,83,66,91,73,84,89,96,93,84,76,80,91,95,64,75,91,77,73,76,84,100,80,68,67,62,82,82,68,88,90,70,74,100,75,90,78,92,91,87,94,98,83,69,76,90,86,67],\"y\":[0,2,2,1,3,3,1,1,0,0,4,2,2,2,1,2,0,1,3,3,0,1,1,1,2,0,1,0,1,2,0,1,2,2,2,1,2,2,1,1,3,1,1,3,1,2,1,2,3,2,1,0,2,0,2,1,1,1,2,0,1,0,2,2,0,0,1,3,1,1,3,1,1,2,0,1,4,0,1,1,1,1,5,2,2,0,3,2,3,0,0,1,0,0,3,3,1,2,2,0,2,1,0,0,1,3,2,3,3,2,0,3,2,2,1,1,2,1,0,2,2,1,0,2,4,1,0,1,1,4,2,0,3,0,1,3,1,1,1,0,2,1,3,0,2,0,0,2,3,1,2,2,1,2,1,3,2,0,2,0,2,2,1,0,4,0,1,2,5,2,1,3,1,0,1,3,2,0,2,2,2,1,2,1,3,1,0,0,3,3,5,2,1,0,2,4,1,1,3,2,2,1,1,3,1,1,1,0,2,2,1,3,1,1,2,3,2,0,2,2,0,0,2,0,2,1,1,0,2,1,2,3,0,0,2,3,0,0,1,0,1,3,4,2,0,1,2,0,0,0,1,2,1,1,3,2,2,3,4,1,1,2,1,0,1,0,1,2,1,0,2,4,1,0,2,1,4,3,2,1,2,1,3,0,0,0,1,0,4,3,3,2,0,2,3,4,3,3,1,1,1,2,0,4,3,1,1,1,1,2,2,2,0,0,1,3,0,2,4,0,0,0,0,0,0,3,2,1,1,0,1,1,0,1,0,2,0,3,3,2,0,2,0,0,1,4,1,0,1,2,3,1,0,2,1,1,0,2,2,2,2,1,3,1,1,1,2,0,0,4,1,1,2,1,0,1,0,2,1,0,1,0,0,1,1,1,1,1,1,4,1,0,2,3,0,1,4,3,1,1,0,2,1,1,2,3,1,0,2,1,0,2,1,1,1,1,0,2,4,0,1,1,3,3,1,0,0,3,2,1,2,1,5,4,1,0,2,1,2,0,4,2,4,4,0,2,2,1,0,3,4,2,3,3,5,1,2,3,2,4,1,2,2,2,1,1,3,0,4,4,2,0,1,2,2,2,1,1,3,3,1,1,0,0,1,2,3,2,0,0,2,2,0,2,1,1,2,2,2,0,3,2,1,5,1,0,2,1,0,2,3,1,2,2,1,1,1,0,4,0,3,1,2,1,0,1,2,0,0,2,1,3,2,1,3,2,1,2,3,0,1,3,2,1,4,4,3,2,2,1,2,0,3,1,1,0,1,0,1,3,1,1,1,0,3,1,1,1,1,3,0,0,2,0,2,2,2,3,1,0,3,4,2,1,4,3,1,1,1,1,1,3,1,1,3,5,2,3,1,1,3,2,3,0,1,1,0,1,1,1,1,0,2,1,1,1,0,1,3,3,1,1,0,4,1,2,0,0,3,2,2,0,1,2,1,3,2,0,2,2,1,3,2,2,0,4,1,0,1,1,0,1,0,2,1,1,1,3,3,3,1,2,2,2,1,0,2,1,2,3,1,0,0,1,1,1,0,1,0,6,2,0,3,0,1,1,0,2,0,5,2,0,1,4,3,2,2,0,1,2,0,1,0,0,1,3,4,3,0,1,1,1,2,2,0,0,0,1,1,3,4,1,0,0,6,1,2,0,1,1,1,5,2,1,0,1,2,3,1,1,1,2,3,1,2,3,1,1,1,1,3,1,0,2,3,1,2,0,1,0,1,0,0,5,2,2,0,4,4,2,2,2,2,0,2,4,2,2,1,2,2,3,4,1,3,4,2,0,0,0,1,0,2,2,2,2,2,2,4,1,2,1,0,0,3,1,2,1,2,1,1,0,0,0,2,2,2,1,0,2,2,1,2,1,0,2,2,1,2,2,3,3,0,5,5,0,2,2,0,4,2,1,1,1,1,1,1,2,1,3,1,2,3,3,4,0,3,3,0,3,0,0,3,0,2,3,2,2,0,2,2,0,2,1,2,0,3,2,0,1,1,2,0,1,1,2,0,2,0,1,2,1,0,2,3,1,1,1,1,1,0,1,3,1,1,3,4,2,3,1,2,2,0,0,0,3,2,1,3,1,1,2,2,3,1,2,1,1,0,1,1,2,2,2,1,3,0,2,1,1,3,1,0,2,2,2,0,2,0,1,1,1,3,0,0,2,1,2,3,2,0,1,2,2,2,2,0,2,1,0,3,3,0,1,2,1,0,2,1,0,2,0,1,3,3,1,2,1,2,2,2,3,1,0,3,2,3,3,4,2,2,1,2,1,1,2,1,2,1,0,2,0,0,0,0,0,0,3,0,0,0,4,0,2,3,1,0,1,3,2,0,2,4,0,0,2,2,0,2,1,3,0,0,0,1,2,2,0,0,3,0,2,0,0,0,3,2,1,0,1,1,2,1,1,1,3,2,3,3,1,3,1,3,2,0,0,0,0,0,4,1,1,5,1,1,0,2,3,1,2,3,2,2,0,0,1,4,2,2,2,2,1,2,1,1,3,1,1,1,2,1,3,1,0,3,0,0,0,0,3,1,0,4,4,1,1,1,0,1,2,1,3,0,2,2,4,0,0,1,0,2,3,0,2,4,1,0,1,4,2,1,3,0,1,0,1,2,1,1,0,1,1,4,1,3,5,2,0,2,0,0,0,2,0,1,0,2,0,2,1,2,1,2,3,0,4,2,0,2,1,3,0,0,2,2,1,1,1,0,4,3,2,1,2,0,2,0,1,2,3,1,1,1,2,2,0,5,2,0,2,1,1,1,3,1,1,0,0,1,2,0,4,1,0,0,2,1,2,1,0,0,1,2,2,1,0,1,0,1,0,1,2,1,1,1,0,3,0,2,0,2,2,0,2,0,1,1,2,2,2,1,4,0,4,2,1,3,1,2,1,2,4,3,2,2,1,0,2,2,3,0,2,0,1,1,2,1,1,0,2,0,1,1,2,1,1,2,2,1,3,1,1,0,0,5,1,2,3,2,1,0,1,0,0,2,2,3,2,1,2,2,1,1,1,2,5,1,1,0,1,3,3,1,1,0,3,2,0,3,1,2,1,2,4,0,1,0,1,0,0,2,1,1,0,1,2,2,1,1,0,2,0,2,1,1,4,0,1,1,2,0,1,4,2,3,1,0,2,4,1,0,0,3,0,1,3,2,2,4,0,0,1,3,2,0,0,4,1,1,2,2,3,1,0,2,1,0,1,5,1,1,1,1,0,0,1,1,0,0,0,5,2,3,1,0,1,2,0,3,3,1,0,1,1,2,1,1,1,2,1,2,2,3,0,0,1,4,0,3,1,2,0,7,0,1,2,1,2,1,1,1,2,2,2,1,1,3,3,2,3,1,3,1,1,2,1,2,3,0,1,1,1,3,1,1,0,1,0,0,3,2,1,0,3,2,1,1,1,1,0,1,2,1,0,2,2,2,1,2,2,3,3,0,1,1,5,1,0,2,3,1,1,0,1,4,1,0,0,2,2,2,1,0,0,1,3,1,0,7,1,2,3,2,0,2,0,0,2,1,0,2,1,0,3,0,0,3,1,1,0,1,1,0,3,4,1,2,1,2,2,1,3,1,1,0,1,3,0,2,2,1,3,2,2,4,3,0,1,1,2,3,0,2,0,2,1,1,1,0,2,2,1,0,1,1,2,0,0,3,2,1,1,2,2,2,3,0,5,1,1,2,1,1,1,1,1,2,3,2,1,2,0,1,0,3,0,1,0,3,2,2,1,2,3,3,0,1,3,1,2,1,0,0,2,0,2,1,3,3,0,1,4,1,0,2,4,3,1,1,2,2,0,1,2,1,1,1,0,3,0,2,3,1,1,2,1,0,5,2,3,0,2,0,2,0,1,0,2,2,0,0,1,3,1,0,2,3,1,0,0,3,3,1,3,1,1,2,3,2,0,2,2,1,3,3,2,3,4,0,2,0,1,3,0,0,1,2,0,1,3,0,0,0,1,2,1,2,0,1,1,0,2,2,2,2,4,2,1,0,2,1,2,4,2,1,1,1,2,1,3,1,2,3,0,3,3,4,1,0,2,1,1,2,0,1,4,3,2,0,2,2,2,0,2,1,0,4,0,3,2,1,3,0,3,2,0,1,2,1,1,0,1,1,3,2,2,1,2,1,1,0,0,2,3,2,3,0,0,1,5,1,3,1,1,2,1,2,2,6,0,0,2,2,3,0,0,1,3,3,1,2,1,0,1,2,3,2,0,1,2,3,3,2,1,1,0,1,0,3,1,2,1,1,4,2,2,0,0,1,0,1,0,2,5,1,2,0,1,2,4,3,0,2,2,1,0,2,0,3,5,0,0,1,2,1,0,2,0,0,2,2,2,3,2,1,3,3,4,2,0,2,1,1,0,2,0,3,3,3,1,1,0,1,0,0,2,2,2,1,0,1,0,0,0,0,1,3,2,2,1,0,2,1,5,2,0,4,2,2,1,2,3,2,2,1,0,1,1,2,2,2,2,0,0,1,1,2,5,2,3,1,2,2,1,1,1,3,2,2,2,2,1,0,3,0,1,0,1,0,1,3,0,2,1,2,1,1,1,2,3,0,2,0,0,2,3,2,3,3,3,1,0,1,1,3,1,4,1,3,0,7,2,2,2,3,3,2,0,1,1,2,0,2,1,1,2,4,3,2,0,2,1,2,1,2,1,3,2,1,1,0,1,0,1,1,4,3,2,3,1,2,1,2,3,0,0,1,1,1,3,1,2,0,1,2,1,1,3,2,0,0,0,0,1,0,1,0,2,0,1,1,2,4,1,0,1,2,1,2,2,0,0,1,1,1,1,2,2,2,2,4,2,2,1,2,1,2,0,1,5,2,2,3,1,0,5,1,1,1,1,0,2,3,5,2,1,3,2,5,0,3,1,3,2,1,1,0,1,3,2,4,2,3,2,1,1,3,0,1,1,2,4,1,0,2,0,4,4,1,0,1,4,0,0,3,4,2,1,6,2,2,0,2,2,3,0,2,2,0,2,1,0,3,1,2,1,1,0,3,0,1,1,0,2,1,1,0,0,1,3,1,8,1,0,1,0,1,6,1,1,0,0,0,2,0,0,1,2,4,1,3,2,1,0,1,5,0,1,2,1,0,1,3,1,1,6,2,0,1,1,3,2,0,3,2,2,1,2,1,4,1,1,1,1,1,2,4,3,1,1,1,2,1,2,0,2,1,4,2,1,0,0,1,2,2,1,2,1,5,4,2,0,1,3,0,1,3,2,2,0,0,1,3,2,2,2,0,3,0,1,2,1,1,2,1,3,0,1,1,1,0,2,0,0,0,1,7,2,3,2,2,1,4,1,3,2,2,1,2,1,5,1,2,2,1,1,1,0,3,3,0,4,4,0,0,4,2,1,1,2,0,4,2,0,3,4,1,2,1,2,3,2,0,2,1,0,2,1,2,3,2,3,0,1,1,2,0,0,3,1,0,3,0,0,4,1,3,3,1,2,2,2,0,1,2,1,1,2,0,1,0,2,3,0,1,2,4,3,3,2,2,2,1,2,0,2,0,1,2,0,1,1,0,2,2,1,3,1,1,3,1,0,0,4,0,0,1,0,1,1,4,2,0,3,2,0,0,0,2,2,1,2,1,3,1,0,4,0,1,0,1,2,1,3,1,2,2,1,0,1,2,3,2,4,0,2,1,1,0,1,0,1,0,2,1,0,2,4,4,2,0,1,0,2,0,2,3,0,1,4,4,0,1,0,2,1,1,1,4,3,2,1,0,1,5,1,3,4,0,1,1,0,2,2,1,1,3,0,0,2,1,2,1,1,0,1,1,1,3,1,2,2,3,1,1,2,0,2,5,0,0,0,0,4,0,2,5,0,0,3,2,0,0,2,2,1,2,2,3,0,1,2,3,3,4,1,0,2,0,1,1,2,3,1,0,2,1,1,3,3,0,1,1,3,2,2,2,1,0,2,1,0,2,1,1,3,2,1,2,0,3,1,0,2,2,1,4,1,4,1,3,4,0,1,2,1,1,3,1,4,4,2,2,1,4,1,0,1,1,2,2,0,0,2,3,0,1,3,1,1,1,1,1,1,2,0,1,1,1,4,0,1,1,3,0,1,0,0,0,6,1,1,0,0,1,3,1,1,1,3,0,0,2,1,1,2,1,2,6,2,1,2,0,0,3,1,2,1,1,2,2,3,1,4,0,1,3,1,5,1,1,1,1,2,2,1,1,0,0,0,2,2,1,1,1,1,1,0,2,1,1,1,1,0,0,0,1,3,2,2,1,1,1,3,2,1,3,2,3,0,2,0,1,2,2,5,1,0,2,1,3,4,2,1,0,2,2,0,3,1,2,1,2,2,1,0,1,1,1,0,2,1,3,0,0,0,0,1,1,5,0,1,2,1,1,1,1,2,1,0,0,2,0,4,1,2,2,1,0,2,4,1,0,1,1,1,3,0,4,4,2,0,0,2,0,3,2,0,3,1,1,2,1,0,0,0,2,1,1,2,0,0,3,3,2,3,0,1,1,1,0,4,0,2,2,3,2,1,0,0,1,0,3,0,0,3,0,1,4,3,5,1,1,0,3,1,3,2,3,2,1,3,1,1,1,2,1,0,1,1,3,1,2,2,0,3,0,3,2,1,4,2,0,1,1,1,1,1,0,1,2,1,3,1,0,4,2,1,1,1,0,1,5,1,0,0,1,1,1,1,4,0,3,1,2,1,5,1,3,2,0,1,3,1,0,1,3,1,0,2,1,0,3,2,1,0,0,1,1,0,2,0,3,1,0,1,2,2,2,2,3,0,3,1,4,1,5,1,1,2,5,2,2,2,3,1,1,2,0,2,2,2,2,0,1,1,1,2,0,1,3,0,1,2,1,2,4,1,3,3,0,3,0,2,1,2,1,1,5,1,1,2,3,0,1,3,1,1,2,1,2,2,1,0,0,3,1,4,3,3,1,4,2,0,2,0,2,2,1,0,2,0,0,1,1,1,1,0,2,1,1,2,2,3,0,1,2,2,1,1,3,3,0,0,3,2,0,2,1,1,3,3,3,2,0,0,1,3,0,0,2,0,3,2,0,2,2,2,0,0,3,2,0,3,1,4,2,0,1,1,3,0,3,1,0,1,1,2,2,2,1,0,3,3,1,2,1,0,1,4,1,0,1,2,2,0,3,1,2,2,3,3,2,3,1,2,2,0,2,3,1,0,0,0,0,0,0,2,0,1,2,0,1,2,1,0,2,4,0,5,1,0,2,1,5,2,0,1,1,0,4,0,1,2,2,3,2,2,4,5,0,1,1,1,2,0,1,2,1,2,4,3,1,4,1,1,1,2,2,1,1,0,4,3,1,3,1,3,1,0,1,1,2,0,1,2,0,0,0,0,1,0,4,0,1,2,4,2,1,3,0,2,2,0,1,0,0,1,1,1,2,4,0,0,5,1,1,2,2,2,3,2,2,2,1,1,2,2,0,2,1,0,0,1,1,2,3,2,3,0,1,0,0,2,2,0,2,1,3,1,1,0,2,1,0,1,2,4,1,2,1,4,1,2,1,2,5,2,2,2,1,2,4,2,2,4,1,2,3,1,3,2,2,2,1,1,2,0,3,2,2,1,1,1,0,0,1,1,2,1,2,0,0,1,1,0,1,1,0,1,4,0,3,2,0,4,2,2,6,1,1,1,2,1,2,4,2,4,0,2,2,3,3,1,1,1,2,2,1,0,1,1,3,2,3,3,2,0,2,5,4,1,1,2,1,2,0,2,1,3,3,0,0,2,2,3,2,0,2,2,1,1,1,1,2,1,0,2,1,5,1,3,3,1,0,2,1,2,1,0,1,2,1,1,0,1,1,3,1,1,4,2,2,0,2,0,2,1,2,1,1,2,1,1,4,2,1,0,2,0,2,1,2,0,0,1,2,1,2,1,0,2,0,0,2,2,3,0,2,2,1,4,1,0,3,2,4,2,3,0,2,1,2,0,2,0,0,4,2,2,4,4,3,3,3,3,3,1,2,2,3,1,0,0,0,2,2,1,1,1,0,2,0,1,4,1,0,2,2,2,1,1,1,2,2,2,2,0,0,0,1,2,2,3,2,0,3,1,0,4,3,3,1,3,1,1,0,1,3,0,3,3,1,1,0,0,0,1,0,3,2,1,2,0,1,1,2,1,2,1,3,0,1,2,1,0,1,6,0,1,3,1,2,1,1,4,4,2,0,0,2,0,1,0,0,0,1,2,1,2,4,1,0,3,0,2,1,0,1,2,1,3,0,1,0,2,3,1,1,3,1,0,1,0,0,1,1,1,1,2,4,1,1,2,1,0,3,0,3,1,3,3,3,0,2,0,0,2,1,3,2,2,1,2,1,1,1,3,5,1,3,1,4,0,2,1,3,3,2,1,1,2,2,0,2,2,2,1,1,0,3,3,4,1,4,2,0,2,2,2,1,0,1,1,1,3,2,1,1,1,1,1,2,3,3,2,3,2,0,1,3,1,4,1,0,1,1,0,2,3,3,0,2,0,1,1,2,0,4,2,2,2,3,1,3,0,0,1,0,1,0,0,2,1,1,2,4,3,0,0,2,1,1,2,2,3,3,0,0,2,1,1,1,2,0,1,1,0,1,4,2,1,3,2,1,0,2,5,1,0,3,2,3,1,3,3,0,3,0,1,0,0,4,1,2,3,5,3,3,2,4,2,1,3,1,1,0,2,0,2,0,1,0,0,1,1,2,0,2,0,1,1,4,2,3,1,0,2,1,4,2,1,1,2,0,2,4,1,2,0,7,2,5,2,2,2,4,2,1,3,3,1,2,3,6,4,1,1,0,3,3,2,2,2,2,1,2,2,3,1,0,0,3,0,2,3,1,2,2,0,0,3,0,3,1,2,1,1,2,2,3,0,4,2,1,2,1,1,3,3,1,2,0,1,0,1,5,2,1,2,2,1,0,2,0,2,3,1,0,2,1,1,2,0,1,1,2,0,3,2,5,0,1,1,0,1,1,3,1,0,2,1,1,2,0,2,2,1,2,2,5,0,1,0,0,0,3,2,0,3,1,1,0,1,4,1,5,2,2,7,1,0,3,3,1,0,2,3,2,3,1,1,1,1,1,1,3,2,3,2,1,1,3,0,1,1,1,1,0,0,2,0,2,1,0,3,2,0,1,4,2,5,2,3,1,2,2,3,0,0,0,2,0,3,2,3,2,1,1,2,4,0,1,2,1,0,1,1,1,0,4,3,1,0,2,0,1,3,3,2,2,6,0,1,0,1,1,0,0,3,4,0,0,2,2,2,0,1,1,1,0,1,0,0,1,2,3,2,1,2,1,1,2,1,0,2,4,1,1,1,0,1,0,3,1,0,0,2,2,4,3,0,2,4,3,1,1,5,1,1,4,1,3,0,0,1,2,2,0,1,0,1,2,1,1,2,2,1,2,0,1,1,3,3,1,3,1,1,3,1,1,4,0,2,0,3,2,0,2,4,1,0,0,1,1,0,1,0,1,2,1,3,0,0,2,2,2,2,1,0,0,3,1,1,1,0,2,0,0,1,1,3,4,1,2,3,1,3,1,1,1,1,1,0,2,0,2,5,2,1,2,0,0,3,1,1,1,6,2,2,1,0,1,0,3,1,1,0,1,4,0,0,4,0,1,1,5,0,1,2,0,1,1,0,1,1,0,0,1,0,1,1,1,2,3,2,3,0,0,1,1,1,3,1,0,3,3,1,0,1,2,1,1,1,1,3,2,0,0,0,0,1,2,4,1,1,0,0,1,3,2,3,5,2,1,1,2,2,1,1,1,2,1,2,0,4,3,1,1,1,3,5,2,0,1,3,1,0,0,5,2,1,2,1,4,1,2,3,2,0,1,2,1,0,1,0,0,2,2,0,0,3,2,1,0,2,0,0,1,2,4,0,1,0,3,2,2,2,2,0,2,3,2,2,1,2,0,3,2,2,1,2,1,0,0,1,1,1,4,1,1,3,0,1,2,0,0,0,2,1,1,3,4,1,2,1,0,2,1,3,3,2,1,0,1,1,0,2,3,0,2,3,3,1,4,0,2,1,1,1,1,4,1,1,2,1,1,0,0,0,2,3,1,0,0,1,3,2,2,0,3,1,2,0,0,3,2,0,2,3,0,2,3,1,0,3,1,2,0,0,0,0,1,1,2,1,2,2,2,2,3,0,1,1,1,0,1,3,1,0,3,1,0,2,0,1,0,0,2,0,3,1,0,1,1,1,0,3,1,2,0,0,3,1,2,0,0,2,4,3,2,0,1,1,0,3,0,2,1,2,2,1,2,1,1,4,2,1,1,2,1,2,2,1,0,2,1,2,0,0,3,3,0,1,3,2,2,1,1,2,1,2,0,2,1,1,1,0,0,2,1,1,3,3,1,2,2,0,2,0,3,3,2,3,1,0,2,1,1,2,1,0,0,1,3,0,2,2,0,0,0,2,2,0,2,2,0,3,0,1,3,2,1,2,3,0,1,2,1,0,1,0,3,2,0,1,2,2,0,1,2,1,4,1,0,0,0,1,2,1,1,2,1,1,1,1,1,2,1,5,2,0,3,0,4,2,1,3,1,0,1,4,2,4,0,1,1,1,2,1,1,0,1,0,1,3,0,6,0,1,2,1,0,2,3,2,1,2,1,1,2,2,1,1,5,3,0,2,1,1,4,2,4,3,1,1,0,1,1,1,3,1,1,0,1,1,0,0,0,1,1,2,0,1,4,1,3,1,2,1,1,1,1,2,3,2,1,1,2,1,2,1,2,1,2,2,2,1,2,2,0,3,0,0,0,1,2,2,4,3,2,2,2,0,1,0,1,1,4,4,1,2,0,2,0,1,2,2,1,6,0,0,4,5,1,1,1,3,1,0,2,1,1,0,2,3,2,2,1,3,0,0,1,1,0,0,1,0,1,2,2,0,0,1,3,0,1,2,1,4,0,0,4,1,1,1,1,1,2,3,0,2,1,3,0,3,1,2,4,3,2,2,0,0,0,1,0,0,3,3,2,2,2,3,2,1,2,3,2,0,4,0,1,1,2,2,2,1,3,2,0,2,4,2,0,0,4,4,3,0,1,3,1,2,1,0,3,0,0,2,1,3,1,1,1,2,0,1,0,2,1,2,1,1,1,3,2,2,0,3,3,1,2,1,0,5,2,1,0,1,0,0,1,0,3,3,2,3,1,1,2,1,4,0,2,2,2,1,1,2,0,0,0,0,1,0,1,1,0,0,2,0,1,1,3,3,0,1,1,0,1,3,3,0,2,0,2,1,1,0,1,0,0,0,0,1,3,2,1,3,1,4,2,1,0,1,2,1,1,1,0,0,1,1,1,2,5,5,2,1,2,4,3,2,2,2,3,0,1,0,3,0,1,2,1,0,2,2,1,1,2,2,1,1,4,1,0,0,0,0,1,0,0,2,2,4,3,0,2,0,2,0,1,0,1,1,1,3,3,1,1,0,1,1,0,2,0,1,1,2,0,1,3,2,0,1,0,1,1,2,2,0,1,3,0,1,1,1,0,2,4,1,1,0,1,1,2,3,3,0,1,2,1,1,1,2,3,0,0,2,1,2,2,1,2,0,2,1,1,3,3,1,5,3,1,0,1,2,1,2,2,0,2,2,3,1,0,1,1,1,3,3,1,3,2,1,2,2,0,2,0,1,0,2,3,4,2,3,0,1,0,0,2,1,2,2,2,0,2,3,2,1,2,1,1,1,1,0,2,1,5,0,4,2,1,2,1,0,0,1,1,3,0,1,1,0,2,2,0,1,2,0,2,1,1,1,2,4,2,2,2,0,1,4,1,0,0,3,0,0,1,1,0,0,1,0,1,2,0,1,2,1,1,0,0,1,1,0,0,2,2,4,2,1,2,2,0,1,5,0,3,0,1,0,3,2,1,3,2,0,2,2,1,0,1,2,2,2,3,2,2,3,3,1,2,2,1,5,0,2,3,2,2,0,1,1,2,0,2,1,1,0,3,2,0,0,1,4,2,5,0,0,1,2,2,1,2,1,1,2,2,1,1,1,3,5,2,2,1,3,1,1,0,1,0,0,1,1,3,2,0,3,0,2,5,2,1,1,0,1,3,2,2,1,1,1,2,0,1,3,2,2,0,1,1,2,3,1,0,3,4,1,1,1,1,2,0,1,3,1,3,2,1,3,1,0,5,0,1,0,2,1,0,3,0,0,0,3,0,4,1,5,1,2,2,0,1,3,3,2,3,1,0,1,0,1,1,0,2,0,0,1,4,1,1,1,1,1,0,2,5,0,3,1,1,3,0,2,3,3,0,1,1,2,0,1,3,2,0,1,0,1,3,3,1,1,2,1,0,2,1,1,2,2,1,1,0,3,3,1,0,1,1,1,2,3,1,2,1,0,3,2,1,2,5,1,1,1,1,0,2,1,5,1,0,1,0,2,1,2,2,5,3,0,1,0,2,0,1,2,2,2,1,2,0,3,1,0,2,0,3,0,2,0,2,1,2,2,0,2,2,0,1,1,1,1,2,0,1,1,0,0,1,1,2,0,2,1,0,1,1,2,0,1,1,1,3,1,1,0,3,0,2,1,2,0,1,1,4,2,4,1,3,0,0,2,1,0,3,0,3,0,1,0,0,1,2,1,1,3,1,1,2,0,0,2,0,1,1,0,4,2,2,0,2,2,0,0,3,2,0,1,2,1,3,2,0,3,1,3,3,1,1,2,2,0,1,2,1,3,0,2,1,1,1,1,0,3,1,2,0,1,3,2,1,0,1,0,1,1,0,0,3,0,0,0,1,0,1,0,1,0,2,3,1,2,1,1,3,3,1,4,3,1,2,1,1,1,0,0,7,1,2,3,4,1,0,1,1,2,1,0,2,3,0,1,4,1,0,0,1,1,1,1,2,3,1,2,4,3,1,1,0,0,2,1,3,1,2,0,2,0,4,1,3,0,1,2,1,1,1,0,2,5,3,2,3,1,0,1,0,1,1,2,1,2,0,5,2,1,1,2,1,1,1,2,2,2,0,2,2,2,3,0,4,3,3,3,2,1,1,3,1,4,1,2,0,3,1,3,1,2,2,1,2,2,4,3,0,1,1,1,2,1,3,1,0,4,3,2,2,1,1,3,1,2,2,3,2,0,2,2,3,1,2,2,0,0,1,5,1,0,1,1,0,0,3,1,0,1,1,1,0,3,3,1,2,0,1,5,1,1,1,1,3,1,2,0,1,1,2,0,0,1,2,6,3,1,1,1,3,0,3,0,0,0,1,0,1,1,1,0,0,0,1,1,1,0,4,5,5,0,0,0,2,1,0,1,1,1,1,1,1,1,1,1,0,2,1,1,3,1,0,3,1,2,3,1,0,1,1,3,2,1,1,3,0,3,1,2,0,0,0,0,2,1,3,1,2,1,0,0,2,1,0,1,1,1,1,2,1,1,1,2,2,0,0,4,3,1,1,1,2,2,1,1,2,1,1,1,2,1,0,2,2,2,0,2,0,2,2,2,1,2,2,2,0,2,1,2,2,4,0,0,1,3,1,3,1,3,1,4,4,1,0,1,1,0,1,1,1,2,1,0,1,1,2,4,2,0,1,1,3,4,2,2,2,1,2,3,3,1,1,1,1,3,1,0,1,1,3,3,1,2,2,1,1,1,2,1,0,2,2,2,2,4,3,2,2,2,4,3,0,2,0,1,2,0,0,1,0,6,3,0,2,0,3,2,1,3,0,2,0,3,0,1,0,2,3,1,0,2,1,2,1,0,0,2,2,1,2,0,1,4,2,1,2,0,3,1,0,2,2,0,3,1,1,0,1,5,1,3,0,0,2,3,1,3,1,0,0,4,0,2,4,0,1,0,1,0,1,0,1,2,1,4,1,1,0,1,0,0,5,1,3,1,0,1,2,3,1,1,3,5,2,4,1,4,2,5,4,2,2,2,2,3,4,2,1,3,2,2,1,2,2,4,3,1,2,1,2,0,1,4,1,0,1,0,2,0,0,1,2,0,3,2,3,0,3,2,3,3,2,0,4,2,1,2,2,1,1,1,1,0,0,3,0,3,1,3,3,1,2,0,0,1,3,4,1,2,2,1,2,3,0,1,3,0,2,2,0,2,0,1,0,1,1,2,1,2,0,3,1,0,0,1,2,4,0,0,0,0,0,3,4,2,1,1,1,1,0,1,1,3,1,3,0,2,2,2,4,2,2,0,1,3,0,3,2,4,1,0,2,2,2,2,1,0,1,0,0,2,1,1,2,2,1,0,4,0,2,3,1,2,1,2,3,3,2,2,0,2,0,1,0,2,3,2,0,1,1,1,0,1,2,0,1,1,2,3,2,4,1,1,1,0,0,1,1,0,2,1,2,2,3,4,4,2,1,1,4,0,2,1,0,2,1,1,1,1,1,3,1,1,1,2,2,0,1,1,1,4,2,1,1,1,2,3,2,1,1,4,0,2,1,0,1,3,1,2,2,1,2,0,1,0,4,1,3,1,5,2,1,0,0,0,0,5,2,2,1,3,2,2,1,1,2,2,1,2,1,2,0,3,2,1,0,0,0,2,1,0,0,1,1,1,2,0,0,3,2,2,1,2,2,2,3,1,1,3,1,4,2,1,2,1,1,1,1,2,1,0,3,3,0,1,1,0,2,2,1,1,1,5,1,6,1,2,2,2,0,3,0,0,3,1,3,1,0,0,0,1,2,3,1,2,3,1,1,1,0,2,1,0,3,2,1,0,4,2,0,3,1,1,1,2,2,4,2,1,1,1,2,0,2,3,1,2,5,2,1,4,2,1,0,3,4,3,0,2,1,3,4,5,0,1,1,3,1,4,3,0,2,1,3,1,3,0,2,3,1,0,2,1,1,0,0,2,0,5,3,2,1,3,0,1,1,0,0,1,0,1,0,0,4,1,2,0,1,3,2,2,1,3,3,2,0],\"z\":[67,61,74,71,70,71,67,66,69,72,68,71,70,66,65,64,60,65,67,66,69,72,66,66,63,64,65,71,66,64,63,69,67,61,68,61,64,67,63,64,67,65,64,70,68,65,68,64,68,63,64,64,67,67,66,72,65,71,66,68,70,62,68,67,71,68,69,70,69,65,70,71,65,72,69,66,68,65,64,60,65,66,74,62,70,69,67,64,71,68,64,63,71,69,100,68,62,68,66,64,67,65,65,69,63,72,76,69,67,69,63,67,66,79,64,73,63,65,73,70,68,65,71,64,68,69,69,69,67,68,64,66,63,66,66,67,65,68,68,65,71,65,64,72,65,66,61,68,69,72,71,70,68,67,68,68,72,65,66,65,67,66,69,66,69,67,66,71,70,71,66,67,66,72,68,69,71,70,67,69,65,65,64,63,69,64,72,63,64,64,67,71,70,61,67,72,66,70,67,67,71,66,68,74,64,65,66,66,68,78,67,74,74,62,66,69,68,89,66,68,69,67,75,60,66,73,68,62,62,65,69,64,67,70,70,69,61,69,63,67,65,66,63,68,65,67,68,64,71,69,67,65,68,67,67,66,70,65,69,65,63,67,61,65,66,66,69,63,65,67,69,65,65,65,67,66,72,66,65,69,68,64,69,59,68,60,62,67,68,64,65,65,63,70,66,68,66,63,66,65,66,67,66,63,66,67,71,67,69,67,72,70,67,64,67,69,68,63,68,70,66,68,67,69,66,68,69,70,74,70,66,69,64,62,70,68,65,65,71,66,61,67,65,65,65,73,62,60,61,67,70,69,66,64,68,67,64,65,66,63,68,66,63,63,74,70,68,66,63,67,62,71,72,72,68,66,70,66,72,64,63,61,62,68,68,63,70,68,72,67,61,69,61,75,68,65,67,75,64,70,67,63,65,67,86,67,63,66,65,67,69,66,64,73,66,68,70,69,67,62,68,72,69,66,70,71,65,70,65,62,62,70,66,67,72,66,68,62,64,65,66,64,67,69,68,64,68,64,71,61,68,73,64,72,65,68,71,65,66,63,74,66,63,72,69,67,66,64,67,69,65,64,65,72,66,66,67,69,73,69,68,61,63,63,68,63,66,65,68,66,66,70,61,61,71,67,70,69,65,61,68,74,67,70,59,64,66,63,61,68,65,69,68,69,67,70,68,67,67,75,63,70,70,64,59,63,67,68,68,97,66,61,70,65,64,69,64,61,64,68,67,62,66,72,68,71,65,68,65,64,65,65,73,72,64,69,69,70,83,68,84,75,67,69,71,66,65,70,66,74,66,68,68,62,71,63,69,71,66,64,65,69,66,67,65,65,67,66,69,64,70,68,68,69,68,70,67,72,69,69,64,63,70,70,66,70,66,68,61,72,69,63,72,65,74,62,65,68,66,71,62,65,68,70,67,63,63,69,66,70,63,72,65,67,63,65,67,80,68,63,64,73,66,66,66,69,59,68,67,64,65,68,70,62,72,62,68,69,73,69,67,65,63,66,66,70,69,70,58,67,73,66,70,67,60,65,63,72,62,70,70,64,64,67,64,72,66,66,71,66,64,66,62,70,69,65,70,70,67,69,62,67,65,65,65,69,63,66,67,69,67,70,67,70,65,63,64,69,60,69,72,63,63,66,70,68,69,72,67,68,70,68,69,68,66,72,67,70,73,73,60,67,69,65,70,68,66,65,64,67,65,64,67,70,63,71,68,67,67,68,66,68,70,67,67,62,67,70,72,70,94,66,69,68,71,69,67,64,63,66,66,69,64,62,66,70,67,68,67,62,67,68,64,64,66,72,72,66,72,69,72,60,69,68,69,62,71,70,68,68,70,65,73,66,71,62,68,70,68,71,70,72,69,63,62,68,70,69,68,65,59,66,64,63,72,67,94,70,66,69,64,63,71,65,68,64,64,66,68,67,66,68,66,71,71,68,64,67,64,68,62,64,70,68,69,65,67,65,71,65,66,65,65,68,68,67,65,66,63,70,72,67,67,66,66,69,62,66,64,67,71,73,68,66,75,72,68,68,69,63,70,66,66,72,71,72,69,71,69,68,61,68,72,70,73,67,65,68,65,97,66,67,70,66,69,62,68,67,68,69,62,75,65,63,66,71,66,66,66,71,68,71,68,68,68,62,65,71,63,68,69,69,71,71,62,70,70,73,71,69,66,65,71,68,64,71,67,66,71,62,67,67,66,64,62,65,63,64,65,68,72,64,62,69,64,61,72,66,69,65,64,62,66,62,66,70,75,67,66,71,75,72,64,65,67,63,62,69,70,63,71,63,71,63,68,65,66,66,66,65,66,67,68,68,69,64,67,63,67,64,66,65,68,66,71,74,65,68,68,72,74,61,65,63,66,66,73,63,68,73,63,65,66,65,66,65,70,70,68,64,68,62,68,61,69,65,65,72,70,65,69,65,69,65,72,70,64,67,69,70,65,69,74,66,72,67,75,70,63,65,64,65,70,67,67,68,65,61,63,80,69,55,70,65,68,64,69,89,67,92,67,70,68,70,67,69,67,69,63,69,66,68,69,66,72,62,67,67,67,65,67,66,70,71,64,69,72,60,71,71,66,74,64,68,66,65,64,65,69,68,62,63,65,62,67,64,61,65,67,70,59,75,67,64,72,76,69,65,72,69,71,64,74,68,66,65,67,69,66,69,67,64,67,61,61,68,66,66,68,63,66,66,66,65,69,71,66,66,65,71,69,61,70,70,65,64,68,63,63,71,58,68,65,65,68,69,71,65,64,75,67,68,72,67,72,69,68,70,69,67,63,61,66,73,67,72,69,69,63,67,63,66,62,68,65,59,72,63,68,61,65,68,61,63,67,66,75,68,65,64,67,64,67,63,67,65,70,62,69,70,68,68,64,63,68,67,68,66,67,69,68,70,68,66,67,65,67,63,64,64,66,68,67,72,67,66,66,67,65,70,69,69,66,66,67,67,67,72,68,70,69,65,72,69,68,62,60,67,67,67,63,71,66,65,69,63,64,67,62,68,71,66,69,71,66,72,70,65,64,63,63,66,68,74,71,67,66,67,62,68,62,82,70,72,64,66,68,64,61,69,68,64,67,67,65,68,67,67,64,70,69,66,69,66,73,66,69,70,71,70,69,63,71,67,73,68,69,76,68,65,66,65,69,71,66,69,59,65,72,60,64,69,70,67,67,64,68,72,65,70,75,65,63,71,66,69,68,71,77,70,66,73,62,65,71,66,72,64,63,63,72,71,72,65,67,68,66,72,71,70,68,72,66,69,65,62,69,65,69,69,73,75,70,74,65,63,74,67,71,68,69,71,66,65,66,65,67,70,63,64,71,68,72,71,64,64,66,68,68,65,67,64,70,65,65,68,61,63,65,69,64,69,67,74,66,72,73,73,63,69,71,63,69,72,68,62,68,71,67,65,60,68,59,64,71,68,70,62,62,68,68,74,61,67,65,101,65,67,61,64,64,67,69,69,67,62,66,72,67,66,67,67,68,63,62,65,65,70,73,73,68,63,62,69,66,68,67,65,70,64,65,67,62,66,68,64,69,69,67,61,70,65,66,66,69,67,71,68,67,63,64,73,69,65,70,67,67,70,69,68,66,62,67,71,68,66,64,71,61,67,65,66,68,66,63,66,73,88,67,69,67,64,64,65,68,77,63,69,69,70,73,66,71,66,71,66,63,70,66,66,66,62,69,63,68,64,69,71,71,66,63,72,70,71,65,65,67,68,70,70,72,65,65,71,74,64,64,65,67,73,72,65,67,66,70,66,66,68,68,67,65,64,70,63,65,67,71,73,67,72,71,72,68,65,68,67,66,64,65,69,68,69,70,65,63,71,68,70,72,64,64,66,69,71,69,67,66,71,63,62,73,66,72,67,65,66,68,69,68,61,68,64,67,68,61,66,64,67,64,72,62,63,70,69,64,66,67,71,70,69,68,64,70,69,63,60,65,67,66,68,58,67,68,62,69,73,66,67,71,66,74,67,68,61,69,65,71,61,70,70,69,70,67,63,70,61,64,65,65,66,66,63,66,64,65,62,71,63,70,70,65,66,66,68,68,69,71,69,68,67,72,68,60,68,65,67,70,70,61,68,67,62,66,69,66,64,66,63,62,65,68,65,63,68,72,69,66,68,64,61,67,68,74,67,64,69,63,67,65,67,68,62,70,67,89,65,69,64,74,64,64,67,63,68,66,68,68,69,71,65,67,65,65,80,74,59,69,66,66,65,67,69,68,73,71,67,67,66,63,65,67,69,67,66,74,69,66,69,63,65,64,64,69,73,62,62,68,66,68,66,69,62,68,67,65,69,67,64,62,71,72,74,66,72,65,67,70,62,66,65,70,69,70,66,73,69,66,65,70,70,67,68,68,61,70,65,66,67,69,69,67,66,63,67,64,68,65,65,65,70,62,68,62,68,72,70,62,79,73,68,68,69,63,74,69,61,69,64,63,68,72,65,69,70,63,62,72,69,66,71,62,68,63,66,75,69,68,69,67,73,71,71,68,70,71,69,63,71,69,71,68,68,66,67,59,66,64,64,69,69,61,62,61,63,71,65,68,67,70,64,71,71,67,63,66,70,70,67,69,66,67,65,72,68,72,76,65,68,65,66,63,63,66,69,72,66,64,67,67,66,68,65,71,71,62,69,65,70,66,70,70,69,71,69,73,65,62,67,65,65,70,70,71,71,62,65,84,68,70,68,67,69,68,59,67,63,65,63,64,72,63,66,67,66,66,68,66,68,65,67,64,59,60,65,64,66,65,69,66,65,62,60,68,64,73,64,69,63,65,65,67,67,66,68,65,66,66,69,70,71,70,68,73,68,66,67,66,69,67,61,70,70,70,64,65,70,62,64,67,63,62,72,69,72,68,64,72,73,67,64,65,67,68,72,71,66,59,68,64,70,65,72,66,68,62,70,70,64,76,67,69,68,67,69,67,73,71,70,65,73,65,73,70,66,66,64,68,70,72,66,74,67,71,60,68,69,74,71,63,66,65,60,69,69,67,65,70,71,73,70,67,67,65,69,65,68,74,68,61,67,66,69,62,71,71,72,69,67,63,68,69,65,70,65,67,72,69,69,71,67,65,70,63,71,64,69,69,70,64,70,74,69,73,66,67,76,61,68,63,67,66,62,69,67,66,63,64,64,67,66,68,62,68,63,62,72,69,67,65,69,72,70,91,65,62,65,67,67,72,60,69,61,70,68,75,75,72,66,71,70,63,72,65,71,65,69,71,68,66,60,68,67,71,74,70,63,64,66,64,69,71,64,65,69,68,68,68,65,65,66,66,71,68,65,63,66,71,65,68,66,64,70,70,66,70,71,70,70,66,64,66,68,61,72,66,68,61,67,66,74,66,67,71,66,71,72,66,62,66,69,64,69,69,64,68,63,64,69,71,67,67,66,67,68,69,62,66,63,67,68,66,66,67,66,69,72,60,68,72,64,65,76,59,67,73,64,67,69,69,67,72,86,62,69,68,99,70,68,67,66,66,62,72,64,68,66,68,75,67,65,68,67,63,67,67,73,67,71,67,68,68,66,68,63,68,74,65,69,70,65,68,65,68,68,66,70,66,64,70,68,74,71,61,64,64,73,62,71,68,67,63,71,72,66,67,66,68,64,65,66,69,64,65,72,65,70,64,62,69,62,69,66,71,66,64,63,69,68,63,64,66,71,72,88,66,65,66,62,68,65,62,74,64,72,70,65,66,67,73,65,74,66,67,58,71,63,73,68,66,68,66,62,78,68,77,65,73,64,67,69,60,66,70,66,64,70,58,69,64,72,60,70,62,66,66,65,64,72,71,68,68,64,65,64,75,61,68,70,71,66,66,70,62,72,72,63,69,68,67,71,67,62,69,67,71,87,62,64,74,69,65,66,70,68,70,68,69,66,65,71,66,61,69,65,63,73,68,70,72,68,68,71,68,70,70,69,73,72,67,69,68,64,71,68,70,72,65,70,69,64,67,65,62,68,68,68,68,62,72,69,68,71,69,71,65,68,60,68,66,66,62,61,69,69,74,62,67,69,66,72,69,65,72,69,60,61,63,63,68,68,65,71,64,65,67,67,67,87,67,72,69,65,66,70,71,67,72,63,67,72,72,70,67,68,67,70,67,71,69,74,63,72,71,64,69,62,69,68,67,71,70,63,60,69,71,69,73,73,68,67,74,68,69,69,68,66,69,66,72,69,68,66,65,71,61,63,66,69,71,73,72,73,65,71,65,67,69,63,68,70,64,64,68,65,70,66,70,66,69,69,64,64,69,67,63,67,65,64,68,64,70,70,67,69,70,69,65,66,70,63,69,74,70,66,68,67,66,65,66,69,67,69,66,64,61,61,70,65,67,69,63,66,73,68,74,70,68,67,65,66,64,72,70,60,68,71,68,67,70,65,60,65,70,69,64,67,73,74,67,66,69,64,69,66,65,67,67,68,65,66,65,71,63,70,70,67,68,63,70,69,66,70,68,70,67,69,64,62,71,69,62,66,64,66,72,71,65,65,70,68,57,59,64,67,60,67,65,71,67,69,68,59,75,59,71,71,66,69,65,68,68,67,68,68,88,66,67,63,68,65,67,67,67,64,61,65,70,67,68,65,63,72,68,73,71,70,68,68,68,71,70,67,61,64,72,67,65,64,66,62,70,64,70,66,62,63,66,58,70,63,70,65,67,73,82,71,73,65,67,67,69,61,64,64,68,62,66,70,67,70,65,65,70,72,65,71,71,72,64,72,71,66,71,67,69,67,71,66,62,67,70,72,69,70,64,65,66,68,72,65,60,63,66,73,71,59,70,63,67,65,64,71,70,63,68,67,66,63,65,66,65,65,63,65,62,66,71,64,67,68,63,64,74,68,68,69,61,69,61,67,63,68,68,67,69,64,67,70,72,71,62,67,64,64,70,68,70,65,59,69,67,68,62,65,69,65,68,68,71,71,66,71,66,66,69,65,66,67,66,69,66,64,70,62,67,60,66,72,63,69,66,69,68,66,63,70,68,68,67,67,69,68,67,70,70,66,61,68,64,66,65,73,66,65,68,69,72,63,65,69,62,66,69,67,94,71,61,68,66,71,66,60,60,66,67,67,64,66,68,70,75,86,73,61,68,70,71,71,68,70,70,62,67,68,68,64,68,69,70,73,66,68,68,65,66,62,67,73,65,70,68,67,66,65,66,66,60,66,68,72,68,67,62,66,69,64,63,74,72,71,64,65,75,69,65,60,69,65,67,70,66,69,69,68,70,66,65,65,65,69,69,65,76,72,67,74,66,66,66,71,66,65,69,69,63,68,64,64,73,66,67,63,61,71,61,62,74,65,64,66,72,76,67,71,65,68,68,67,64,60,70,73,69,70,64,64,65,62,64,72,64,67,64,61,72,70,70,71,68,68,70,73,69,71,64,68,69,70,67,66,65,66,61,71,60,66,61,68,68,65,65,60,67,65,70,64,68,69,65,71,65,65,68,66,65,71,68,70,74,62,61,70,65,62,65,68,70,68,69,73,71,63,66,67,64,66,69,72,63,67,64,68,71,67,67,64,63,72,63,67,68,64,65,68,66,73,68,72,70,66,66,66,65,71,66,63,63,58,68,61,65,67,67,62,86,71,70,71,71,70,67,60,73,67,62,67,65,61,61,60,68,65,67,67,74,64,64,67,74,69,62,66,69,68,74,68,73,70,69,68,71,64,71,65,68,67,67,67,63,68,66,67,68,72,70,62,69,61,58,63,71,70,64,63,63,71,65,68,70,68,69,70,67,69,73,68,67,67,64,63,67,70,71,74,70,59,64,67,63,66,62,65,73,70,62,68,74,96,66,69,70,73,69,71,65,62,69,65,68,65,72,67,68,68,66,62,65,60,70,68,72,63,63,67,68,69,75,67,69,65,65,63,65,58,70,66,63,62,69,66,68,62,64,65,64,65,65,70,71,65,67,68,73,64,71,70,68,68,68,59,74,62,64,76,70,69,69,74,62,70,71,68,66,67,71,74,65,60,69,65,69,70,65,57,68,67,70,68,62,67,66,60,65,75,67,71,63,67,68,65,72,61,60,72,72,70,67,71,66,72,70,71,64,66,64,67,67,64,61,99,67,72,66,68,64,69,65,66,73,63,66,65,71,58,68,69,63,66,69,69,63,65,76,67,70,60,68,68,70,68,69,62,64,71,68,72,64,73,69,70,69,64,66,69,68,65,62,75,60,63,66,67,68,72,66,63,71,67,66,66,68,66,68,68,68,66,66,70,68,65,70,66,68,64,69,65,69,66,68,70,65,65,68,67,72,70,72,71,64,69,73,70,68,71,71,66,68,70,72,66,65,66,65,72,68,68,67,68,67,69,65,70,64,66,64,66,67,68,71,67,69,67,61,68,67,64,63,72,69,66,64,61,71,63,65,71,78,73,65,66,66,74,62,66,71,67,69,72,72,65,71,64,61,69,65,69,64,69,68,63,66,65,66,67,62,66,68,68,63,66,65,72,70,63,65,65,66,68,64,66,68,64,62,67,67,65,59,66,68,63,68,68,66,63,61,68,66,69,64,68,66,68,62,68,69,70,65,68,67,64,63,67,66,67,63,69,70,70,65,64,67,61,70,68,64,68,68,63,65,69,63,69,61,69,62,58,71,69,68,61,67,68,72,71,67,68,64,73,65,67,63,63,69,68,68,69,73,66,68,65,67,70,66,64,69,71,68,68,66,70,65,63,70,67,63,64,60,62,65,69,68,66,72,68,69,65,65,70,67,73,70,66,68,61,70,66,67,69,64,65,75,63,69,68,66,66,66,68,65,70,68,70,61,61,64,71,72,66,63,62,65,66,72,68,70,70,73,67,65,65,65,70,66,65,68,66,65,71,65,70,69,71,67,64,82,66,66,65,61,72,70,71,84,72,67,72,70,62,71,62,68,74,68,64,65,66,68,67,67,63,71,63,66,67,66,70,64,71,68,64,66,72,66,70,66,68,70,64,71,72,71,63,68,63,66,63,72,70,65,67,66,69,73,66,70,68,65,67,71,70,61,69,63,67,65,63,67,66,72,68,67,72,66,73,71,65,65,65,68,70,68,62,66,65,71,61,63,67,70,73,72,69,61,71,64,61,63,65,73,68,72,62,63,58,68,74,68,67,65,63,71,62,66,65,66,71,68,72,66,66,67,71,72,64,60,64,70,72,68,62,68,72,60,72,65,63,66,65,65,67,65,67,66,71,64,61,65,61,64,69,71,70,70,62,73,66,66,66,66,65,67,76,66,63,71,63,67,63,66,72,70,62,69,66,64,70,67,71,69,70,70,61,65,67,70,67,68,69,65,68,67,70,68,69,70,67,70,74,63,72,62,71,68,72,64,64,63,66,71,70,67,73,64,65,62,64,67,74,63,64,64,70,71,63,66,65,70,65,68,72,67,65,66,67,65,68,68,69,71,64,65,64,67,70,66,70,70,64,71,63,72,72,61,63,67,67,65,64,69,65,71,70,98,65,63,61,67,64,65,73,69,67,63,67,66,64,68,61,66,65,65,67,68,63,70,68,69,67,69,65,61,65,67,66,69,71,68,65,64,68,64,71,70,68,63,61,66,75,71,69,62,65,61,69,66,64,69,78,68,70,68,68,69,68,80,67,64,64,68,67,65,66,67,64,66,63,71,62,64,72,65,67,65,63,65,67,67,65,64,64,69,60,70,66,66,68,62,70,72,64,71,67,64,64,72,66,68,95,64,64,68,67,67,71,63,66,65,68,68,62,67,65,71,71,61,70,60,70,67,66,63,65,75,66,61,65,61,73,73,63,67,62,71,70,70,69,66,72,63,65,71,66,69,62,66,66,64,63,68,68,67,67,68,65,74,85,64,67,68,67,65,63,64,62,68,75,63,68,63,68,62,67,66,65,69,70,64,75,66,62,70,68,66,65,68,68,62,66,68,69,67,74,61,64,69,66,61,71,71,69,66,64,68,71,66,94,68,66,70,68,65,64,69,59,70,72,64,63,67,62,69,66,66,63,62,58,67,68,67,67,62,66,65,67,69,67,69,62,67,63,65,66,71,70,68,67,71,65,64,69,68,67,71,64,69,68,69,67,58,66,69,70,70,70,66,61,71,69,69,65,69,74,71,68,69,68,63,68,67,71,66,69,68,63,69,66,71,68,69,65,68,67,65,65,64,69,64,66,65,69,66,64,61,72,67,63,69,70,71,60,70,69,63,69,71,68,64,68,69,65,68,74,72,67,73,68,61,70,62,67,69,93,68,69,68,64,69,66,68,72,63,73,65,65,68,70,65,66,66,65,69,69,64,66,63,68,68,65,69,66,63,72,67,67,68,71,73,68,69,69,63,62,70,66,62,64,63,71,67,67,67,71,69,93,72,71,63,65,61,66,61,67,64,69,64,70,73,63,68,64,69,69,67,69,62,66,68,71,66,62,68,59,70,66,65,66,73,65,65,64,69,74,68,65,72,71,69,67,71,68,63,69,68,73,69,58,65,63,59,58,66,67,67,67,65,71,66,68,65,71,64,72,69,70,66,70,62,66,70,63,73,70,71,65,64,66,82,68,67,68,69,63,66,68,71,69,70,70,73,68,65,72,67,68,69,70,69,68,65,70,65,61,69,67,65,63,67,76,70,67,66,65,65,63,74,72,68,62,65,69,61,67,66,70,72,69,68,74,70,67,68,69,66,66,68,60,69,66,77,63,66,64,63,68,65,65,64,68,62,67,73,69,65,66,73,72,72,61,69,66,74,64,66,64,66,72,71,70,67,71,63,64,64,65,65,62,65,64,74,67,66,70,68,64,58,65,68,64,66,92,69,68,63,64,68,67,68,66,66,68,64,63,62,66,65,66,66,69,67,75,73,66,61,68,67,66,69,69,67,65,63,63,66,66,69,72,70,68,66,67,68,62,64,71,65,69,65,71,69,65,66,68,72,74,64,64,63,66,67,64,62,66,71,63,72,71,61,71,69,74,61,68,67,70,69,72,66,67,70,68,68,65,63,62,66,62,61,63,65,64,74,70,63,68,69,70,62,71,69,69,68,65,65,65,72,63,68,72,66,71,67,61,70,64,64,68,70,65,67,65,65,65,66,62,63,63,70,67,66,63,66,67,68,67,66,71,69,72,70,68,68,67,62,67,69,64,66,69,70,69,72,61,68,68,66,65,66,67,68,67,63,64,66,69,70,72,71,63,68,67,69,65,69,71,67,64,68,67,62,68,72,61,67,70,59,70,60,74,68,67,67,66,63,62,64,68,65,71,68,62,68,68,67,67,70,69,70,69,70,72,59,64,72,70,63,66,72,71,71,62,62,64,65,68,67,61,68,68,62,62,74,68,66,67,65,66,67,76,66,68,63,65,63,59,74,62,59,71,73,68,68,66,69,70,74,75,71,71,65,65,65,67,67,67,71,72,62,70,72,64,66,69,71,68,63,71,65,66,68,61,71,70,66,61,67,72,65,68,70,63,69,62,71,64,69,71,63,72,66,69,60,68,65,67,66,68,63,73,66,67,66,60,67,67,70,69,68,67,63,70,71,67,64,66,70,65,68,65,65,69,63,70,64,62,66,73,72,68,62,67,62,72,67,68,65,79,66,68,65,67,67,67,68,72,65,65,70,67,68,63,68,69,66,64,69,62,65,70,72,66,70,67,65,68,62,68,69,72,65,63,68,62,69,65,74,70,65,70,59,63,64,63,67,65,67,73,64,65,72,72,66,62,68,67,69,67,63,65,71,70,68,65,68,69,62,62,72,64,58,66,64,68,69,71,71,67,71,64,62,70,63,66,65,69,63,64,66,67,66,65,72,70,67,64,72,65,62,67,64,63,72,66,70,66,70,67,64,67,72,72,68,64,66,68,66,70,70,62,69,69,66,68,71,64,67,68,67,68,69,71,68,65,63,65,72,67,69,67,64,62,71,70,64,69,65,73,64,64,70,70,64,64,66,66,74,69,67,73,66,67,75,73,67,65,71,63,68,72,67,71,67,66,72,64,68,65,74,65,63,65,70,71,66,69,67,64,67,67,70,71,68,65,70,64,67,63,65,70,67,60,64,65,64,67,71,69,70,69,69,64,63,67,66,69,69,69,72,65,63,69,69,64,69,72,62,66,65,69,65,67,63,66,61,64,64,65,68,69,61,72,61,66,60,69,72,69,71,64,71,64,67,67,66,73,73,70,70,62,68,65,73,65,66,64,63,62,70,65,64,70,62,67,66,74,69,70,68,70,71,73,69,61,68,66,67,64,67,61,65,62,69,61,69,64,65,64,68,67,68,61,69,64,74,66,68,65,66,66,65,67,65,63,67,70,68,66,67,72,68,66,62,65,67,62,66,67,68,66,68,62,64,68,71,63,62,69,62,71,69,66,64,65,68,69,68,71,66,65,68,72,75,67,67,70,64,65,68,67,66,69,64,68,68,65,65,65,67,63,62,73,72,71,67,66,68,70,66,56,71,64,65,70,70,71,70,62,72,62,67,58,69,60,72,66,66,69,70,70,70,67,67,59,67,65,68,71,61,63,67,69,70,69,66,70,67,61,74,70,66,73,62,65,62,64,63,69,63,67,65,71,71,69,71,68,70,71,68,69,71,63,66,67,71,59,67,66,72,70,68,63,69,67,75,67,74,66,65,60,63,69,64,68,63,65,74,65,61,66,67,66,69,65,65,66,73,64,67,67,68,71,64,67,68,67,70,64,63,71,64,70,70,67,62,69,69,62,70,66,69,65,66,69,66,65,66,63,72,62,64,61,70,67,66,66,68,67,65,70,69,68,61,65,71,66,62,61,67,66,71,62,67,64,68,67,63,70,67,71,62,75,72,73,64,73,66,69,70,70,71,64,71,63,68,71,65,66,72,65,60,67,65,64,72,62,67,67,69,65,62,69,72,63,64,67,70,64,69,72,69,75,67,67,66,64,68,66,69,65,70,57,69,70,63,66,64,65,64,62,71,64,72,64,71,68,68,68,69,67,66,65,63,62,67,65,66,66,64,67,67,61,66,66,67,64,64,67,68,64,63,68,64,70,64,59,71,67,73,66,73,62,69,66,68,65,67,64,67,66,68,68,64,63,72,75,71,71,66,71,61,65,58,62,69,65,69,68,70,72,66,68,67,61,64,74,64,64,61,71,72,68,69,74,70,69,64,71,65,71,71,66,64,70,61,71,65,59,63,64,63,70,70,72,65,71,70,66,64,64,59,65,66,67,62,65,73,70,75,66,65,64,70,71,68,64,67,65,62,68,66,69,68,71,68,64,66,70,60,69,65,66,64,71,66,66,68,63,66,61,70,68,65,69,67,62,61,70,65,65,66,66,69,70,63,64,65,71,61,69,69,66,72,60,62,66,69,69,71,57,72,66,66,70,67,65,63,68,63,63,68,60,67,65,68,62,65,66,67,60,74,62,61,63,66,65,72,70,71,64,70,68,61,68,64,64,71,72,66,74,65,64,69,62,62,72,73,64,65,70,66,70,63,69,64,63,66,68,97,67,71,66,72,70,69,66,69,65,75,70,70,69,68,73,74,66,74,67,67,70,67,80,70,71,64,68,68,69,72,65,64,64,58,69,61,68,66,68,70,62,71,61,64,65,63,74,68,65,66,69,69,70,70,71,72,61,68,66,70,63,68,62,69,69,72,64,63,70,69,61,70,64,76,73,67,69,72,66,70,73,68,66,67,67,62,72,65,69,69,69,69,69,70,67,69,75,66,63,64,66,72,71,70,67,65,65,73,66,62,71,66,65,75,74,65,71,65,65,67,67,66,67,66,65,59,69,63,65,61,68,65,61,69,72,59,63,69,67,70,67,66,68,71,69,65,66,66,67,74,66,72,69,68,71,61,65,71,59,71,72,71,61,67,67,74,66,63,63,68,65,66,67,67,70,65,68,70,66,69,65,68,65,70,65,67,64,68,70,64,67,68,67,66,66,66,67,69,65,68,67,69,64,67,67,67,67,68,65,70,68,72,67,66,68,64,75,66,67,71,68,65,67,66,60,64,69,64,66,72,60,69,62,70,65,77,71,66,74,70,69,64,69,68,63,61,61,65,65,69,69,65,72,69,71,67,72,70,68,66,68,71,63,70,65,70,65,68,69,66,62,70,65,71,68,65,70,69,66,66,67,63,70,65,70,74,69,68,64,73,66,65,66,67,67,66,69,69,68,64,70,67,68,67,73,65,69,63,68,64,68,66,65,69,69,64,74,64,63,64,71,68,72,67,64,70,65,69,65,66,67,68,65,68,63,71,71,65,65,61,68,65,66,69,65,65,70,70,67,75,65,66,67,67,62,66,66,64,60,70,72,67,67,72,63,60,65,72,70,71,66,72,73,71,64,66,69,66,63,62,98,71,66,75,68,69,68,60,64,71,69,60,70,66,68,67,70,69,75,65,65,66,64,66,70,63,66,71,68,68,71,63,60,73,68,70,66,72,70,68,60,68,74,68,72,69,98,68,70,69,64,65,69,67,65,70,68,65,74,65,65,68,68,74,71,67,64,61,66,61,73,70,70,63,69,72,66,68,67,65,68,68,69,66,58,60,67,65,62,65,69,70,70,63,69,64,69,70,64,65,70,60,68,61,68,61,64,66,70,65,74,66,65,69,69,69,66,63,69,65,67,66,67,65,69,65,67,66,64,70,65,65,64,64,61,65,68,70,74,60,71,70,67,68,64,67,65,66,72,69,65,71,72,70,63,66,67,67,62,72,69,61,67,66,68,62,63,70,68,71,65,59,64,67,68,95,70,68,65,70,67,69,68,72,71,75,70,66,67,70,71,64,65,64,62,64,66,64,71,68,70,66,71,68,66,66,65,64,67,65,69,69,69,68,67,68,65,69,73,76,69,69,68,70,64,73,64,65,69,62,64,64,67,69,67,65,63,66,70,70,67,65,70,66,66,72,64,70,71,66,70,64,70,67,65,68,69,68,68,64],\"type\":\"scatter3d\"}],                        {\"template\":{\"data\":{\"histogram2dcontour\":[{\"type\":\"histogram2dcontour\",\"colorbar\":{\"outlinewidth\":0,\"ticks\":\"\"},\"colorscale\":[[0.0,\"#0d0887\"],[0.1111111111111111,\"#46039f\"],[0.2222222222222222,\"#7201a8\"],[0.3333333333333333,\"#9c179e\"],[0.4444444444444444,\"#bd3786\"],[0.5555555555555556,\"#d8576b\"],[0.6666666666666666,\"#ed7953\"],[0.7777777777777778,\"#fb9f3a\"],[0.8888888888888888,\"#fdca26\"],[1.0,\"#f0f921\"]]}],\"choropleth\":[{\"type\":\"choropleth\",\"colorbar\":{\"outlinewidth\":0,\"ticks\":\"\"}}],\"histogram2d\":[{\"type\":\"histogram2d\",\"colorbar\":{\"outlinewidth\":0,\"ticks\":\"\"},\"colorscale\":[[0.0,\"#0d0887\"],[0.1111111111111111,\"#46039f\"],[0.2222222222222222,\"#7201a8\"],[0.3333333333333333,\"#9c179e\"],[0.4444444444444444,\"#bd3786\"],[0.5555555555555556,\"#d8576b\"],[0.6666666666666666,\"#ed7953\"],[0.7777777777777778,\"#fb9f3a\"],[0.8888888888888888,\"#fdca26\"],[1.0,\"#f0f921\"]]}],\"heatmap\":[{\"type\":\"heatmap\",\"colorbar\":{\"outlinewidth\":0,\"ticks\":\"\"},\"colorscale\":[[0.0,\"#0d0887\"],[0.1111111111111111,\"#46039f\"],[0.2222222222222222,\"#7201a8\"],[0.3333333333333333,\"#9c179e\"],[0.4444444444444444,\"#bd3786\"],[0.5555555555555556,\"#d8576b\"],[0.6666666666666666,\"#ed7953\"],[0.7777777777777778,\"#fb9f3a\"],[0.8888888888888888,\"#fdca26\"],[1.0,\"#f0f921\"]]}],\"heatmapgl\":[{\"type\":\"heatmapgl\",\"colorbar\":{\"outlinewidth\":0,\"ticks\":\"\"},\"colorscale\":[[0.0,\"#0d0887\"],[0.1111111111111111,\"#46039f\"],[0.2222222222222222,\"#7201a8\"],[0.3333333333333333,\"#9c179e\"],[0.4444444444444444,\"#bd3786\"],[0.5555555555555556,\"#d8576b\"],[0.6666666666666666,\"#ed7953\"],[0.7777777777777778,\"#fb9f3a\"],[0.8888888888888888,\"#fdca26\"],[1.0,\"#f0f921\"]]}],\"contourcarpet\":[{\"type\":\"contourcarpet\",\"colorbar\":{\"outlinewidth\":0,\"ticks\":\"\"}}],\"contour\":[{\"type\":\"contour\",\"colorbar\":{\"outlinewidth\":0,\"ticks\":\"\"},\"colorscale\":[[0.0,\"#0d0887\"],[0.1111111111111111,\"#46039f\"],[0.2222222222222222,\"#7201a8\"],[0.3333333333333333,\"#9c179e\"],[0.4444444444444444,\"#bd3786\"],[0.5555555555555556,\"#d8576b\"],[0.6666666666666666,\"#ed7953\"],[0.7777777777777778,\"#fb9f3a\"],[0.8888888888888888,\"#fdca26\"],[1.0,\"#f0f921\"]]}],\"surface\":[{\"type\":\"surface\",\"colorbar\":{\"outlinewidth\":0,\"ticks\":\"\"},\"colorscale\":[[0.0,\"#0d0887\"],[0.1111111111111111,\"#46039f\"],[0.2222222222222222,\"#7201a8\"],[0.3333333333333333,\"#9c179e\"],[0.4444444444444444,\"#bd3786\"],[0.5555555555555556,\"#d8576b\"],[0.6666666666666666,\"#ed7953\"],[0.7777777777777778,\"#fb9f3a\"],[0.8888888888888888,\"#fdca26\"],[1.0,\"#f0f921\"]]}],\"mesh3d\":[{\"type\":\"mesh3d\",\"colorbar\":{\"outlinewidth\":0,\"ticks\":\"\"}}],\"scatter\":[{\"fillpattern\":{\"fillmode\":\"overlay\",\"size\":10,\"solidity\":0.2},\"type\":\"scatter\"}],\"parcoords\":[{\"type\":\"parcoords\",\"line\":{\"colorbar\":{\"outlinewidth\":0,\"ticks\":\"\"}}}],\"scatterpolargl\":[{\"type\":\"scatterpolargl\",\"marker\":{\"colorbar\":{\"outlinewidth\":0,\"ticks\":\"\"}}}],\"bar\":[{\"error_x\":{\"color\":\"#2a3f5f\"},\"error_y\":{\"color\":\"#2a3f5f\"},\"marker\":{\"line\":{\"color\":\"#E5ECF6\",\"width\":0.5},\"pattern\":{\"fillmode\":\"overlay\",\"size\":10,\"solidity\":0.2}},\"type\":\"bar\"}],\"scattergeo\":[{\"type\":\"scattergeo\",\"marker\":{\"colorbar\":{\"outlinewidth\":0,\"ticks\":\"\"}}}],\"scatterpolar\":[{\"type\":\"scatterpolar\",\"marker\":{\"colorbar\":{\"outlinewidth\":0,\"ticks\":\"\"}}}],\"histogram\":[{\"marker\":{\"pattern\":{\"fillmode\":\"overlay\",\"size\":10,\"solidity\":0.2}},\"type\":\"histogram\"}],\"scattergl\":[{\"type\":\"scattergl\",\"marker\":{\"colorbar\":{\"outlinewidth\":0,\"ticks\":\"\"}}}],\"scatter3d\":[{\"type\":\"scatter3d\",\"line\":{\"colorbar\":{\"outlinewidth\":0,\"ticks\":\"\"}},\"marker\":{\"colorbar\":{\"outlinewidth\":0,\"ticks\":\"\"}}}],\"scattermapbox\":[{\"type\":\"scattermapbox\",\"marker\":{\"colorbar\":{\"outlinewidth\":0,\"ticks\":\"\"}}}],\"scatterternary\":[{\"type\":\"scatterternary\",\"marker\":{\"colorbar\":{\"outlinewidth\":0,\"ticks\":\"\"}}}],\"scattercarpet\":[{\"type\":\"scattercarpet\",\"marker\":{\"colorbar\":{\"outlinewidth\":0,\"ticks\":\"\"}}}],\"carpet\":[{\"aaxis\":{\"endlinecolor\":\"#2a3f5f\",\"gridcolor\":\"white\",\"linecolor\":\"white\",\"minorgridcolor\":\"white\",\"startlinecolor\":\"#2a3f5f\"},\"baxis\":{\"endlinecolor\":\"#2a3f5f\",\"gridcolor\":\"white\",\"linecolor\":\"white\",\"minorgridcolor\":\"white\",\"startlinecolor\":\"#2a3f5f\"},\"type\":\"carpet\"}],\"table\":[{\"cells\":{\"fill\":{\"color\":\"#EBF0F8\"},\"line\":{\"color\":\"white\"}},\"header\":{\"fill\":{\"color\":\"#C8D4E3\"},\"line\":{\"color\":\"white\"}},\"type\":\"table\"}],\"barpolar\":[{\"marker\":{\"line\":{\"color\":\"#E5ECF6\",\"width\":0.5},\"pattern\":{\"fillmode\":\"overlay\",\"size\":10,\"solidity\":0.2}},\"type\":\"barpolar\"}],\"pie\":[{\"automargin\":true,\"type\":\"pie\"}]},\"layout\":{\"autotypenumbers\":\"strict\",\"colorway\":[\"#636efa\",\"#EF553B\",\"#00cc96\",\"#ab63fa\",\"#FFA15A\",\"#19d3f3\",\"#FF6692\",\"#B6E880\",\"#FF97FF\",\"#FECB52\"],\"font\":{\"color\":\"#2a3f5f\"},\"hovermode\":\"closest\",\"hoverlabel\":{\"align\":\"left\"},\"paper_bgcolor\":\"white\",\"plot_bgcolor\":\"#E5ECF6\",\"polar\":{\"bgcolor\":\"#E5ECF6\",\"angularaxis\":{\"gridcolor\":\"white\",\"linecolor\":\"white\",\"ticks\":\"\"},\"radialaxis\":{\"gridcolor\":\"white\",\"linecolor\":\"white\",\"ticks\":\"\"}},\"ternary\":{\"bgcolor\":\"#E5ECF6\",\"aaxis\":{\"gridcolor\":\"white\",\"linecolor\":\"white\",\"ticks\":\"\"},\"baxis\":{\"gridcolor\":\"white\",\"linecolor\":\"white\",\"ticks\":\"\"},\"caxis\":{\"gridcolor\":\"white\",\"linecolor\":\"white\",\"ticks\":\"\"}},\"coloraxis\":{\"colorbar\":{\"outlinewidth\":0,\"ticks\":\"\"}},\"colorscale\":{\"sequential\":[[0.0,\"#0d0887\"],[0.1111111111111111,\"#46039f\"],[0.2222222222222222,\"#7201a8\"],[0.3333333333333333,\"#9c179e\"],[0.4444444444444444,\"#bd3786\"],[0.5555555555555556,\"#d8576b\"],[0.6666666666666666,\"#ed7953\"],[0.7777777777777778,\"#fb9f3a\"],[0.8888888888888888,\"#fdca26\"],[1.0,\"#f0f921\"]],\"sequentialminus\":[[0.0,\"#0d0887\"],[0.1111111111111111,\"#46039f\"],[0.2222222222222222,\"#7201a8\"],[0.3333333333333333,\"#9c179e\"],[0.4444444444444444,\"#bd3786\"],[0.5555555555555556,\"#d8576b\"],[0.6666666666666666,\"#ed7953\"],[0.7777777777777778,\"#fb9f3a\"],[0.8888888888888888,\"#fdca26\"],[1.0,\"#f0f921\"]],\"diverging\":[[0,\"#8e0152\"],[0.1,\"#c51b7d\"],[0.2,\"#de77ae\"],[0.3,\"#f1b6da\"],[0.4,\"#fde0ef\"],[0.5,\"#f7f7f7\"],[0.6,\"#e6f5d0\"],[0.7,\"#b8e186\"],[0.8,\"#7fbc41\"],[0.9,\"#4d9221\"],[1,\"#276419\"]]},\"xaxis\":{\"gridcolor\":\"white\",\"linecolor\":\"white\",\"ticks\":\"\",\"title\":{\"standoff\":15},\"zerolinecolor\":\"white\",\"automargin\":true,\"zerolinewidth\":2},\"yaxis\":{\"gridcolor\":\"white\",\"linecolor\":\"white\",\"ticks\":\"\",\"title\":{\"standoff\":15},\"zerolinecolor\":\"white\",\"automargin\":true,\"zerolinewidth\":2},\"scene\":{\"xaxis\":{\"backgroundcolor\":\"#E5ECF6\",\"gridcolor\":\"white\",\"linecolor\":\"white\",\"showbackground\":true,\"ticks\":\"\",\"zerolinecolor\":\"white\",\"gridwidth\":2},\"yaxis\":{\"backgroundcolor\":\"#E5ECF6\",\"gridcolor\":\"white\",\"linecolor\":\"white\",\"showbackground\":true,\"ticks\":\"\",\"zerolinecolor\":\"white\",\"gridwidth\":2},\"zaxis\":{\"backgroundcolor\":\"#E5ECF6\",\"gridcolor\":\"white\",\"linecolor\":\"white\",\"showbackground\":true,\"ticks\":\"\",\"zerolinecolor\":\"white\",\"gridwidth\":2}},\"shapedefaults\":{\"line\":{\"color\":\"#2a3f5f\"}},\"annotationdefaults\":{\"arrowcolor\":\"#2a3f5f\",\"arrowhead\":0,\"arrowwidth\":1},\"geo\":{\"bgcolor\":\"white\",\"landcolor\":\"#E5ECF6\",\"subunitcolor\":\"white\",\"showland\":true,\"showlakes\":true,\"lakecolor\":\"white\"},\"title\":{\"x\":0.05},\"mapbox\":{\"style\":\"light\"}}},\"scene\":{\"domain\":{\"x\":[0.0,1.0],\"y\":[0.0,1.0]},\"xaxis\":{\"title\":{\"text\":\"Attendance\"}},\"yaxis\":{\"title\":{\"text\":\"Tutoring_Sessions\"}},\"zaxis\":{\"title\":{\"text\":\"Exam_Score\"}}},\"coloraxis\":{\"colorbar\":{\"title\":{\"text\":\"Exam_Score\"}},\"colorscale\":[[0.0,\"#440154\"],[0.1111111111111111,\"#482878\"],[0.2222222222222222,\"#3e4989\"],[0.3333333333333333,\"#31688e\"],[0.4444444444444444,\"#26828e\"],[0.5555555555555556,\"#1f9e89\"],[0.6666666666666666,\"#35b779\"],[0.7777777777777778,\"#6ece58\"],[0.8888888888888888,\"#b5de2b\"],[1.0,\"#fde725\"]]},\"legend\":{\"tracegroupgap\":0},\"margin\":{\"t\":60}},                        {\"responsive\": true}                    ).then(function(){\n",
              "                            \n",
              "var gd = document.getElementById('e41c4ab5-cd23-43a5-907b-e29eff7a82a1');\n",
              "var x = new MutationObserver(function (mutations, observer) {{\n",
              "        var display = window.getComputedStyle(gd).display;\n",
              "        if (!display || display === 'none') {{\n",
              "            console.log([gd, 'removed!']);\n",
              "            Plotly.purge(gd);\n",
              "            observer.disconnect();\n",
              "        }}\n",
              "}});\n",
              "\n",
              "// Listen for the removal of the full notebook cells\n",
              "var notebookContainer = gd.closest('#notebook-container');\n",
              "if (notebookContainer) {{\n",
              "    x.observe(notebookContainer, {childList: true});\n",
              "}}\n",
              "\n",
              "// Listen for the clearing of the current output cell\n",
              "var outputEl = gd.closest('.output');\n",
              "if (outputEl) {{\n",
              "    x.observe(outputEl, {childList: true});\n",
              "}}\n",
              "\n",
              "                        })                };                            </script>        </div>\n",
              "</body>\n",
              "</html>"
            ]
          },
          "metadata": {}
        }
      ]
    }
  ],
  "metadata": {
    "kernelspec": {
      "display_name": "Python 3 (ipykernel)",
      "language": "python",
      "name": "python3"
    },
    "language_info": {
      "codemirror_mode": {
        "name": "ipython",
        "version": 3
      },
      "file_extension": ".py",
      "mimetype": "text/x-python",
      "name": "python",
      "nbconvert_exporter": "python",
      "pygments_lexer": "ipython3",
      "version": "3.11.7"
    },
    "colab": {
      "provenance": []
    }
  },
  "nbformat": 4,
  "nbformat_minor": 5
}